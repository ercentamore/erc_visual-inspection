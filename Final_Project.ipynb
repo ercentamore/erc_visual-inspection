{
  "cells": [
    {
      "cell_type": "markdown",
      "metadata": {
        "id": "view-in-github",
        "colab_type": "text"
      },
      "source": [
        "<a href=\"https://colab.research.google.com/github/ercentamore/erc_visual-inspection/blob/main/Final_Project.ipynb\" target=\"_parent\"><img src=\"https://colab.research.google.com/assets/colab-badge.svg\" alt=\"Open In Colab\"/></a>"
      ]
    },
    {
      "cell_type": "markdown",
      "metadata": {
        "id": "HcyC00GI23Pq"
      },
      "source": [
        "# **Final Project**"
      ]
    },
    {
      "cell_type": "markdown",
      "metadata": {
        "id": "fk7pn0LtIX5t"
      },
      "source": [
        "### **Import and setup**"
      ]
    },
    {
      "cell_type": "code",
      "source": [
        "from google.colab import drive\n",
        "drive.mount('/content/drive', force_remount=True)"
      ],
      "metadata": {
        "colab": {
          "base_uri": "https://localhost:8080/"
        },
        "id": "RdIVEZsIJYW1",
        "outputId": "87ca3739-7790-4512-d259-996e096f275b"
      },
      "execution_count": 43,
      "outputs": [
        {
          "output_type": "stream",
          "name": "stdout",
          "text": [
            "Mounted at /content/drive\n"
          ]
        }
      ]
    },
    {
      "cell_type": "code",
      "execution_count": 38,
      "metadata": {
        "id": "GV1dcehj3ppL",
        "colab": {
          "base_uri": "https://localhost:8080/"
        },
        "outputId": "f5464854-23ce-4a90-cd27-32c2e88233b8"
      },
      "outputs": [
        {
          "output_type": "stream",
          "name": "stdout",
          "text": [
            "Requirement already satisfied: sync_batchnorm in /usr/local/lib/python3.11/dist-packages (0.0.1)\n",
            "Collecting pytorch-pretrained-biggan\n",
            "  Downloading pytorch_pretrained_biggan-0.1.1-py3-none-any.whl.metadata (11 kB)\n",
            "Requirement already satisfied: torch>=0.4.1 in /usr/local/lib/python3.11/dist-packages (from pytorch-pretrained-biggan) (2.6.0+cu124)\n",
            "Requirement already satisfied: numpy in /usr/local/lib/python3.11/dist-packages (from pytorch-pretrained-biggan) (2.0.2)\n",
            "Collecting boto3 (from pytorch-pretrained-biggan)\n",
            "  Downloading boto3-1.37.38-py3-none-any.whl.metadata (6.7 kB)\n",
            "Requirement already satisfied: requests in /usr/local/lib/python3.11/dist-packages (from pytorch-pretrained-biggan) (2.32.3)\n",
            "Requirement already satisfied: tqdm in /usr/local/lib/python3.11/dist-packages (from pytorch-pretrained-biggan) (4.67.1)\n",
            "Requirement already satisfied: filelock in /usr/local/lib/python3.11/dist-packages (from torch>=0.4.1->pytorch-pretrained-biggan) (3.18.0)\n",
            "Requirement already satisfied: typing-extensions>=4.10.0 in /usr/local/lib/python3.11/dist-packages (from torch>=0.4.1->pytorch-pretrained-biggan) (4.13.2)\n",
            "Requirement already satisfied: networkx in /usr/local/lib/python3.11/dist-packages (from torch>=0.4.1->pytorch-pretrained-biggan) (3.4.2)\n",
            "Requirement already satisfied: jinja2 in /usr/local/lib/python3.11/dist-packages (from torch>=0.4.1->pytorch-pretrained-biggan) (3.1.6)\n",
            "Requirement already satisfied: fsspec in /usr/local/lib/python3.11/dist-packages (from torch>=0.4.1->pytorch-pretrained-biggan) (2025.3.2)\n",
            "Collecting nvidia-cuda-nvrtc-cu12==12.4.127 (from torch>=0.4.1->pytorch-pretrained-biggan)\n",
            "  Downloading nvidia_cuda_nvrtc_cu12-12.4.127-py3-none-manylinux2014_x86_64.whl.metadata (1.5 kB)\n",
            "Collecting nvidia-cuda-runtime-cu12==12.4.127 (from torch>=0.4.1->pytorch-pretrained-biggan)\n",
            "  Downloading nvidia_cuda_runtime_cu12-12.4.127-py3-none-manylinux2014_x86_64.whl.metadata (1.5 kB)\n",
            "Collecting nvidia-cuda-cupti-cu12==12.4.127 (from torch>=0.4.1->pytorch-pretrained-biggan)\n",
            "  Downloading nvidia_cuda_cupti_cu12-12.4.127-py3-none-manylinux2014_x86_64.whl.metadata (1.6 kB)\n",
            "Collecting nvidia-cudnn-cu12==9.1.0.70 (from torch>=0.4.1->pytorch-pretrained-biggan)\n",
            "  Downloading nvidia_cudnn_cu12-9.1.0.70-py3-none-manylinux2014_x86_64.whl.metadata (1.6 kB)\n",
            "Collecting nvidia-cublas-cu12==12.4.5.8 (from torch>=0.4.1->pytorch-pretrained-biggan)\n",
            "  Downloading nvidia_cublas_cu12-12.4.5.8-py3-none-manylinux2014_x86_64.whl.metadata (1.5 kB)\n",
            "Collecting nvidia-cufft-cu12==11.2.1.3 (from torch>=0.4.1->pytorch-pretrained-biggan)\n",
            "  Downloading nvidia_cufft_cu12-11.2.1.3-py3-none-manylinux2014_x86_64.whl.metadata (1.5 kB)\n",
            "Collecting nvidia-curand-cu12==10.3.5.147 (from torch>=0.4.1->pytorch-pretrained-biggan)\n",
            "  Downloading nvidia_curand_cu12-10.3.5.147-py3-none-manylinux2014_x86_64.whl.metadata (1.5 kB)\n",
            "Collecting nvidia-cusolver-cu12==11.6.1.9 (from torch>=0.4.1->pytorch-pretrained-biggan)\n",
            "  Downloading nvidia_cusolver_cu12-11.6.1.9-py3-none-manylinux2014_x86_64.whl.metadata (1.6 kB)\n",
            "Collecting nvidia-cusparse-cu12==12.3.1.170 (from torch>=0.4.1->pytorch-pretrained-biggan)\n",
            "  Downloading nvidia_cusparse_cu12-12.3.1.170-py3-none-manylinux2014_x86_64.whl.metadata (1.6 kB)\n",
            "Requirement already satisfied: nvidia-cusparselt-cu12==0.6.2 in /usr/local/lib/python3.11/dist-packages (from torch>=0.4.1->pytorch-pretrained-biggan) (0.6.2)\n",
            "Requirement already satisfied: nvidia-nccl-cu12==2.21.5 in /usr/local/lib/python3.11/dist-packages (from torch>=0.4.1->pytorch-pretrained-biggan) (2.21.5)\n",
            "Requirement already satisfied: nvidia-nvtx-cu12==12.4.127 in /usr/local/lib/python3.11/dist-packages (from torch>=0.4.1->pytorch-pretrained-biggan) (12.4.127)\n",
            "Collecting nvidia-nvjitlink-cu12==12.4.127 (from torch>=0.4.1->pytorch-pretrained-biggan)\n",
            "  Downloading nvidia_nvjitlink_cu12-12.4.127-py3-none-manylinux2014_x86_64.whl.metadata (1.5 kB)\n",
            "Requirement already satisfied: triton==3.2.0 in /usr/local/lib/python3.11/dist-packages (from torch>=0.4.1->pytorch-pretrained-biggan) (3.2.0)\n",
            "Requirement already satisfied: sympy==1.13.1 in /usr/local/lib/python3.11/dist-packages (from torch>=0.4.1->pytorch-pretrained-biggan) (1.13.1)\n",
            "Requirement already satisfied: mpmath<1.4,>=1.1.0 in /usr/local/lib/python3.11/dist-packages (from sympy==1.13.1->torch>=0.4.1->pytorch-pretrained-biggan) (1.3.0)\n",
            "Collecting botocore<1.38.0,>=1.37.38 (from boto3->pytorch-pretrained-biggan)\n",
            "  Downloading botocore-1.37.38-py3-none-any.whl.metadata (5.7 kB)\n",
            "Collecting jmespath<2.0.0,>=0.7.1 (from boto3->pytorch-pretrained-biggan)\n",
            "  Downloading jmespath-1.0.1-py3-none-any.whl.metadata (7.6 kB)\n",
            "Collecting s3transfer<0.12.0,>=0.11.0 (from boto3->pytorch-pretrained-biggan)\n",
            "  Downloading s3transfer-0.11.5-py3-none-any.whl.metadata (1.7 kB)\n",
            "Requirement already satisfied: charset-normalizer<4,>=2 in /usr/local/lib/python3.11/dist-packages (from requests->pytorch-pretrained-biggan) (3.4.1)\n",
            "Requirement already satisfied: idna<4,>=2.5 in /usr/local/lib/python3.11/dist-packages (from requests->pytorch-pretrained-biggan) (3.10)\n",
            "Requirement already satisfied: urllib3<3,>=1.21.1 in /usr/local/lib/python3.11/dist-packages (from requests->pytorch-pretrained-biggan) (2.3.0)\n",
            "Requirement already satisfied: certifi>=2017.4.17 in /usr/local/lib/python3.11/dist-packages (from requests->pytorch-pretrained-biggan) (2025.1.31)\n",
            "Requirement already satisfied: python-dateutil<3.0.0,>=2.1 in /usr/local/lib/python3.11/dist-packages (from botocore<1.38.0,>=1.37.38->boto3->pytorch-pretrained-biggan) (2.8.2)\n",
            "Requirement already satisfied: MarkupSafe>=2.0 in /usr/local/lib/python3.11/dist-packages (from jinja2->torch>=0.4.1->pytorch-pretrained-biggan) (3.0.2)\n",
            "Requirement already satisfied: six>=1.5 in /usr/local/lib/python3.11/dist-packages (from python-dateutil<3.0.0,>=2.1->botocore<1.38.0,>=1.37.38->boto3->pytorch-pretrained-biggan) (1.17.0)\n",
            "Downloading pytorch_pretrained_biggan-0.1.1-py3-none-any.whl (27 kB)\n",
            "Downloading nvidia_cublas_cu12-12.4.5.8-py3-none-manylinux2014_x86_64.whl (363.4 MB)\n",
            "\u001b[2K   \u001b[90m━━━━━━━━━━━━━━━━━━━━━━━━━━━━━━━━━━━━━━━━\u001b[0m \u001b[32m363.4/363.4 MB\u001b[0m \u001b[31m4.7 MB/s\u001b[0m eta \u001b[36m0:00:00\u001b[0m\n",
            "\u001b[?25hDownloading nvidia_cuda_cupti_cu12-12.4.127-py3-none-manylinux2014_x86_64.whl (13.8 MB)\n",
            "\u001b[2K   \u001b[90m━━━━━━━━━━━━━━━━━━━━━━━━━━━━━━━━━━━━━━━━\u001b[0m \u001b[32m13.8/13.8 MB\u001b[0m \u001b[31m117.0 MB/s\u001b[0m eta \u001b[36m0:00:00\u001b[0m\n",
            "\u001b[?25hDownloading nvidia_cuda_nvrtc_cu12-12.4.127-py3-none-manylinux2014_x86_64.whl (24.6 MB)\n",
            "\u001b[2K   \u001b[90m━━━━━━━━━━━━━━━━━━━━━━━━━━━━━━━━━━━━━━━━\u001b[0m \u001b[32m24.6/24.6 MB\u001b[0m \u001b[31m87.7 MB/s\u001b[0m eta \u001b[36m0:00:00\u001b[0m\n",
            "\u001b[?25hDownloading nvidia_cuda_runtime_cu12-12.4.127-py3-none-manylinux2014_x86_64.whl (883 kB)\n",
            "\u001b[2K   \u001b[90m━━━━━━━━━━━━━━━━━━━━━━━━━━━━━━━━━━━━━━━━\u001b[0m \u001b[32m883.7/883.7 kB\u001b[0m \u001b[31m62.2 MB/s\u001b[0m eta \u001b[36m0:00:00\u001b[0m\n",
            "\u001b[?25hDownloading nvidia_cudnn_cu12-9.1.0.70-py3-none-manylinux2014_x86_64.whl (664.8 MB)\n",
            "\u001b[2K   \u001b[90m━━━━━━━━━━━━━━━━━━━━━━━━━━━━━━━━━━━━━━━━\u001b[0m \u001b[32m664.8/664.8 MB\u001b[0m \u001b[31m1.5 MB/s\u001b[0m eta \u001b[36m0:00:00\u001b[0m\n",
            "\u001b[?25hDownloading nvidia_cufft_cu12-11.2.1.3-py3-none-manylinux2014_x86_64.whl (211.5 MB)\n",
            "\u001b[2K   \u001b[90m━━━━━━━━━━━━━━━━━━━━━━━━━━━━━━━━━━━━━━━━\u001b[0m \u001b[32m211.5/211.5 MB\u001b[0m \u001b[31m5.9 MB/s\u001b[0m eta \u001b[36m0:00:00\u001b[0m\n",
            "\u001b[?25hDownloading nvidia_curand_cu12-10.3.5.147-py3-none-manylinux2014_x86_64.whl (56.3 MB)\n",
            "\u001b[2K   \u001b[90m━━━━━━━━━━━━━━━━━━━━━━━━━━━━━━━━━━━━━━━━\u001b[0m \u001b[32m56.3/56.3 MB\u001b[0m \u001b[31m13.8 MB/s\u001b[0m eta \u001b[36m0:00:00\u001b[0m\n",
            "\u001b[?25hDownloading nvidia_cusolver_cu12-11.6.1.9-py3-none-manylinux2014_x86_64.whl (127.9 MB)\n",
            "\u001b[2K   \u001b[90m━━━━━━━━━━━━━━━━━━━━━━━━━━━━━━━━━━━━━━━━\u001b[0m \u001b[32m127.9/127.9 MB\u001b[0m \u001b[31m8.1 MB/s\u001b[0m eta \u001b[36m0:00:00\u001b[0m\n",
            "\u001b[?25hDownloading nvidia_cusparse_cu12-12.3.1.170-py3-none-manylinux2014_x86_64.whl (207.5 MB)\n",
            "\u001b[2K   \u001b[90m━━━━━━━━━━━━━━━━━━━━━━━━━━━━━━━━━━━━━━━━\u001b[0m \u001b[32m207.5/207.5 MB\u001b[0m \u001b[31m5.9 MB/s\u001b[0m eta \u001b[36m0:00:00\u001b[0m\n",
            "\u001b[?25hDownloading nvidia_nvjitlink_cu12-12.4.127-py3-none-manylinux2014_x86_64.whl (21.1 MB)\n",
            "\u001b[2K   \u001b[90m━━━━━━━━━━━━━━━━━━━━━━━━━━━━━━━━━━━━━━━━\u001b[0m \u001b[32m21.1/21.1 MB\u001b[0m \u001b[31m74.5 MB/s\u001b[0m eta \u001b[36m0:00:00\u001b[0m\n",
            "\u001b[?25hDownloading boto3-1.37.38-py3-none-any.whl (139 kB)\n",
            "\u001b[2K   \u001b[90m━━━━━━━━━━━━━━━━━━━━━━━━━━━━━━━━━━━━━━━━\u001b[0m \u001b[32m139.9/139.9 kB\u001b[0m \u001b[31m13.3 MB/s\u001b[0m eta \u001b[36m0:00:00\u001b[0m\n",
            "\u001b[?25hDownloading botocore-1.37.38-py3-none-any.whl (13.5 MB)\n",
            "\u001b[2K   \u001b[90m━━━━━━━━━━━━━━━━━━━━━━━━━━━━━━━━━━━━━━━━\u001b[0m \u001b[32m13.5/13.5 MB\u001b[0m \u001b[31m87.3 MB/s\u001b[0m eta \u001b[36m0:00:00\u001b[0m\n",
            "\u001b[?25hDownloading jmespath-1.0.1-py3-none-any.whl (20 kB)\n",
            "Downloading s3transfer-0.11.5-py3-none-any.whl (84 kB)\n",
            "\u001b[2K   \u001b[90m━━━━━━━━━━━━━━━━━━━━━━━━━━━━━━━━━━━━━━━━\u001b[0m \u001b[32m84.8/84.8 kB\u001b[0m \u001b[31m7.8 MB/s\u001b[0m eta \u001b[36m0:00:00\u001b[0m\n",
            "\u001b[?25hInstalling collected packages: nvidia-nvjitlink-cu12, nvidia-curand-cu12, nvidia-cufft-cu12, nvidia-cuda-runtime-cu12, nvidia-cuda-nvrtc-cu12, nvidia-cuda-cupti-cu12, nvidia-cublas-cu12, jmespath, nvidia-cusparse-cu12, nvidia-cudnn-cu12, botocore, s3transfer, nvidia-cusolver-cu12, boto3, pytorch-pretrained-biggan\n",
            "  Attempting uninstall: nvidia-nvjitlink-cu12\n",
            "    Found existing installation: nvidia-nvjitlink-cu12 12.5.82\n",
            "    Uninstalling nvidia-nvjitlink-cu12-12.5.82:\n",
            "      Successfully uninstalled nvidia-nvjitlink-cu12-12.5.82\n",
            "  Attempting uninstall: nvidia-curand-cu12\n",
            "    Found existing installation: nvidia-curand-cu12 10.3.6.82\n",
            "    Uninstalling nvidia-curand-cu12-10.3.6.82:\n",
            "      Successfully uninstalled nvidia-curand-cu12-10.3.6.82\n",
            "  Attempting uninstall: nvidia-cufft-cu12\n",
            "    Found existing installation: nvidia-cufft-cu12 11.2.3.61\n",
            "    Uninstalling nvidia-cufft-cu12-11.2.3.61:\n",
            "      Successfully uninstalled nvidia-cufft-cu12-11.2.3.61\n",
            "  Attempting uninstall: nvidia-cuda-runtime-cu12\n",
            "    Found existing installation: nvidia-cuda-runtime-cu12 12.5.82\n",
            "    Uninstalling nvidia-cuda-runtime-cu12-12.5.82:\n",
            "      Successfully uninstalled nvidia-cuda-runtime-cu12-12.5.82\n",
            "  Attempting uninstall: nvidia-cuda-nvrtc-cu12\n",
            "    Found existing installation: nvidia-cuda-nvrtc-cu12 12.5.82\n",
            "    Uninstalling nvidia-cuda-nvrtc-cu12-12.5.82:\n",
            "      Successfully uninstalled nvidia-cuda-nvrtc-cu12-12.5.82\n",
            "  Attempting uninstall: nvidia-cuda-cupti-cu12\n",
            "    Found existing installation: nvidia-cuda-cupti-cu12 12.5.82\n",
            "    Uninstalling nvidia-cuda-cupti-cu12-12.5.82:\n",
            "      Successfully uninstalled nvidia-cuda-cupti-cu12-12.5.82\n",
            "  Attempting uninstall: nvidia-cublas-cu12\n",
            "    Found existing installation: nvidia-cublas-cu12 12.5.3.2\n",
            "    Uninstalling nvidia-cublas-cu12-12.5.3.2:\n",
            "      Successfully uninstalled nvidia-cublas-cu12-12.5.3.2\n",
            "  Attempting uninstall: nvidia-cusparse-cu12\n",
            "    Found existing installation: nvidia-cusparse-cu12 12.5.1.3\n",
            "    Uninstalling nvidia-cusparse-cu12-12.5.1.3:\n",
            "      Successfully uninstalled nvidia-cusparse-cu12-12.5.1.3\n",
            "  Attempting uninstall: nvidia-cudnn-cu12\n",
            "    Found existing installation: nvidia-cudnn-cu12 9.3.0.75\n",
            "    Uninstalling nvidia-cudnn-cu12-9.3.0.75:\n",
            "      Successfully uninstalled nvidia-cudnn-cu12-9.3.0.75\n",
            "  Attempting uninstall: nvidia-cusolver-cu12\n",
            "    Found existing installation: nvidia-cusolver-cu12 11.6.3.83\n",
            "    Uninstalling nvidia-cusolver-cu12-11.6.3.83:\n",
            "      Successfully uninstalled nvidia-cusolver-cu12-11.6.3.83\n",
            "Successfully installed boto3-1.37.38 botocore-1.37.38 jmespath-1.0.1 nvidia-cublas-cu12-12.4.5.8 nvidia-cuda-cupti-cu12-12.4.127 nvidia-cuda-nvrtc-cu12-12.4.127 nvidia-cuda-runtime-cu12-12.4.127 nvidia-cudnn-cu12-9.1.0.70 nvidia-cufft-cu12-11.2.1.3 nvidia-curand-cu12-10.3.5.147 nvidia-cusolver-cu12-11.6.1.9 nvidia-cusparse-cu12-12.3.1.170 nvidia-nvjitlink-cu12-12.4.127 pytorch-pretrained-biggan-0.1.1 s3transfer-0.11.5\n"
          ]
        }
      ],
      "source": [
        "#import libraries\n",
        "import os\n",
        "import numpy as np\n",
        "import pandas as pd\n",
        "import matplotlib.pyplot as plt\n",
        "import torch\n",
        "from torch import nn\n",
        "from torchvision import transforms\n",
        "from torch.nn import functional as F\n",
        "from zipfile import ZipFile\n",
        "from PIL import Image\n",
        "from torch.utils.data import Dataset, DataLoader\n",
        "from torchvision.utils import save_image, make_grid\n",
        "from tqdm import tqdm\n",
        "from urllib.parse import urlparse\n",
        "import requests\n",
        "import torch.optim as optim\n",
        "from torch.amp import autocast, GradScaler\n",
        "from torch.nn import Parameter as P\n",
        "import gc\n",
        "! pip install sync_batchnorm\n",
        "from sync_batchnorm import SynchronizedBatchNorm2d as SyncBatchNorm2d\n",
        "from sklearn.model_selection import train_test_split\n",
        "from sklearn.metrics import roc_curve, auc\n",
        "! pip install pytorch-pretrained-biggan\n",
        "import BigGAN"
      ]
    },
    {
      "cell_type": "code",
      "execution_count": 6,
      "metadata": {
        "id": "V8v_DmIwIX5v"
      },
      "outputs": [],
      "source": [
        "device = 'cuda'\n",
        "gc.collect()\n",
        "torch.cuda.empty_cache()\n",
        "torch.cuda.is_available()\n",
        "CUDA_LAUNCH_BLOCKING=1"
      ]
    },
    {
      "cell_type": "markdown",
      "metadata": {
        "id": "wJj92MqUIYXh"
      },
      "source": [
        "### **Helper Functions - run first**\n"
      ]
    },
    {
      "cell_type": "code",
      "execution_count": 12,
      "metadata": {
        "id": "1n6oj3zeIX5w"
      },
      "outputs": [],
      "source": [
        "def load_partial_weights(model, checkpoint_path, device = device):\n",
        "    checkpoint = torch.load(checkpoint_path, map_location=device)\n",
        "    model_dict = model.state_dict()\n",
        "\n",
        "    # Filter out weights that don't match size or key\n",
        "    pretrained_dict = {\n",
        "        k: v for k, v in checkpoint.items()\n",
        "        if k in model_dict and v.shape == model_dict[k].shape\n",
        "    }\n",
        "\n",
        "    # Report what was loaded\n",
        "    print(f\"Loaded {len(pretrained_dict)} / {len(model_dict)} parameters from checkpoint.\")\n",
        "\n",
        "    model_dict.update(pretrained_dict)\n",
        "    model.load_state_dict(model_dict)\n",
        "    to_freeze = list(pretrained_dict.keys())\n",
        "    copy = to_freeze\n",
        "    for item in copy:\n",
        "        if '.u' in item or '.sv' in item:\n",
        "            to_freeze.remove(item)\n",
        "    return to_freeze"
      ]
    },
    {
      "cell_type": "code",
      "execution_count": 13,
      "metadata": {
        "id": "fmk3TIQSIX5w"
      },
      "outputs": [],
      "source": [
        "def download_images_from_dataframe(df, url_column, output_folder, filename_prefix=\"image\"):\n",
        "    \"\"\"\n",
        "    Download images from URLs in a dataframe and save them to a folder.\n",
        "\n",
        "    Parameters:\n",
        "    - df: pandas DataFrame containing the image URLs\n",
        "    - url_column: column name in the dataframe that contains the image URLs\n",
        "    - output_folder: folder where images will be saved\n",
        "    - filename_prefix: prefix for the filenames (default: \"image\")\n",
        "\n",
        "    Returns:\n",
        "    - A list of successfully downloaded file paths\n",
        "    \"\"\"\n",
        "    # Create output folder if it doesn't exist\n",
        "    os.makedirs(output_folder, exist_ok=True)\n",
        "\n",
        "    downloaded_files = []\n",
        "\n",
        "    # Loop through each URL in the dataframe\n",
        "    for idx, row in tqdm(df.iterrows(), total=len(df), desc=\"Downloading images\"):\n",
        "        url = row[url_column]\n",
        "\n",
        "        try:\n",
        "            # Generate filename from URL or use index\n",
        "            if isinstance(url, str) and url.strip():\n",
        "                # Try to extract filename from URL\n",
        "                parsed_url = urlparse(url)\n",
        "                path_parts = parsed_url.path.split('/')\n",
        "                if path_parts and path_parts[-1]:\n",
        "                    original_filename = path_parts[-1]\n",
        "                    # Remove query parameters if present\n",
        "                    original_filename = original_filename.split('?')[0]\n",
        "                    # Ensure .jpg extension\n",
        "                    basename, ext = os.path.splitext(original_filename)\n",
        "                    if not ext or ext.lower() != '.jpg':\n",
        "                        filename = f\"{basename}.jpg\"\n",
        "                    else:\n",
        "                        filename = original_filename\n",
        "                else:\n",
        "                    filename = f\"{filename_prefix}_{idx}.jpg\"\n",
        "            else:\n",
        "                filename = f\"{filename_prefix}_{idx}.jpg\"\n",
        "\n",
        "            output_path = os.path.join(output_folder, filename)\n",
        "\n",
        "            # Download the image\n",
        "            response = requests.get(url, stream=True, timeout=10)\n",
        "            response.raise_for_status()  # Raise an exception for HTTP errors\n",
        "\n",
        "            # Save the image\n",
        "            with open(output_path, 'wb') as f:\n",
        "                for chunk in response.iter_content(chunk_size=8192):\n",
        "                    f.write(chunk)\n",
        "\n",
        "            downloaded_files.append(output_path)\n",
        "\n",
        "        except Exception as e:\n",
        "            print(f\"Error downloading {url}: {e}\")\n",
        "\n",
        "    print(f\"Downloaded {len(downloaded_files)} images to {output_folder}\")\n",
        "    return downloaded_files"
      ]
    },
    {
      "cell_type": "code",
      "execution_count": 14,
      "metadata": {
        "id": "N_4VxnwJH8hz"
      },
      "outputs": [],
      "source": [
        "def display_tensor_image(image_tensor):\n",
        "    \"\"\"\n",
        "    Display an image tensor using matplotlib.\n",
        "\n",
        "    Args:\n",
        "        image_tensor: A PyTorch tensor of shape [C, H, W] in the range [0, 1]\n",
        "        title: Optional title for the displayed image\n",
        "    \"\"\"\n",
        "    if image_tensor.is_cuda:\n",
        "        image_tensor = image_tensor.cpu()\n",
        "\n",
        "    if image_tensor.shape[0] == 3:\n",
        "\n",
        "        img_np = image_tensor.permute(1, 2, 0).numpy()\n",
        "    elif image_tensor.shape[0] == 1:\n",
        "        img_np = image_tensor.squeeze(0).numpy()\n",
        "    else:\n",
        "        raise ValueError(f\"Unexpected tensor shape: {image_tensor.shape}\")\n",
        "\n",
        "    plt.figure(figsize=(8, 8))\n",
        "\n",
        "\n",
        "    if image_tensor.shape[0] == 3:  # RGB image\n",
        "        plt.imshow(img_np)\n",
        "    else:\n",
        "        plt.imshow(img_np, cmap='gray')\n",
        "\n",
        "    plt.axis('off')\n",
        "\n",
        "\n",
        "    plt.show()"
      ]
    },
    {
      "cell_type": "code",
      "execution_count": 15,
      "metadata": {
        "id": "o-GvuZkbBqVz"
      },
      "outputs": [],
      "source": [
        "def load_images_with_labels(root_folder, labeling_function, crop = False):\n",
        "    \"\"\"\n",
        "    Parse through folders and create a DataFrame with images and labels.\n",
        "\n",
        "    Args:\n",
        "        root_folder: Path to the root folder containing subfolders of images\n",
        "        labeling_function: Function that takes a file path and returns 0 or 1\n",
        "\n",
        "    Returns:\n",
        "        DataFrame with columns: filename,image_tensor, label\n",
        "    \"\"\"\n",
        "\n",
        "    image_data = []\n",
        "    crop_size = (128,128)\n",
        "\n",
        "    # Define transforms separately\n",
        "    resize_transform = transforms.Compose([\n",
        "        transforms.Resize(crop_size),  # Resize smaller images\n",
        "        transforms.ToTensor(),         # Convert to tensor\n",
        "    ])\n",
        "\n",
        "    crop_transform = transforms.Compose([\n",
        "        transforms.RandomCrop(crop_size),  # Random crop for larger images\n",
        "        transforms.ToTensor(),             # Convert to tensor\n",
        "    ])\n",
        "\n",
        "    for folder_path, _, files in os.walk(root_folder):\n",
        "        for file in files:\n",
        "            if file.lower().endswith('.jpg'):\n",
        "                file_path = os.path.join(folder_path, file)\n",
        "\n",
        "                try:\n",
        "                    img = Image.open(file_path).convert('RGB')\n",
        "\n",
        "                    if crop:\n",
        "                        # Check image dimensions and apply appropriate transform\n",
        "                        if img.width >= crop_size[0] and img.height >= crop_size[1]:\n",
        "                            # Image is large enough for random crop\n",
        "                            img_tensor = crop_transform(img)\n",
        "                    else:\n",
        "                            # Image is too small, use resize instead\n",
        "                        img_tensor = resize_transform(img)\n",
        "\n",
        "                    label = labeling_function(file_path)\n",
        "\n",
        "                    image_data.append({\n",
        "                        'filename': file,\n",
        "                        'image_tensor': img_tensor,\n",
        "                        'label': label\n",
        "                    })\n",
        "\n",
        "                except Exception as e:\n",
        "                    print(f\"Error processing {file_path}: {e}\")\n",
        "\n",
        "    # Convert list of dictionaries to DataFrame\n",
        "    return pd.DataFrame(image_data)"
      ]
    },
    {
      "cell_type": "code",
      "execution_count": 16,
      "metadata": {
        "id": "FOZhLSfwIX5x"
      },
      "outputs": [],
      "source": [
        "#requires https://www.kaggle.com/datasets/antoinegruson/-wikiart-all-images-120k-link/data\n",
        "# other_artist_links = pd.read_csv('data/wikiart_scraped.csv')\n",
        "# other_artist_links = other_artist_links[other_artist_links['Style']=='Post-Impressionism']\n",
        "# other_artist_links = other_artist_links[other_artist_links['Artist'] != 'Vincent van Gogh']\n",
        "# other_artist_links = other_artist_links[1000:2001]  # Adjust the range as needed"
      ]
    },
    {
      "cell_type": "code",
      "execution_count": 17,
      "metadata": {
        "id": "TBry7_ysIX5x"
      },
      "outputs": [],
      "source": [
        "# download_images_from_dataframe(other_artist_links, 'Link', 'data/other_artists')"
      ]
    },
    {
      "cell_type": "markdown",
      "metadata": {
        "id": "TPQAwDH5IX5y"
      },
      "source": [
        "### **Set up variables from files (repeat every runtime)**"
      ]
    },
    {
      "cell_type": "code",
      "source": [
        "other_artist_links = pd.read_csv('/content/drive/MyDrive/wikiart_scraped.csv')\n",
        "other_artist_links = other_artist_links[other_artist_links['Style']=='Post-Impressionism']\n",
        "other_artist_links = other_artist_links[other_artist_links['Artist'] != 'Vincent van Gogh']"
      ],
      "metadata": {
        "id": "qnn0zhAMKEfB"
      },
      "execution_count": 18,
      "outputs": []
    },
    {
      "cell_type": "code",
      "source": [
        "download_images_from_dataframe(other_artist_links, 'Link', 'data/other_artists')"
      ],
      "metadata": {
        "colab": {
          "base_uri": "https://localhost:8080/"
        },
        "collapsed": true,
        "id": "y-ph1CkRKMDB",
        "outputId": "76bee2b3-cb87-4060-d468-7c9f7e54525c"
      },
      "execution_count": 19,
      "outputs": [
        {
          "output_type": "stream",
          "name": "stderr",
          "text": [
            "Downloading images: 100%|██████████| 2621/2621 [49:22<00:00,  1.13s/it]"
          ]
        },
        {
          "output_type": "stream",
          "name": "stdout",
          "text": [
            "Downloaded 2621 images to data/other_artists\n"
          ]
        },
        {
          "output_type": "stream",
          "name": "stderr",
          "text": [
            "\n"
          ]
        },
        {
          "output_type": "execute_result",
          "data": {
            "text/plain": [
              "['data/other_artists/flower-pot-at-a-table.jpg',\n",
              " 'data/other_artists/on-the-hudson-near-dobb-s-ferry-1870.jpg',\n",
              " 'data/other_artists/landscape-with-figure-1870.jpg',\n",
              " 'data/other_artists/madame-juliette-pascal-1871.jpg',\n",
              " 'data/other_artists/on-the-way-between-old-and-new-cairo-citadel-mosque-of-mohammed-ali-and-tombs-of-the-mamelukes-1872.jpg',\n",
              " 'data/other_artists/snake-charmer-at-tangier-africa-1872.jpg',\n",
              " 'data/other_artists/market-day-1873.jpg',\n",
              " 'data/other_artists/arab-facing-right-1873.jpg',\n",
              " 'data/other_artists/the-village-peddler-1875.jpg',\n",
              " 'data/other_artists/bathers-at-rest-1877.jpg',\n",
              " 'data/other_artists/dessert-1877.jpg',\n",
              " 'data/other_artists/the-roofs.jpg',\n",
              " 'data/other_artists/duane-street-new-york-1877.jpg',\n",
              " 'data/other_artists/north-african-harbor-scene-1877.jpg',\n",
              " 'data/other_artists/five-bathers-1878.jpg',\n",
              " 'data/other_artists/four-bathers-1878.jpg',\n",
              " 'data/other_artists/head-of-a-girl-1879.jpg',\n",
              " 'data/other_artists/landscape-at-saint-ouen-1879.jpg',\n",
              " 'data/other_artists/bottom-of-the-ravine.jpg',\n",
              " 'data/other_artists/dish-of-apples-1879.jpg',\n",
              " 'data/other_artists/seated-woman-1879.jpg',\n",
              " 'data/other_artists/still-life-1879.jpg',\n",
              " 'data/other_artists/the-abandoned-house-1879.jpg',\n",
              " 'data/other_artists/three-pears-1879.jpg',\n",
              " 'data/other_artists/0.jpg',\n",
              " 'data/other_artists/soldier-fencing-another-reclining-1880.jpg',\n",
              " 'data/other_artists/apples-and-a-napkin-1880.jpg',\n",
              " 'data/other_artists/apples-pears-and-grapes.jpg',\n",
              " 'data/other_artists/bacchanalia-the-battle-of-love-1880.jpg',\n",
              " 'data/other_artists/bathers-1880.jpg',\n",
              " 'data/other_artists/bouquet-of-flowers.jpg',\n",
              " 'data/other_artists/compotier-glass-and-apples-1880.jpg',\n",
              " 'data/other_artists/cote-du-galet-at-pontoise.jpg',\n",
              " 'data/other_artists/dark-blue-vase-1880.jpg',\n",
              " 'data/other_artists/farmyard-at-auvers.jpg',\n",
              " 'data/other_artists/flowers-and-fruit.jpg',\n",
              " 'data/other_artists/flowers-in-an-olive-jar.jpg',\n",
              " 'data/other_artists/four-bathers-1880.jpg',\n",
              " 'data/other_artists/houses-at-the-l-estaque-1880.jpg',\n",
              " 'data/other_artists/ile-de-france-landscape-1880.jpg',\n",
              " 'data/other_artists/ile-de-france-landscape-1880-1.jpg',\n",
              " 'data/other_artists/landscape-in-the-provence.jpg',\n",
              " 'data/other_artists/melting-snow-fontainbleau-1880.jpg',\n",
              " 'data/other_artists/mountains-in-provence-l-estaque.jpg',\n",
              " 'data/other_artists/nude-female-with-attendants-1880.jpg',\n",
              " 'data/other_artists/plain-by-mont-sainte-victoire.jpg',\n",
              " 'data/other_artists/pool-and-lane-of-chestnut-trees-at-jas-de-bouffan-1880.jpg',\n",
              " 'data/other_artists/portrait-of-louis-guillaume.jpg',\n",
              " 'data/other_artists/self-portrait-1880.jpg',\n",
              " 'data/other_artists/self-portrait-1880-1.jpg',\n",
              " 'data/other_artists/self-portrait.jpg',\n",
              " 'data/other_artists/still-life-with-a-fruit-dish-and-apples.jpg',\n",
              " 'data/other_artists/still-life-with-fruits-1880.jpg',\n",
              " 'data/other_artists/the-battle-of-love-1880.jpg',\n",
              " 'data/other_artists/the-chateau-de-medan.jpg',\n",
              " 'data/other_artists/the-trees-of-jas-de-bouffan-in-spring.jpg',\n",
              " 'data/other_artists/the-valley-of-the-oise-1880.jpg',\n",
              " 'data/other_artists/near-the-harbor.jpg',\n",
              " 'data/other_artists/arabian-subject-1880.jpg',\n",
              " 'data/other_artists/landscape-with-evening-sky-1880.jpg',\n",
              " 'data/other_artists/christ-et-buddha-by-paul-ranson-1880.jpg',\n",
              " 'data/other_artists/grassy-riverbank-1881.jpg',\n",
              " 'data/other_artists/landscape-with-sinners-puvis-de-chava-1881.jpg',\n",
              " 'data/other_artists/seated-woman-1881.jpg',\n",
              " 'data/other_artists/the-seller-of-oranges-1881.jpg',\n",
              " 'data/other_artists/woman-standing-1881.jpg',\n",
              " 'data/other_artists/bridge-and-waterfall-at-pontoise-1881.jpg',\n",
              " 'data/other_artists/chateau-de-madan.jpg',\n",
              " 'data/other_artists/four-apples.jpg',\n",
              " 'data/other_artists/houses-along-a-road.jpg',\n",
              " 'data/other_artists/houses-in-the-greenery-1881.jpg',\n",
              " 'data/other_artists/landscape-1881.jpg',\n",
              " 'data/other_artists/moulin-de-la-couleuvre-at-pontoise-1881.jpg',\n",
              " 'data/other_artists/portrait-of-madame-cezanne-1881.jpg',\n",
              " 'data/other_artists/self-portrait-in-front-of-olive-wallpaper-1881.jpg',\n",
              " 'data/other_artists/gardener-1882.jpg',\n",
              " 'data/other_artists/landscape-in-the-ile-de-france-1882.jpg',\n",
              " 'data/other_artists/on-the-road-1882.jpg',\n",
              " 'data/other_artists/the-mower-1882-1.jpg',\n",
              " 'data/other_artists/the-stone-breaker-1882.jpg',\n",
              " 'data/other_artists/the-stone-breaker-1882-1.jpg',\n",
              " 'data/other_artists/young-peasant-in-blue-1882.jpg',\n",
              " 'data/other_artists/a-turn-in-the-road-1882.jpg',\n",
              " 'data/other_artists/farm-in-normandy-summer-1882.jpg',\n",
              " 'data/other_artists/flowers-in-a-vase.jpg',\n",
              " 'data/other_artists/in-the-forest-of-fontainbleau-1882.jpg',\n",
              " 'data/other_artists/landscape.jpg',\n",
              " 'data/other_artists/leaving-on-the-water.jpg',\n",
              " 'data/other_artists/leda-and-the-swan.jpg',\n",
              " 'data/other_artists/madame-cezanne-in-the-garden.jpg',\n",
              " 'data/other_artists/medea-1882.jpg',\n",
              " 'data/other_artists/orchard-1882.jpg',\n",
              " 'data/other_artists/road-trees-and-lake.jpg',\n",
              " 'data/other_artists/rocks-at-l-estaque.jpg',\n",
              " 'data/other_artists/roofs-in-l-estaque-1882.jpg',\n",
              " 'data/other_artists/self-portrait-1882.jpg',\n",
              " 'data/other_artists/self-portrait-3.jpg',\n",
              " 'data/other_artists/self-portrait-with-white-turbaned-1882.jpg',\n",
              " 'data/other_artists/self-portrait-with-white-turbaned-detail-1882.jpg',\n",
              " 'data/other_artists/still-life-with-apples-and-fruit-bowl-1882.jpg',\n",
              " 'data/other_artists/the-bay-of-l-estaque-from-the-east.jpg',\n",
              " 'data/other_artists/three-bathers.jpg',\n",
              " 'data/other_artists/victor-chocquet-1882.jpg',\n",
              " 'data/other_artists/a-laborer-at-celeyran-1882.jpg',\n",
              " 'data/other_artists/a-worker-at-celeyran-1882.jpg',\n",
              " 'data/other_artists/bouquet-of-violets-in-a-vase-1882.jpg',\n",
              " 'data/other_artists/lazy-load-placeholder.jpg',\n",
              " 'data/other_artists/not_detected_230533-1882.jpg',\n",
              " 'data/other_artists/portrait-of-madame-la-comtesse-adèle-de-toulouse-lautrec.jpg',\n",
              " 'data/other_artists/the-young-routy-céleyran-1882.jpg',\n",
              " 'data/other_artists/young-routy-1882.jpg',\n",
              " 'data/other_artists/prayer-in-the-cathedral-of-st-pierre-geneva-1882.jpg',\n",
              " 'data/other_artists/boy-with-horse-1883.jpg',\n",
              " 'data/other_artists/large-figure-in-a-landscape-1883.jpg',\n",
              " 'data/other_artists/man-painting-his-boat-1883.jpg',\n",
              " 'data/other_artists/men-laying-stakes-1883.jpg',\n",
              " 'data/other_artists/peasant-boy-sitting-in-a-meadow-1883.jpg',\n",
              " 'data/other_artists/peasant-woman-seated-in-the-grass-1883.jpg',\n",
              " 'data/other_artists/ploughing.jpg',\n",
              " 'data/other_artists/seated-man-study-for-bathers-at-asnieres-1883.jpg',\n",
              " 'data/other_artists/snow-effect-winter-in-the-suburbs-1883.jpg',\n",
              " 'data/other_artists/stone-breaker-and-wheelbarrow-le-raincy-1883.jpg',\n",
              " 'data/other_artists/the-black-horse-1883.jpg',\n",
              " 'data/other_artists/the-stone-breakers-1883.jpg',\n",
              " 'data/other_artists/trees-winter-1883.jpg',\n",
              " 'data/other_artists/two-horse-hitch-1883.jpg',\n",
              " 'data/other_artists/village-road-1883.jpg',\n",
              " 'data/other_artists/voilette-1883.jpg',\n",
              " 'data/other_artists/l-estaque-view-through-the-pines-1883.jpg',\n",
              " 'data/other_artists/portrait-of-madame-cezanne-1883.jpg',\n",
              " 'data/other_artists/view-of-l-estaque-1883.jpg',\n",
              " 'data/other_artists/gustave-lucien-dennery-1883.jpg',\n",
              " 'data/other_artists/man-s-head-1883.jpg',\n",
              " 'data/other_artists/rené-princeteau-1883.jpg',\n",
              " 'data/other_artists/woman-standing-in-semi-profile-1883.jpg',\n",
              " 'data/other_artists/self-portrait-1883.jpg',\n",
              " 'data/other_artists/carne-altrui-1883.jpg',\n",
              " 'data/other_artists/the-concierge-1883.jpg',\n",
              " 'data/other_artists/castillo-de-san-marcos-st-augustine-florida-1883.jpg',\n",
              " 'data/other_artists/gausson-selfportrait3.jpg',\n",
              " 'data/other_artists/apples-jug-iridescent-glass.jpg',\n",
              " 'data/other_artists/artist-at-work-1884.jpg',\n",
              " 'data/other_artists/final-study-for-bathing-at-asnieres-1884.jpg',\n",
              " 'data/other_artists/rue-st-vincent-in-spring-1884.jpg',\n",
              " 'data/other_artists/study-for-un-dimanche-après-midi-à-l-île-de-la-grande-jatte-1884.jpg',\n",
              " 'data/other_artists/study-on-the-island-1884.jpg',\n",
              " 'data/other_artists/three-men-seated-1884.jpg',\n",
              " 'data/other_artists/woman-with-a-monkey-1884.jpg',\n",
              " 'data/other_artists/woman-with-umbrella-1884.jpg',\n",
              " 'data/other_artists/madame-cezanne-in-a-striped-rob.jpg',\n",
              " 'data/other_artists/still-life-with-soup-tureen-1884.jpg',\n",
              " 'data/other_artists/trees-1884.jpg',\n",
              " 'data/other_artists/coffee-pot.jpg',\n",
              " 'data/other_artists/the-big-maria-venus-mintmartre-1884.jpg',\n",
              " 'data/other_artists/lake-thun-1884.jpg',\n",
              " 'data/other_artists/carne-altrui-1884.jpg',\n",
              " 'data/other_artists/study-for-un-dimanche-d-été-à-la-grande-jatte-1885.jpg',\n",
              " 'data/other_artists/study-for-la-grande-jatte-1885.jpg',\n",
              " 'data/other_artists/study-with-figures-study-for-la-grande-jatte-1885.jpg',\n",
              " 'data/other_artists/a-turn-in-the-road-at-la-roche-guyon-1885.jpg',\n",
              " 'data/other_artists/bather-entering-the-water-1885.jpg',\n",
              " 'data/other_artists/bathers-in-front-of-a-tend.jpg',\n",
              " 'data/other_artists/blue-flowerpot-1885.jpg',\n",
              " 'data/other_artists/chestnut-tree-and-farm-1885.jpg',\n",
              " 'data/other_artists/cottaages.jpg',\n",
              " 'data/other_artists/curtains-1885.jpg',\n",
              " 'data/other_artists/fruits.jpg',\n",
              " 'data/other_artists/gardanne-horizontal-view.jpg',\n",
              " 'data/other_artists/in-the-woods-1885.jpg',\n",
              " 'data/other_artists/landscape-of-the-jas-de-bouffan-1885.jpg',\n",
              " 'data/other_artists/landscape-with-viaduct-montagne-sainte-victoire-1887.jpg',\n",
              " 'data/other_artists/l-estaque-with-red-roofs-1885.jpg',\n",
              " 'data/other_artists/madame-cezanne-with-hortensias-1885.jpg',\n",
              " 'data/other_artists/medan-chateau-and-village-1885.jpg',\n",
              " 'data/other_artists/pine-tree-in-the-arc-valley.jpg',\n",
              " 'data/other_artists/portrait-of-madame-cezanne.jpg',\n",
              " 'data/other_artists/portrait-of-the-artist-s-son-1885.jpg',\n",
              " 'data/other_artists/portrait-of-the-artist-s-son-1885-1.jpg',\n",
              " 'data/other_artists/pot-of-geraniums.jpg',\n",
              " 'data/other_artists/sea-at-l-estaque-1885.jpg',\n",
              " 'data/other_artists/seated-nude.jpg',\n",
              " 'data/other_artists/self-portrait-1885.jpg',\n",
              " 'data/other_artists/study-of-an-apple-1885.jpg',\n",
              " 'data/other_artists/the-gulf-of-marseille-seen-from-l-estaque.jpg',\n",
              " 'data/other_artists/the-gulf-of-marseille-seen-from-l-estaque-1.jpg',\n",
              " 'data/other_artists/the-oak-1885.jpg',\n",
              " 'data/other_artists/view-of-l-estaque-and-chateaux-d-if-1885.jpg',\n",
              " 'data/other_artists/village-in-the-provence.jpg',\n",
              " 'data/other_artists/ballet-dancers-1885.jpg',\n",
              " 'data/other_artists/emile-bernard-1885.jpg',\n",
              " 'data/other_artists/self-portrait-caricature-1885.jpg',\n",
              " 'data/other_artists/the-dancer-in-her-dressing-room-1885.jpg',\n",
              " 'data/other_artists/the-castillo-de-san-marcos-st-augustine-1885.jpg',\n",
              " 'data/other_artists/bathing-in-front-of-the-port-of-pont-aven-1886.jpg',\n",
              " 'data/other_artists/bathing-place-1886.jpg',\n",
              " 'data/other_artists/bordeaux-harbour-1886.jpg',\n",
              " 'data/other_artists/breton-woman-1886.jpg',\n",
              " 'data/other_artists/clovis-1886.jpg',\n",
              " 'data/other_artists/coastal-landscape-1886.jpg',\n",
              " 'data/other_artists/cows-on-the-seashore-1886.jpg',\n",
              " 'data/other_artists/farm-in-brittany-1886.jpg',\n",
              " 'data/other_artists/fire-by-the-water-1886.jpg',\n",
              " 'data/other_artists/four-breton-women-1886.jpg',\n",
              " 'data/other_artists/fruit-1886.jpg',\n",
              " 'data/other_artists/fruit-in-a-bowl-1886.jpg',\n",
              " 'data/other_artists/landscape-at-pont-aven-1886.jpg',\n",
              " 'data/other_artists/lollichon-field-1886.jpg',\n",
              " 'data/other_artists/lollichon-s-field-and-the-church-of-pont-aven-1886.jpg',\n",
              " 'data/other_artists/pont-aven-woman-and-child-1886.jpg',\n",
              " 'data/other_artists/pots-and-boquets-1886.jpg',\n",
              " 'data/other_artists/red-hat-1886.jpg',\n",
              " 'data/other_artists/rocks-and-sea-1886.jpg',\n",
              " 'data/other_artists/schooner-and-three-masters-1886.jpg',\n",
              " 'data/other_artists/stabble-near-dieppe-1886.jpg',\n",
              " 'data/other_artists/still-life-with-cherries-1886.jpg',\n",
              " 'data/other_artists/still-life-with-profile-of-laval-1886.jpg',\n",
              " 'data/other_artists/still-life-with-white-bowl-1886.jpg',\n",
              " 'data/other_artists/suburb-under-snow-1886.jpg',\n",
              " 'data/other_artists/the-boss-s-daughter-1886.jpg',\n",
              " 'data/other_artists/the-vase-of-nasturtiums-1886.jpg',\n",
              " 'data/other_artists/vase-of-flowers-1886.jpg',\n",
              " 'data/other_artists/washerwomen-at-pont-aven-1886.jpg',\n",
              " 'data/other_artists/rendez-vous-in-the-forest-1886.jpg',\n",
              " 'data/other_artists/the-seamstress-or-sunday-at-the-grande-jatte-study-for-a-sunday-afternoon-on-the-island-of-la-1886.jpg',\n",
              " 'data/other_artists/gardanne-1886.jpg',\n",
              " 'data/other_artists/houses-in-provence-near-gardanne-1886.jpg',\n",
              " 'data/other_artists/mount-sainte-victoire-seen-from-gardanne-1886.jpg',\n",
              " 'data/other_artists/portrait-of-madame-cezanne-1.jpg',\n",
              " 'data/other_artists/trees-and-houses-1886.jpg',\n",
              " 'data/other_artists/view-of-gardanne-1886.jpg',\n",
              " 'data/other_artists/umbrellas-1886.jpg',\n",
              " 'data/other_artists/artillerman-and-girl.jpg',\n",
              " 'data/other_artists/at-gennelle-absinthe-drinker-1886.jpg',\n",
              " 'data/other_artists/clown-1886.jpg',\n",
              " 'data/other_artists/jeanne-wenz-1886.jpg',\n",
              " 'data/other_artists/portrait-of-countess-a-de-toulouse-lautrec.jpg',\n",
              " 'data/other_artists/boy-in-the-grass-1886.jpg',\n",
              " 'data/other_artists/hayet-cluny.jpg',\n",
              " 'data/other_artists/a-little-washerman-1887.jpg',\n",
              " 'data/other_artists/a-seashore-1887.jpg',\n",
              " 'data/other_artists/around-the-huts-1887.jpg',\n",
              " 'data/other_artists/at-the-pond-1887.jpg',\n",
              " 'data/other_artists/coastal-landscape-from-martinique-1887.jpg',\n",
              " 'data/other_artists/huts-under-trees-1887.jpg',\n",
              " 'data/other_artists/madame-alexandre-kohler-1887.jpg',\n",
              " 'data/other_artists/mango-pickers-martinique-1887.jpg',\n",
              " 'data/other_artists/meadow-in-martinique-1887.jpg',\n",
              " 'data/other_artists/not-detected-1.jpg',\n",
              " 'data/other_artists/palm-trees-on-martinique-1887.jpg',\n",
              " 'data/other_artists/still-life-with-mangoes-and-hibiscus-1887.jpg',\n",
              " 'data/other_artists/tropical-landscape-martinique-1887.jpg',\n",
              " 'data/other_artists/two-girls-bathing-1887.jpg',\n",
              " 'data/other_artists/part-of-the-studio-1887.jpg',\n",
              " 'data/other_artists/bather-1887.jpg',\n",
              " 'data/other_artists/chestnut-trees-at-the-jas-de-bouffan-1887.jpg',\n",
              " 'data/other_artists/five-bathers-1887.jpg',\n",
              " 'data/other_artists/flower-pots.jpg',\n",
              " 'data/other_artists/house-and-farm-at-jas-de-bouffan-1887.jpg',\n",
              " 'data/other_artists/house-behind-trees-on-the-road-to-tholonet-1887.jpg',\n",
              " 'data/other_artists/jas-de-bouffan-1887.jpg',\n",
              " 'data/other_artists/landscape-at-midday-1887.jpg',\n",
              " 'data/other_artists/large-trees-at-jas-de-bouffan-1887.jpg',\n",
              " 'data/other_artists/madame-cezanne-with-unbound-hair.jpg',\n",
              " 'data/other_artists/mont-sainte-victoire-1887.jpg',\n",
              " 'data/other_artists/mont-sainte-victoire-1887-2.jpg',\n",
              " 'data/other_artists/mont-sainte-victoire-with-large-pine-1887.jpg',\n",
              " 'data/other_artists/portrait-of-madame-cezanne-2.jpg',\n",
              " 'data/other_artists/self-portrait-1887.jpg',\n",
              " 'data/other_artists/still-life-apples-and-pears-1887.jpg',\n",
              " 'data/other_artists/still-life-in-front-of-a-chest-of-drawers.jpg',\n",
              " 'data/other_artists/still-life-plate-and-fruit.jpg',\n",
              " 'data/other_artists/still-life-with-a-chest-of-drawers.jpg',\n",
              " 'data/other_artists/still-life-with-a-plate-of-cherries-1887.jpg',\n",
              " 'data/other_artists/tall-trees-at-the-jas-de-bouffan-1887.jpg',\n",
              " 'data/other_artists/the-blue-vase.jpg',\n",
              " 'data/other_artists/the-green-pitcher-1887.jpg',\n",
              " 'data/other_artists/a-saint-lazare-song-title-1887.jpg',\n",
              " 'data/other_artists/at-montrouge-rosa-la-rouge-1887.jpg',\n",
              " 'data/other_artists/comtesse-1887.jpg',\n",
              " 'data/other_artists/madame-aline-gibert-1887.jpg',\n",
              " 'data/other_artists/portrait-of-vincent-van-gogh-1887.jpg',\n",
              " 'data/other_artists/rice-powder-1887.jpg',\n",
              " 'data/other_artists/modern-rütli-1887.jpg',\n",
              " 'data/other_artists/portrait-of-a-woman-1887.jpg',\n",
              " 'data/other_artists/surprised-by-the-storm-1887.jpg',\n",
              " 'data/other_artists/earthware-pot-and-apples-1887.jpg',\n",
              " 'data/other_artists/young-woman-in-kimono-reading-1887.jpg',\n",
              " 'data/other_artists/pushing-off-the-boat-at-sea-bright-new-jersey-1887.jpg',\n",
              " 'data/other_artists/dd104568.jpg',\n",
              " 'data/other_artists/apples-in-bowl-1888.jpg',\n",
              " 'data/other_artists/aven-running-through-pont-aven-1888.jpg',\n",
              " 'data/other_artists/bouquet-of-flowers-with-a-window-open-to-the-sea-reverse-of-hay-making-in-brittany-1888.jpg',\n",
              " 'data/other_artists/breton-boy-by-the-aven-river-1888.jpg',\n",
              " 'data/other_artists/breton-boys-wrestling-1888.jpg',\n",
              " 'data/other_artists/breton-fisherman-1888.jpg',\n",
              " 'data/other_artists/breton-girls-dancing-1888.jpg',\n",
              " 'data/other_artists/breton-woman-and-goose-by-the-water-1888.jpg',\n",
              " 'data/other_artists/breton-woman-with-a-pitcher-1888.jpg',\n",
              " 'data/other_artists/breton-women-at-the-turn-1888.jpg',\n",
              " 'data/other_artists/cottages-on-mount-sainte-marguerite-1888.jpg',\n",
              " 'data/other_artists/cove-opposite-pont-aven-harbor-1888.jpg',\n",
              " 'data/other_artists/dogs-running-through-a-field-1888.jpg',\n",
              " 'data/other_artists/fisherman-and-bathers-on-the-aven-1888.jpg',\n",
              " 'data/other_artists/fruits-1888.jpg',\n",
              " 'data/other_artists/grape-harvest-at-arles-1888.jpg',\n",
              " 'data/other_artists/haymaking-in-brittany-1888.jpg',\n",
              " 'data/other_artists/head-of-a-breton-marie-louarn-1888.jpg',\n",
              " 'data/other_artists/in-the-heat-the-pigs-1888.jpg',\n",
              " 'data/other_artists/kneeling-cow-1888.jpg',\n",
              " 'data/other_artists/landscape-at-arles-1888.jpg',\n",
              " 'data/other_artists/landscape-near-arles-1888.jpg',\n",
              " 'data/other_artists/landscape-of-brittany-1888.jpg',\n",
              " 'data/other_artists/landscape-with-geese-1888.jpg',\n",
              " 'data/other_artists/lane-at-alchamps-arles-1888.jpg',\n",
              " 'data/other_artists/les-alyscamps-1888.jpg',\n",
              " 'data/other_artists/little-breton-bather-1888.jpg',\n",
              " 'data/other_artists/mas-near-arles-1888.jpg',\n",
              " 'data/other_artists/meadow-at-the-banks-of-aven-1888.jpg',\n",
              " 'data/other_artists/night-café-arles-1888.jpg',\n",
              " 'data/other_artists/old-women-of-arles-1888.jpg',\n",
              " 'data/other_artists/path-down-to-the-aven-1888.jpg',\n",
              " 'data/other_artists/petit-breton-arranging-his-shoe-or-landscape-at-pont-aven-brittany-1888.jpg',\n",
              " 'data/other_artists/portrait-of-a-little-boy-1888.jpg',\n",
              " 'data/other_artists/portrait-of-a-woman-marie-lagadu-1888.jpg',\n",
              " 'data/other_artists/portrait-of-madelaine-bernard-1888.jpg',\n",
              " 'data/other_artists/river-aven-below-moun-saint-marguerite-1888.jpg',\n",
              " 'data/other_artists/rocks-on-the-breton-coast-1888.jpg',\n",
              " 'data/other_artists/seascape-with-cow-on-the-edge-of-a-cliff-1888.jpg',\n",
              " 'data/other_artists/self-portrait-at-lezaven-1888.jpg',\n",
              " 'data/other_artists/self-portrait-dedicated-to-vincent-van-gogh-les-misérables-1888.jpg',\n",
              " 'data/other_artists/sheperd-and-sheperdess-in-a-meadow-1888.jpg',\n",
              " 'data/other_artists/still-life-fete-gloanec-1888.jpg',\n",
              " 'data/other_artists/still-life-with-three-puppies-1888.jpg',\n",
              " 'data/other_artists/swineherd-brittany-1888.jpg',\n",
              " 'data/other_artists/the-clog-maker-1888.jpg',\n",
              " 'data/other_artists/the-first-flowers-1888.jpg',\n",
              " 'data/other_artists/the-wave-1888.jpg',\n",
              " 'data/other_artists/upstream-of-pont-aven-1888.jpg',\n",
              " 'data/other_artists/view-of-pont-aven-from-lezaven-1888.jpg',\n",
              " 'data/other_artists/washerwomen-1888.jpg',\n",
              " 'data/other_artists/washerwomen-at-roubine-du-roi-1888.jpg',\n",
              " 'data/other_artists/willow-by-the-aven-1888.jpg',\n",
              " 'data/other_artists/young-woman-at-the-window-1888.jpg',\n",
              " 'data/other_artists/night-cafe-in-arles-madame-ginoux-1888.jpg',\n",
              " 'data/other_artists/bank-of-the-oise-1888.jpg',\n",
              " 'data/other_artists/boy-in-a-red-vest-1888.jpg',\n",
              " 'data/other_artists/bridge-over-the-marne-1888.jpg',\n",
              " 'data/other_artists/pierrot-and-harlequin-mardi-gras-1888.jpg',\n",
              " 'data/other_artists/pots-of-geraniums.jpg',\n",
              " 'data/other_artists/rose-bush.jpg',\n",
              " 'data/other_artists/still-life-flowers-in-a-vase-1888.jpg',\n",
              " 'data/other_artists/the-alley-at-chantilly-1888.jpg',\n",
              " 'data/other_artists/the-alley-at-chantilly-1888-1.jpg',\n",
              " 'data/other_artists/the-alley-at-chantilly-1888-2.jpg',\n",
              " 'data/other_artists/the-arc-valley-1888.jpg',\n",
              " 'data/other_artists/the-banks-of-the-marne-1888-1.jpg',\n",
              " 'data/other_artists/pot-of-flowers.jpg',\n",
              " 'data/other_artists/a-l-elysee-montmartre-1888.jpg',\n",
              " 'data/other_artists/at-the-circus-fernando-the-rider-1888.jpg',\n",
              " 'data/other_artists/at-the-cirque-fernando-rider-on-a-white-horse-1888.jpg',\n",
              " 'data/other_artists/in-batignolles-1888.jpg',\n",
              " 'data/other_artists/lili-grenier-in-a-kimono-1888.jpg',\n",
              " 'data/other_artists/little-dog-1888.jpg',\n",
              " 'data/other_artists/madame-lili-grenier-1888.jpg',\n",
              " 'data/other_artists/man-in-a-shirt-from-behind-1888.jpg',\n",
              " 'data/other_artists/portrait-of-a-woman-1888.jpg',\n",
              " 'data/other_artists/study-for-the-laundress-1888.jpg',\n",
              " 'data/other_artists/study-of-a-dancer-1888.jpg',\n",
              " 'data/other_artists/the-laundry-worker-1888.jpg',\n",
              " 'data/other_artists/the-redhead-with-a-white-blouse-1888.jpg',\n",
              " 'data/other_artists/the-spanish-dancer-1888.jpg',\n",
              " 'data/other_artists/madame-vuillard-at-table.jpg',\n",
              " 'data/other_artists/self-portrait.jpg',\n",
              " 'data/other_artists/louise-tiffany-reading-1888.jpg',\n",
              " 'data/other_artists/taming-the-flamingo-also-known-as-feeding-the-flamingoes-1888.jpg',\n",
              " 'data/other_artists/my-family-at-somesville-1888.jpg',\n",
              " 'data/other_artists/a-breton-boy-1889-1.jpg',\n",
              " 'data/other_artists/bonjour-monsieur-gauguin-1889.jpg',\n",
              " 'data/other_artists/breton-boy-in-a-landscape-with-goose-1889.jpg',\n",
              " 'data/other_artists/breton-eve-1889.jpg',\n",
              " 'data/other_artists/breton-girls-by-the-sea-1889.jpg',\n",
              " 'data/other_artists/breton-landscape-fields-by-the-sea-le-pouldu-1889.jpg',\n",
              " 'data/other_artists/bretons-and-cows-1889.jpg',\n",
              " 'data/other_artists/brittany-landscape-with-women-carrying-sack-1889.jpg',\n",
              " 'data/other_artists/calvaire-breton-1889.jpg',\n",
              " 'data/other_artists/flutist-on-the-cliffs-1889.jpg',\n",
              " 'data/other_artists/in-brittany-1889.jpg',\n",
              " 'data/other_artists/in-the-waves-1889.jpg',\n",
              " 'data/other_artists/landscape-at-le-pouldu-the-isolated-house-1889.jpg',\n",
              " 'data/other_artists/landscape-with-two-breton-women-1889.jpg',\n",
              " 'data/other_artists/nostalgic-promenade-1889.jpg',\n",
              " 'data/other_artists/rocks-on-the-coast-1889.jpg',\n",
              " 'data/other_artists/seated-breton-girl-1889.jpg',\n",
              " 'data/other_artists/still-life-ripipont-1889.jpg',\n",
              " 'data/other_artists/still-life-with-a-fan.jpg',\n",
              " 'data/other_artists/still-life-with-apples-a-pear-and-a-ceramic-portrait-jug-1889-oil-on-panel-1889.jpg',\n",
              " 'data/other_artists/still-life-with-peaches-1889.jpg',\n",
              " 'data/other_artists/the-creek-le-pouldu-1889.jpg',\n",
              " 'data/other_artists/the-ham-1889.jpg',\n",
              " 'data/other_artists/the-kelp-gatherers-1889.jpg',\n",
              " 'data/other_artists/the-large-tree-1889.jpg',\n",
              " 'data/other_artists/the-red-cow-1889.jpg',\n",
              " 'data/other_artists/the-willows-1889.jpg',\n",
              " 'data/other_artists/the-wooden-gate-the-pig-keeper-1889.jpg',\n",
              " 'data/other_artists/view-of-the-beach-at-bellangenai-1889.jpg',\n",
              " 'data/other_artists/willows-1889.jpg',\n",
              " 'data/other_artists/yellow-haystacks-golden-harvest-1889.jpg',\n",
              " 'data/other_artists/young-breton-by-the-sea-1889.jpg',\n",
              " 'data/other_artists/self-portrait-with-mandolin-1889.jpg',\n",
              " 'data/other_artists/boy-in-a-red-vest-1889.jpg',\n",
              " 'data/other_artists/bridge-over-the-pond.jpg',\n",
              " 'data/other_artists/the-great-pine-1889.jpg',\n",
              " 'data/other_artists/self-portrait-1889.jpg',\n",
              " 'data/other_artists/a-ball-at-the-moulin-de-la-galette-1889.jpg',\n",
              " 'data/other_artists/at-la-bastille-portrait-of-jeanne-wenz-1889.jpg',\n",
              " 'data/other_artists/ball-at-the-moulin-de-la-galette-1889.jpg',\n",
              " 'data/other_artists/emile-davoust-1889.jpg',\n",
              " 'data/other_artists/girl-with-lovelock-1889.jpg',\n",
              " 'data/other_artists/hangover-1889.jpg',\n",
              " 'data/other_artists/helene-vary-1889.jpg',\n",
              " 'data/other_artists/red-haired-woman-seated-in-the-garden-of-m-forest-1889.jpg',\n",
              " 'data/other_artists/the-actor-henry-samary-1889.jpg',\n",
              " 'data/other_artists/the-morning-after-1889.jpg',\n",
              " 'data/other_artists/the-painter-s-model-helene-vary-in-the-studio-1889.jpg',\n",
              " 'data/other_artists/woman-at-her-toil-1896.jpg',\n",
              " 'data/other_artists/woman-at-her-toilette-1889.jpg',\n",
              " 'data/other_artists/woman-with-an-umbrella-1889.jpg',\n",
              " 'data/other_artists/portrait-of-marie-lagadu-1889.jpg',\n",
              " 'data/other_artists/self-portrait-1.jpg',\n",
              " 'data/other_artists/child-by-the-table-1889.jpg',\n",
              " 'data/other_artists/child-in-an-apron-or-little-girl-in-a-red-dress.jpg',\n",
              " 'data/other_artists/the-road-to-calvary.jpg',\n",
              " 'data/other_artists/the-coal-scuttles-1889.jpg',\n",
              " 'data/other_artists/port-joie-at-the-seine-1889.jpg',\n",
              " 'data/other_artists/self-portrait-in-breton-costume-1889.jpg',\n",
              " 'data/other_artists/still-life-with-ham-1889.jpg',\n",
              " 'data/other_artists/sick-boy-bambino-malato-1889.jpg',\n",
              " 'data/other_artists/a-blue-roof-farm-in-pouldu-1890.jpg',\n",
              " 'data/other_artists/haystacks-in-brittany-1890.jpg',\n",
              " 'data/other_artists/kelp-gatherers-1890.jpg',\n",
              " 'data/other_artists/landscape-at-le-pouldu-1890.jpg',\n",
              " 'data/other_artists/mimi-and-her-cat-1890.jpg',\n",
              " 'data/other_artists/negreries-martinique-1890.jpg',\n",
              " 'data/other_artists/nirvana-portrait-of-jacob-meyer-de-haan-1890.jpg',\n",
              " 'data/other_artists/not-detected.jpg',\n",
              " 'data/other_artists/portrait-of-woman-against-the-cezanne-s-still-life-with-apples-1890.jpg',\n",
              " 'data/other_artists/seaside-harvest-1890.jpg',\n",
              " 'data/other_artists/self-portrait.jpg',\n",
              " 'data/other_artists/still-life-with-apples-and-green-vase-1890.jpg',\n",
              " 'data/other_artists/portrait-of-jules-roc-1890.jpg',\n",
              " 'data/other_artists/a-close-1890.jpg',\n",
              " 'data/other_artists/bathers-1890.jpg',\n",
              " 'data/other_artists/bathsheba.jpg',\n",
              " 'data/other_artists/bathsheba-1.jpg',\n",
              " 'data/other_artists/boy-in-a-red-vest-1890.jpg',\n",
              " 'data/other_artists/boy-in-a-red-vest-1890-1.jpg',\n",
              " 'data/other_artists/boy-in-a-red-vest-1890-2.jpg',\n",
              " 'data/other_artists/boy-resting-1890.jpg',\n",
              " 'data/other_artists/castle-of-marines-1890.jpg',\n",
              " 'data/other_artists/forest.jpg',\n",
              " 'data/other_artists/four-bathers-1.jpg',\n",
              " 'data/other_artists/gardanne-1890.jpg',\n",
              " 'data/other_artists/harlequin-1890.jpg',\n",
              " 'data/other_artists/harlequin-1890-1.jpg',\n",
              " 'data/other_artists/house-with-red-roof-1890.jpg',\n",
              " 'data/other_artists/madame-cezanne-in-a-yellow-chair.jpg',\n",
              " 'data/other_artists/madame-cezanne-in-blue-1890.jpg',\n",
              " 'data/other_artists/madame-cezanne-with-a-yellow-armchair.jpg',\n",
              " 'data/other_artists/man-in-a-room-1890.jpg',\n",
              " 'data/other_artists/mont-sainte-victoire-1887-1.jpg',\n",
              " 'data/other_artists/mont-sainte-victoire-1890.jpg',\n",
              " 'data/other_artists/mont-sainte-victoire-1.jpg',\n",
              " 'data/other_artists/mont-sainte-victoire-2.jpg',\n",
              " 'data/other_artists/mountains-in-provence-1890.jpg',\n",
              " 'data/other_artists/portrait-of-madame-cezanne-3.jpg',\n",
              " 'data/other_artists/portrait-of-madame-cezanne-in-a-red-dress.jpg',\n",
              " 'data/other_artists/portrait-of-the-artist-s-son.jpg',\n",
              " 'data/other_artists/pot-of-ginger-and-fruits-on-a-table.jpg',\n",
              " 'data/other_artists/potted-plants-1890.jpg',\n",
              " 'data/other_artists/preparation-for-a-banquet-1890.jpg',\n",
              " 'data/other_artists/reflections-in-the-water.jpg',\n",
              " 'data/other_artists/self-portrait-with-palette.jpg',\n",
              " 'data/other_artists/still-life-with-apples-1.jpg',\n",
              " 'data/other_artists/still-life-with-basket.jpg',\n",
              " 'data/other_artists/still-life-with-flowers-and-fruit-1890.jpg',\n",
              " 'data/other_artists/main-image.jpg',\n",
              " 'data/other_artists/still-life-with-pomegranate-and-pears-1890.jpg',\n",
              " 'data/other_artists/still-life-with-sugar-1890.jpg',\n",
              " 'data/other_artists/still-life-bottle-of-rum-1890.jpg',\n",
              " 'data/other_artists/the-aqueduct-and-lock.jpg',\n",
              " 'data/other_artists/the-pigeon-tower-at-bellevue.jpg',\n",
              " 'data/other_artists/the-smoker-1890.jpg',\n",
              " 'data/other_artists/the-picador-1890.jpg',\n",
              " 'data/other_artists/at-the-moulin-rouge-the-dance-1890.jpg',\n",
              " 'data/other_artists/desire-dehau-reading-a-newspaper-in-the-garden-1890.jpg',\n",
              " 'data/other_artists/gabrielle-the-dancer-1890.jpg',\n",
              " 'data/other_artists/house-wife-1890.jpg',\n",
              " 'data/other_artists/mademoiselle-dihau-at-the-piano-1890.jpg',\n",
              " 'data/other_artists/portrait-of-miss-may-belfort-1890.jpg',\n",
              " 'data/other_artists/seated-dancer-in-pink-tights-1890.jpg',\n",
              " 'data/other_artists/seated-woman-in-the-garden-of-mr-forest-justine-dieuhl-1890.jpg',\n",
              " 'data/other_artists/standing-dancer-1890.jpg',\n",
              " 'data/other_artists/the-policeman-s-daughter-1890.jpg',\n",
              " 'data/other_artists/two-girls-1890.jpg',\n",
              " 'data/other_artists/woman-in-a-black-hat-berthe-la-sourde-1890.jpg',\n",
              " 'data/other_artists/louise-the-breton-servant-1890.jpg',\n",
              " 'data/other_artists/breton-village.jpg',\n",
              " 'data/other_artists/willow-tree-by-the-lake-1890.jpg',\n",
              " 'data/other_artists/bretons.jpg',\n",
              " 'data/other_artists/mother-and-child.jpg',\n",
              " 'data/other_artists/spots-of-sunlight-on-the-terrace.jpg',\n",
              " 'data/other_artists/the-offertory-at-calvary.jpg',\n",
              " 'data/other_artists/field-and-hills.jpg',\n",
              " 'data/other_artists/before-the-morphine-1890.jpg',\n",
              " 'data/other_artists/boys-throwing-pebbles-into-the-river-1890.jpg',\n",
              " 'data/other_artists/lilacs-in-a-glass-apple-and-lemon-1890.jpg',\n",
              " 'data/other_artists/maternity-mary-henry-breastfeeding-1890.jpg',\n",
              " 'data/other_artists/nature-morte-pichet-et-oignons-1890.jpg',\n",
              " 'data/other_artists/still-life-with-a-profile-of-mimi-1890.jpg',\n",
              " 'data/other_artists/the-druids-bringing-in-the-mistletoe-collaboration-with-edward-atkinson-hornel-1890.jpg',\n",
              " 'data/other_artists/bambina-che-ride-1890.jpg',\n",
              " 'data/other_artists/little-laughing-woman-1890.jpg',\n",
              " 'data/other_artists/pankiewicz-woz-z-sianem-1890.jpg',\n",
              " 'data/other_artists/pankiewicz-targ-na-kwiaty-przed-ko-cio-em-w-magdaleny-w-pary-u-1890.jpg',\n",
              " 'data/other_artists/exotic-eve-1890.jpg',\n",
              " 'data/other_artists/chamber-music-concert-1890.jpg',\n",
              " 'data/other_artists/roderic-o-conor-bretonne.jpg',\n",
              " 'data/other_artists/biribi-de-georges-darien-couverture-de-maximilien-luce.jpg',\n",
              " 'data/other_artists/a-big-tree-1891-1.jpg',\n",
              " 'data/other_artists/black-pigs-1891.jpg',\n",
              " 'data/other_artists/come-here-1891.jpg',\n",
              " 'data/other_artists/fire-dance-1891.jpg',\n",
              " 'data/other_artists/in-the-vanilla-grove-man-and-horse-the-rendezvous-1891.jpg',\n",
              " 'data/other_artists/landscape-with-black-pigs-and-a-crouching-tahitian-1891.jpg',\n",
              " 'data/other_artists/portrait-of-suzanne-bambridge-1891.jpg',\n",
              " 'data/other_artists/tahitian-woman-with-flower-in-her-hair.jpg',\n",
              " 'data/other_artists/tahitians-at-rest-unfinished.jpg',\n",
              " 'data/other_artists/the-large-tree-1891.jpg',\n",
              " 'data/other_artists/the-meal-the-bananas-1891.jpg',\n",
              " 'data/other_artists/bathers-1891.jpg',\n",
              " 'data/other_artists/madame-cezanne-in-a-yellow-chair-1.jpg',\n",
              " 'data/other_artists/mercury-after-pigalle-1891.jpg',\n",
              " 'data/other_artists/peasant-1891.jpg',\n",
              " 'data/other_artists/the-drinker-1891.jpg',\n",
              " 'data/other_artists/study-for-afternoon-in-the-garden-1891.jpg',\n",
              " 'data/other_artists/at-the-moulin-de-la-galette-1891.jpg',\n",
              " 'data/other_artists/girl-in-a-fur-mademoiselle-jeanne-fontaine-1891.jpg',\n",
              " 'data/other_artists/henri-dihau-1891.jpg',\n",
              " 'data/other_artists/monsieur-louis-pascal-1891.jpg',\n",
              " 'data/other_artists/portrait-of-georges-henri-manuel-1891.jpg',\n",
              " 'data/other_artists/portrait-of-m-paul-sescau-portrait-de-m-paul-sescau.jpg',\n",
              " 'data/other_artists/red-haired-woman-seen-from-behind-1891.jpg',\n",
              " 'data/other_artists/the-greens-seated-woman-in-a-garden-1891.jpg',\n",
              " 'data/other_artists/the-last-crunbs-1891.jpg',\n",
              " 'data/other_artists/the-streetwalker-also-known-as-casque-d-or-1891.jpg',\n",
              " 'data/other_artists/the-toilet-ms-fabre-1891.jpg',\n",
              " 'data/other_artists/two-women-making-the-bed-1891.jpg',\n",
              " 'data/other_artists/woman-in-monsieur-forest-s-garden-1891.jpg',\n",
              " 'data/other_artists/woman-in-the-garden-1891.jpg',\n",
              " 'data/other_artists/woman-with-gloves-honorine-platzer-1891.jpg',\n",
              " 'data/other_artists/square-with-street-lamp-1891.jpg',\n",
              " 'data/other_artists/woman-in-a-street-1891.jpg',\n",
              " 'data/other_artists/autoportrait.jpg',\n",
              " 'data/other_artists/brittany-a-hamlet-1891.jpg',\n",
              " 'data/other_artists/harvesting-of-goemon-1891.jpg',\n",
              " 'data/other_artists/easter-morning-or-easter-mystery.jpg',\n",
              " 'data/other_artists/the-seasons-series-september.jpg',\n",
              " 'data/other_artists/the-two-sisters.jpg',\n",
              " 'data/other_artists/trinity-evening.jpg',\n",
              " 'data/other_artists/the-port-of-pully-1891.jpg',\n",
              " 'data/other_artists/trees-by-the-river-1891.jpg',\n",
              " 'data/other_artists/landscape-with-shepherd-near-villa-madama-rome-1891.jpg',\n",
              " 'data/other_artists/self-portrait-1891.jpg',\n",
              " 'data/other_artists/nude-woman-combing-her-hair-1891.jpg',\n",
              " 'data/other_artists/laughing-woman-large-version-1891.jpg',\n",
              " 'data/other_artists/tahitian-landscape-1891.jpg',\n",
              " 'data/other_artists/at-work-the-land-man-s-face-in-profile-leaning-forward.jpg',\n",
              " 'data/other_artists/group-of-figures-in-front-of-a-house-and-some-trees.jpg',\n",
              " 'data/other_artists/nurse-sitting-holding-her-baby.jpg',\n",
              " 'data/other_artists/on-the-balcony.jpg',\n",
              " 'data/other_artists/the-cart-or-the-horse-hauler.jpg',\n",
              " 'data/other_artists/the-painter.jpg',\n",
              " 'data/other_artists/the-ploughman.jpg',\n",
              " 'data/other_artists/the-tree-trunk.jpg',\n",
              " 'data/other_artists/arearea-i-1892.jpg',\n",
              " 'data/other_artists/head-of-a-woman.jpg',\n",
              " 'data/other_artists/her-nami-is-vairaumati-1892.jpg',\n",
              " 'data/other_artists/landscape-with-peacocks-1892.jpg',\n",
              " 'data/other_artists/landscape-with-three-trees-1892.jpg',\n",
              " 'data/other_artists/tahitian-eve-1892.jpg',\n",
              " 'data/other_artists/tahitian-woman-s-head.jpg',\n",
              " 'data/other_artists/tahitian-women-under-the-palms-1892.jpg',\n",
              " 'data/other_artists/taperaa-mahana-1892.jpg',\n",
              " 'data/other_artists/the-house-of-singing-1892.jpg',\n",
              " 'data/other_artists/the-moment-of-truth-i-1892.jpg',\n",
              " 'data/other_artists/the-morning-1892.jpg',\n",
              " 'data/other_artists/the-seed-of-the-areoi-1892.jpg',\n",
              " 'data/other_artists/the-spirit-of-the-dead-watches-1892.jpg',\n",
              " 'data/other_artists/two-sisters-1892(1).jpg',\n",
              " 'data/other_artists/vairumati-1892.jpg',\n",
              " 'data/other_artists/we-shall-not-go-to-market-today-1892.jpg',\n",
              " 'data/other_artists/what-s-new-1892.jpg',\n",
              " 'data/other_artists/women-at-the-banks-of-river-1892.jpg',\n",
              " 'data/other_artists/women-at-the-riverside-1892.jpg',\n",
              " 'data/other_artists/words-of-the-devil-1892.jpg',\n",
              " 'data/other_artists/the-hibiskus-tree-1892.jpg',\n",
              " 'data/other_artists/centennial-of-independence-1892.jpg',\n",
              " 'data/other_artists/jacket-on-a-chair-1892.jpg',\n",
              " 'data/other_artists/madame-cezanne-in-the-greenhouse.jpg',\n",
              " 'data/other_artists/man-with-a-pipe-1892.jpg',\n",
              " 'data/other_artists/smoker-1892.jpg',\n",
              " 'data/other_artists/the-card-players-1892.jpg',\n",
              " 'data/other_artists/the-card-players-1893.jpg',\n",
              " 'data/other_artists/the-farm-of-bellevue-1892(1).jpg',\n",
              " 'data/other_artists/tulips-in-a-vase-1892.jpg',\n",
              " 'data/other_artists/woman-in-a-green-dress-in-a-garden.jpg',\n",
              " 'data/other_artists/aristide-bruant-in-his-cabaret-1892.jpg',\n",
              " 'data/other_artists/aristide-bruant-on-his-bicycle-1892.jpg',\n",
              " 'data/other_artists/corner-in-the-moulin-de-la-galette-1892.jpg',\n",
              " 'data/other_artists/in-bed-1892.jpg',\n",
              " 'data/other_artists/in-bed-the-kiss-1892.jpg',\n",
              " 'data/other_artists/jane-avril-1892.jpg',\n",
              " 'data/other_artists/jane-avril-dancing-1892-1.jpg',\n",
              " 'data/other_artists/jane-avril-enter-the-moulin-rouge-1892.jpg',\n",
              " 'data/other_artists/la-goulue-arriving-at-the-moulin-rouge-with-two-women-1892.jpg',\n",
              " 'data/other_artists/louis-pascal-1892.jpg',\n",
              " 'data/other_artists/moulin-rouge-the-departure-of-the-quadrille-1892.jpg',\n",
              " 'data/other_artists/portrait-of-a-woman-of-the-house-on-the-rue-d-amboise-1892.jpg',\n",
              " 'data/other_artists/the-ballet-papa-chrysanth-me-1892.jpg',\n",
              " 'data/other_artists/woman-with-a-black-boa-1892.jpg',\n",
              " 'data/other_artists/woman-brushing-a-garment-1892.jpg',\n",
              " 'data/other_artists/brittany-1892.jpg',\n",
              " 'data/other_artists/pont-aven-red-sky-1892.jpg',\n",
              " 'data/other_artists/the-storm-1892.jpg',\n",
              " 'data/other_artists/my-utrillo-at-the-age-of-nine-1892.jpg',\n",
              " 'data/other_artists/portrait-of-erik-satie.jpg',\n",
              " 'data/other_artists/april-1892.jpg',\n",
              " 'data/other_artists/beauty-in-the-autumn-wood.jpg',\n",
              " 'data/other_artists/mystic-allegory-or-tea.jpg',\n",
              " 'data/other_artists/regata-at-perros.jpg',\n",
              " 'data/other_artists/rocks-at-pouldu.jpg',\n",
              " 'data/other_artists/sleeping-woman-1892.jpg',\n",
              " 'data/other_artists/the-ladder-in-the-foliage-1892.jpg',\n",
              " 'data/other_artists/triple-portrait-of-marthe.jpg',\n",
              " 'data/other_artists/wedding-procession.jpg',\n",
              " 'data/other_artists/by-the-oise-river-1892.jpg',\n",
              " 'data/other_artists/twilight-in-an-intimate-room-1892.jpg',\n",
              " 'data/other_artists/landmark-1892.jpg',\n",
              " 'data/other_artists/rayons-du-soir-1892.jpg',\n",
              " 'data/other_artists/portrait-de-fran-ois-rupert-carabin-1892.jpg',\n",
              " 'data/other_artists/jewish-boy-1892.jpg',\n",
              " 'data/other_artists/190-2012-s.jpg',\n",
              " 'data/other_artists/pankiewicz-rynek-starego-miasta-w-warszawie-noc-1892.jpg',\n",
              " 'data/other_artists/paul-gauguin-delightful-land-te-nave-nave-fenua-google-art-project.jpg',\n",
              " 'data/other_artists/ni-nmni-belum-u389-001.jpg',\n",
              " 'data/other_artists/tate-tate-t02113-10-001.jpg',\n",
              " 'data/other_artists/tate-tate-t00133-10-001.jpg',\n",
              " 'data/other_artists/tahitian-women-bathing-1892.jpg',\n",
              " 'data/other_artists/cardplayers-study-bloch-collection.jpg',\n",
              " 'data/other_artists/roderic-o-conor-la-ferme-the-farm-1958-13-auckland-art-gallery.jpg',\n",
              " 'data/other_artists/roderic-o-conor-p-turage-breton.jpg',\n",
              " 'data/other_artists/roderic-o-conor-the-glade-1892-oil-on-canvas-92-x-59-6-cm-moma-270-1956.png!PinterestSmall.jpg',\n",
              " 'data/other_artists/l1111-l-o-gausson-bord-de-marne-lagny.jpg',\n",
              " 'data/other_artists/among-the-lillies-1893.jpg',\n",
              " 'data/other_artists/barbarian-music-1893.jpg',\n",
              " 'data/other_artists/here-we-make-love.jpg',\n",
              " 'data/other_artists/hina-moon-goddess-te-fatu-earth-spirit-1893.jpg',\n",
              " 'data/other_artists/mysterious-water-1893.jpg',\n",
              " 'data/other_artists/self-portrait-in-a-hat.jpg',\n",
              " 'data/other_artists/self-portrait-at-work.jpg',\n",
              " 'data/other_artists/the-messengers-of-oro-1893.jpg',\n",
              " 'data/other_artists/the-moment-of-truth-ii-1893.jpg',\n",
              " 'data/other_artists/woman-holding-a-fruit-1893.jpg',\n",
              " 'data/other_artists/noa-noa-suite-delightful-land.jpg',\n",
              " 'data/other_artists/rocks-at-fountainebleau-1893.jpg',\n",
              " 'data/other_artists/still-life-with-pomegranate-and-pears-1893.jpg',\n",
              " 'data/other_artists/still-life-with-water-jug-1893.jpg',\n",
              " 'data/other_artists/the-card-players-1893-1.jpg',\n",
              " 'data/other_artists/woodland-with-boulders-1893.jpg',\n",
              " 'data/other_artists/child-at-table-1893.jpg',\n",
              " 'data/other_artists/street-in-eragny-sur-oise-or-dogs-in-eragny-1893.jpg',\n",
              " 'data/other_artists/house-in-the-field-1893.jpg',\n",
              " 'data/other_artists/henri-gabriel-ibels-1893.jpg',\n",
              " 'data/other_artists/in-bed-1893.jpg',\n",
              " 'data/other_artists/jane-avril-dancing-1893.jpg',\n",
              " 'data/other_artists/jane-avril-leaving-the-moulin-rouge-1893.jpg',\n",
              " 'data/other_artists/la-macarona-in-riding-habit-1893.jpg',\n",
              " 'data/other_artists/lo-e-fuller-in-1893.jpg',\n",
              " 'data/other_artists/m-delaporte-at-the-jardin-de-paris-1893.jpg',\n",
              " 'data/other_artists/monsieur-boileau-1893.jpg',\n",
              " 'data/other_artists/monsieur-louis-pascal-from-the-rear-1893.jpg',\n",
              " 'data/other_artists/portrait-of-madame-de-gortzikolff-1893.jpg',\n",
              " 'data/other_artists/the-ambassadors-people-chics-1893.jpg',\n",
              " 'data/other_artists/the-card-players-1893.jpg',\n",
              " 'data/other_artists/the-divan-1893.jpg',\n",
              " 'data/other_artists/the-haido-1893.jpg',\n",
              " 'data/other_artists/the-kiss-1893.jpg',\n",
              " 'data/other_artists/the-madame-redoing-her-bun-1893.jpg',\n",
              " 'data/other_artists/the-theater-box-with-the-gilded-mask-1893.jpg',\n",
              " 'data/other_artists/the-pierreuse-gabrielle-1893.jpg',\n",
              " 'data/other_artists/madame-vuillard-seated.jpg',\n",
              " 'data/other_artists/man-and-woman-beneath-a-tree.jpg',\n",
              " 'data/other_artists/seated-woman-dressed-in-black.jpg',\n",
              " 'data/other_artists/the-cliffs.jpg',\n",
              " 'data/other_artists/landscape-with-two-small-trees.jpg',\n",
              " 'data/other_artists/maggia-delta-before-sunrise-1893.jpg',\n",
              " 'data/other_artists/green-trees-or-the-beeches-of-kerduel.jpg',\n",
              " 'data/other_artists/jacob-s-battle-with-the-angel.jpg',\n",
              " 'data/other_artists/the-muses-1893.jpg',\n",
              " 'data/other_artists/bird-of-prey-1893.jpg',\n",
              " 'data/other_artists/deer-1893.jpg',\n",
              " 'data/other_artists/the-village-of-vosges-1893.jpg',\n",
              " 'data/other_artists/fishermen-fleeing-the-storm-1893.jpg',\n",
              " 'data/other_artists/four-breton-women-at-the-seashore-1893.jpg',\n",
              " 'data/other_artists/maternity-1893.jpg',\n",
              " 'data/other_artists/jozef-pankiewicz23.jpg',\n",
              " 'data/other_artists/vuillard-interior-with-mother-and-sister-of-the-artist.jpg',\n",
              " 'data/other_artists/a-breton-landscape-david-s-mill-1894.jpg',\n",
              " 'data/other_artists/breton-village-under-snow-1894.jpg',\n",
              " 'data/other_artists/christmas-night-1894.jpg',\n",
              " 'data/other_artists/farm-in-brittany-1894.jpg',\n",
              " 'data/other_artists/flowers-in-a-fruit-bowl-1894.jpg',\n",
              " 'data/other_artists/hut-under-the-coconut-palms.jpg',\n",
              " 'data/other_artists/orana-maria-hail-maria-1894.jpg',\n",
              " 'data/other_artists/paris-in-the-snow-1894.jpg',\n",
              " 'data/other_artists/portrait-of-william-molard-1894.jpg',\n",
              " 'data/other_artists/self-portrait-with-palette-1894.jpg',\n",
              " 'data/other_artists/siesta-1894.jpg',\n",
              " 'data/other_artists/tahitian-woman-1894.jpg',\n",
              " 'data/other_artists/the-cellist-portrait-of-upaupa-scheklud-1894.jpg',\n",
              " 'data/other_artists/village-in-the-snow-1894.jpg',\n",
              " 'data/other_artists/bathers-1.jpg',\n",
              " 'data/other_artists/church-of-saint-pierre-in-avon.jpg',\n",
              " 'data/other_artists/curtain-jug-and-fruit-1894.jpg',\n",
              " 'data/other_artists/dish-of-peaches.jpg',\n",
              " 'data/other_artists/fruit-and-jug-on-a-table.jpg',\n",
              " 'data/other_artists/fruit-bowl-pitcher-and-fruit-1894.jpg',\n",
              " 'data/other_artists/in-the-woods-1894.jpg',\n",
              " 'data/other_artists/millstone-and-cistern-under-trees.jpg',\n",
              " 'data/other_artists/self-portrait-in-a-felt-hat-1894(2).jpg',\n",
              " 'data/other_artists/still-life-with-a-ginger-jar-and-eggplants-1894.jpg',\n",
              " 'data/other_artists/still-life-with-apples-1894.jpg',\n",
              " 'data/other_artists/still-life-with-apples-1894-1.jpg',\n",
              " 'data/other_artists/still-life-jug-and-fruit-on-a-table-1894.jpg',\n",
              " 'data/other_artists/still-life-pitcher-and-fruit-1894.jpg',\n",
              " 'data/other_artists/still-life-tulips-and-apples-1894.jpg',\n",
              " 'data/other_artists/sugarbowl-pears-and-tablecloth.jpg',\n",
              " 'data/other_artists/the-farm-of-bellevue.jpg',\n",
              " 'data/other_artists/the-house-with-cracked-walls.jpg',\n",
              " 'data/other_artists/the-lime-kiln.jpg',\n",
              " 'data/other_artists/woods-with-millstone-1894.jpg',\n",
              " 'data/other_artists/at-the-races-longchamp-1894.jpg',\n",
              " 'data/other_artists/figures-in-the-street-1894.jpg',\n",
              " 'data/other_artists/woman-on-the-street-1894.jpg',\n",
              " 'data/other_artists/woman-washing-her-feet-1894.jpg',\n",
              " 'data/other_artists/young-girl-with-umbrella-1894.jpg',\n",
              " 'data/other_artists/brothel-on-the-rue-des-moulins-rolande-1894.jpg',\n",
              " 'data/other_artists/cassive-jeanne-hading.jpg',\n",
              " 'data/other_artists/dr-tapie-celeyran-in-a-corridor-of-the-french-comedy-1894.jpg',\n",
              " 'data/other_artists/indian-decor-1894.jpg',\n",
              " 'data/other_artists/monsieur-madame-and-the-dog-coupled-brothel-keepers.jpg',\n",
              " 'data/other_artists/portrait-of-marcelle-1894.jpg',\n",
              " 'data/other_artists/prostitutes-around-a-dinner-table.jpg',\n",
              " 'data/other_artists/the-laundryman-calling-at-the-brothal-1894.jpg',\n",
              " 'data/other_artists/the-medical-inspection.jpg',\n",
              " 'data/other_artists/the-salon-de-la-rue-des-moulins-1894.jpg',\n",
              " 'data/other_artists/the-salon-in-the-rue-des-moulins-1894.jpg',\n",
              " 'data/other_artists/the-tatooed-woman-1894.jpg',\n",
              " 'data/other_artists/the-two-friends-1894.jpg',\n",
              " 'data/other_artists/the-two-girlfriends-1894.jpg',\n",
              " 'data/other_artists/two-half-naked-women-seen-from-behind-in-the-rue-des-moulins-brothel-1894.jpg',\n",
              " 'data/other_artists/woman-pulling-up-her-stockings-1894.jpg',\n",
              " 'data/other_artists/woman-putting-on-her-stocking.jpg',\n",
              " 'data/other_artists/woman-brothel-1894.jpg',\n",
              " 'data/other_artists/yvette-guibert-singing-1894.jpg',\n",
              " 'data/other_artists/can-can-dancer.jpg',\n",
              " 'data/other_artists/green-dress-1894.jpg',\n",
              " 'data/other_artists/the-dancers.jpg',\n",
              " 'data/other_artists/the-red-cape.jpg',\n",
              " 'data/other_artists/good-children.jpg',\n",
              " 'data/other_artists/the-leguenay-bridge-1894.jpg',\n",
              " 'data/other_artists/the-three-cliffs-1894.jpg',\n",
              " 'data/other_artists/the-visitation-1894.jpg',\n",
              " 'data/other_artists/old-woman-peeliing-apple-1894.jpg',\n",
              " 'data/other_artists/portrait-of-emilie-amiet-baer-1894.jpg',\n",
              " 'data/other_artists/sophie-1894.jpg',\n",
              " 'data/other_artists/the-bookmaker-1894.jpg',\n",
              " 'data/other_artists/tate-tate-t00820-10-001.jpg',\n",
              " 'data/other_artists/mp345.jpg',\n",
              " 'data/other_artists/roderic-o-conor-lezaven.jpg',\n",
              " 'data/other_artists/roderic-o-conor-farm-at-lezaven.jpg',\n",
              " 'data/other_artists/apples-and-biscuits-1895.jpg',\n",
              " 'data/other_artists/ginger-jar.jpg',\n",
              " 'data/other_artists/house-in-provence.jpg',\n",
              " 'data/other_artists/large-pine-and-red-earth-1895.jpg',\n",
              " 'data/other_artists/madame-cezanne-with-green-hat-1892.jpg',\n",
              " 'data/other_artists/man-with-a-pipe-1895.jpg',\n",
              " 'data/other_artists/mont-sainte-victoire-3.jpg',\n",
              " 'data/other_artists/portrait-of-gustave-geffroy-1895.jpg',\n",
              " 'data/other_artists/seated-woman-1895.jpg',\n",
              " 'data/other_artists/self-portrait-1.jpg',\n",
              " 'data/other_artists/still-life-with-bottle-and-apple-basket-1894.jpg',\n",
              " 'data/other_artists/still-life-with-curtain-and-flowered-pitcher-1895.jpg',\n",
              " 'data/other_artists/still-life-with-fruit-and-a-ginger-pot.jpg',\n",
              " 'data/other_artists/still-life-with-plaster-cupid-1895.jpg',\n",
              " 'data/other_artists/still-life-with-plaster-cupid-1895-1.jpg',\n",
              " 'data/other_artists/still-life-peppermint-bottle-1895.jpg',\n",
              " 'data/other_artists/woman-with-a-coffee-pot.jpg',\n",
              " 'data/other_artists/at-the-fence-1895.jpg',\n",
              " 'data/other_artists/carriage-horse.jpg',\n",
              " 'data/other_artists/child-eating-cherries-1895.jpg',\n",
              " 'data/other_artists/on-the-track-1895.jpg',\n",
              " 'data/other_artists/woman-at-her-window.jpg',\n",
              " 'data/other_artists/abandonment-the-pair-1895.jpg',\n",
              " 'data/other_artists/booth-of-la-goulue-at-the-foire-du-trone-dance-at-the-moulin-rouge-1895.jpg',\n",
              " 'data/other_artists/booth-of-la-goulue-at-the-foire-du-trone-the-moorish-dance-1895.jpg',\n",
              " 'data/other_artists/lucien-guitry-and-granne-granier-1895.jpg',\n",
              " 'data/other_artists/marcelle-lender-dancing-in-the-bolero-in-chilperic-1895.jpg',\n",
              " 'data/other_artists/may-milton-1895-1.jpg',\n",
              " 'data/other_artists/miss-may-belfort-1895.jpg',\n",
              " 'data/other_artists/portrait-of-misia-natanson-sert-1895.jpg',\n",
              " 'data/other_artists/portrait-of-oscar-wilde-1895.jpg',\n",
              " 'data/other_artists/the-clown-cha-u-kao-1895.jpg',\n",
              " 'data/other_artists/the-clownesse-cha-u-kao-at-the-moulin-rouge-1895.jpg',\n",
              " 'data/other_artists/the-original-cover-for-print.jpg',\n",
              " 'data/other_artists/the-procession-of-the-raja-1895.jpg',\n",
              " 'data/other_artists/the-promenoir-the-moulin-rouge-1895.jpg',\n",
              " 'data/other_artists/tristan-bernard-at-the-buffalo-station-1895.jpg',\n",
              " 'data/other_artists/two-friends-1895.jpg',\n",
              " 'data/other_artists/two-friends-1895-1.jpg',\n",
              " 'data/other_artists/woman-lying-on-her-back-both-arms-raised-1895.jpg',\n",
              " 'data/other_artists/yahne-et-antoine-dans-l0age-difficile.jpg',\n",
              " 'data/other_artists/circus-band.jpg',\n",
              " 'data/other_artists/spring-in-franklin-park-1895.jpg',\n",
              " 'data/other_artists/three-little-girls-in-red-1895.jpg',\n",
              " 'data/other_artists/cows-by-the-seine-at-saint-mammes.jpg',\n",
              " 'data/other_artists/goose-girl.jpg',\n",
              " 'data/other_artists/my-mother.jpg',\n",
              " 'data/other_artists/the-striped-blouse.jpg',\n",
              " 'data/other_artists/the-black-cliffs-at-thurso-1895.jpg',\n",
              " 'data/other_artists/maurice-utrillo-playing-with-a-sling-shot-1895.jpg',\n",
              " 'data/other_artists/utrillo-nude-sitting-on-a-couch-1895.jpg',\n",
              " 'data/other_artists/woman-preparing-for-a-bath-1895.jpg',\n",
              " 'data/other_artists/lake-geneva-on-the-evening-in-chexbres-1895.jpg',\n",
              " 'data/other_artists/motherhood.jpg',\n",
              " 'data/other_artists/in-the-street-woman-with-muff-1895.jpg',\n",
              " 'data/other_artists/the-bistro.jpg',\n",
              " 'data/other_artists/the-laundress-1895.jpg',\n",
              " 'data/other_artists/woman-with-a-plumed-hat-1895.jpg',\n",
              " 'data/other_artists/near-saint-cyr-1895.jpg',\n",
              " 'data/other_artists/a-park-at-night-1895(1).jpg',\n",
              " 'data/other_artists/woman-sitting-by-the-window-1895.jpg',\n",
              " 'data/other_artists/gardens-of-the-generalife-1895.jpg',\n",
              " 'data/other_artists/african-woman-1895.jpg',\n",
              " 'data/other_artists/mere-et-enfant-1895.jpg',\n",
              " 'data/other_artists/display-image.jpg',\n",
              " 'data/other_artists/476px-theodore-robinson-fifth-avenue-at-madison-square-1894-1895.jpg',\n",
              " 'data/other_artists/default.jpg',\n",
              " 'data/other_artists/main-image.jpg',\n",
              " 'data/other_artists/285-roderic-o-conor.jpg',\n",
              " 'data/other_artists/conor-bretonne.jpg',\n",
              " 'data/other_artists/roderic-o-comor-pont-aven.jpg',\n",
              " 'data/other_artists/a-bunch-of-garlic-and-a-pewter-tankard.jpg',\n",
              " 'data/other_artists/still-life-pit-onions-bread-and-green-apples.jpg',\n",
              " 'data/other_artists/ray-embankment-in-basel-in-the-rain(2).jpg',\n",
              " 'data/other_artists/self-portrait(2).jpg',\n",
              " 'data/other_artists/nativity-1896.jpg',\n",
              " 'data/other_artists/perfect-days-1896.jpg',\n",
              " 'data/other_artists/scene-from-tahitian-life-1896.jpg',\n",
              " 'data/other_artists/self-portrait-1896.jpg',\n",
              " 'data/other_artists/the-queen-of-beauty.jpg',\n",
              " 'data/other_artists/three-tahitian-women-1896.jpg',\n",
              " 'data/other_artists/vase-of-flowers-1896.jpg',\n",
              " 'data/other_artists/not-identified-9.jpg',\n",
              " 'data/other_artists/old-woman-with-a-rosary-1896.jpg',\n",
              " 'data/other_artists/portrait-of-joachim-1896.jpg',\n",
              " 'data/other_artists/self-portrait-2.jpg',\n",
              " 'data/other_artists/the-card-players-1896.jpg',\n",
              " 'data/other_artists/the-lac-d-annecy-1896.jpg',\n",
              " 'data/other_artists/young-italian-girl-resting-on-her-elbow-1896.jpg',\n",
              " 'data/other_artists/not_detected_221940.jpg',\n",
              " 'data/other_artists/lazy-load-placeholder.jpg',\n",
              " 'data/other_artists/at-the-bar-picton-rue-scribe-1896.jpg',\n",
              " 'data/other_artists/at-the-piano-madame-juliette-pascal-in-the-salon-of-the-chateau-de-malrome-1896.jpg',\n",
              " 'data/other_artists/baron.jpg',\n",
              " 'data/other_artists/conquest-of-passage-1896.jpg',\n",
              " 'data/other_artists/head-of-a-woman-1896.jpg',\n",
              " 'data/other_artists/lucie-bellanger-1896.jpg',\n",
              " 'data/other_artists/madame-e-tapie-de-celeyran-in-a-garden-1896.jpg',\n",
              " 'data/other_artists/maxime-dethomas-at-the-ball-of-the-opera-1896.jpg',\n",
              " 'data/other_artists/mlle-lucie-bellanger-1896.jpg',\n",
              " 'data/other_artists/napoléon-1896.jpg',\n",
              " 'data/other_artists/not_detected_230535.jpg',\n",
              " 'data/other_artists/output-theatre.jpg',\n",
              " 'data/other_artists/portrait-of-cipa-godebsky-1896.jpg',\n",
              " 'data/other_artists/ruhendes-modell-1896.jpg',\n",
              " 'data/other_artists/the-sofa-1896.jpg',\n",
              " 'data/other_artists/woman-at-her-toilette-them-washing-herself-1896.jpg',\n",
              " 'data/other_artists/woman-combing-her-hair-1896.jpg',\n",
              " 'data/other_artists/by-the-river-loing.jpg',\n",
              " 'data/other_artists/young-breton-the-little-knitter.jpg',\n",
              " 'data/other_artists/douarnenez-october-landscape-1896.jpg',\n",
              " 'data/other_artists/twilight-1896.jpg',\n",
              " 'data/other_artists/my-son-1896.jpg',\n",
              " 'data/other_artists/felix-feneon-at-the-revue-blanche-1896.jpg',\n",
              " 'data/other_artists/st-mark-s-venice.jpg',\n",
              " 'data/other_artists/overcast-weather-at-nesles-la-vallee-1896.jpg',\n",
              " 'data/other_artists/return-from-the-fields-1896.jpg',\n",
              " 'data/other_artists/banks-of-the-seine-paris-1896.jpg',\n",
              " 'data/other_artists/girl-embroidering-seated-in-a-garden-1896.jpg',\n",
              " 'data/other_artists/archaeology-1896.jpg',\n",
              " 'data/other_artists/seascape-with-venice-in-the-distance-1896.jpg',\n",
              " 'data/other_artists/view-of-venice-from-the-sea-1896.jpg',\n",
              " 'data/other_artists/girl-with-flowers-1896.jpg',\n",
              " 'data/other_artists/north-berwick-sands-1896.jpg',\n",
              " 'data/other_artists/nude-in-studio-interior-1896.jpg',\n",
              " 'data/other_artists/henri-matisse-paysage-de-bretagne-circa-1890-1900.jpg',\n",
              " 'data/other_artists/henri-matisse-1896-rochers-a-belle-i-le-1.jpg',\n",
              " 'data/other_artists/belle-ile-le-port-de-palais-1896.jpg',\n",
              " 'data/other_artists/i-b-c-r-m.jpg',\n",
              " 'data/other_artists/versailles-at-curtius(1).jpg',\n",
              " 'data/other_artists/at-the-pool-of-ceres(1).jpg',\n",
              " 'data/other_artists/versailles-louis-xiv-is-feeding-fish(1).jpg',\n",
              " 'data/other_artists/versailles-king-s-walk(1).jpg',\n",
              " 'data/other_artists/agave-1897.jpg',\n",
              " 'data/other_artists/woman-in-rocking-chair-1897.jpg',\n",
              " 'data/other_artists/bouquet-of-flowers.jpg',\n",
              " 'data/other_artists/coming-and-going-martinique-1897.jpg',\n",
              " 'data/other_artists/landscape-with-two-goats-1897.jpg',\n",
              " 'data/other_artists/man-picking-fruit-from-a-tree-1897.jpg',\n",
              " 'data/other_artists/nevermore-1897.jpg',\n",
              " 'data/other_artists/tahitian-landscape-1897.jpg',\n",
              " 'data/other_artists/tahitian-man-with-his-arms-raised-1897.jpg',\n",
              " 'data/other_artists/henry-gasquet-1897.jpg',\n",
              " 'data/other_artists/peasant-in-a-blue-smock.jpg',\n",
              " 'data/other_artists/at-the-circus-1897.jpg',\n",
              " 'data/other_artists/crouching-woman-with-red-hair-1897.jpg',\n",
              " 'data/other_artists/elsa-the-viennese-1897.jpg',\n",
              " 'data/other_artists/little-lodge.jpg',\n",
              " 'data/other_artists/madame-misian-nathanson-1897.jpg',\n",
              " 'data/other_artists/madame-palmyre-with-her-dog-1897.jpg',\n",
              " 'data/other_artists/lazy-load-placeholder.jpg',\n",
              " 'data/other_artists/nude-standing-before-a-mirror-1897.jpg',\n",
              " 'data/other_artists/paul-leclercq-1897.jpg',\n",
              " 'data/other_artists/portrait-of-berthe-bady-1897.jpg',\n",
              " 'data/other_artists/reclining-nude-1897.jpg',\n",
              " 'data/other_artists/the-chestnut-1897.jpg',\n",
              " 'data/other_artists/the-grand-tier-1897.jpg',\n",
              " 'data/other_artists/jumping-rope.jpg',\n",
              " 'data/other_artists/low-tide.jpg',\n",
              " 'data/other_artists/low-tide-2.jpg',\n",
              " 'data/other_artists/the-stony-beach-ogunquit.jpg',\n",
              " 'data/other_artists/geese.jpg',\n",
              " 'data/other_artists/pasture-by-the-seine.jpg',\n",
              " 'data/other_artists/portrait-of-thadée-natanson.jpg',\n",
              " 'data/other_artists/valloton-in-natanson.jpg',\n",
              " 'data/other_artists/breton-landscape-1897.jpg',\n",
              " 'data/other_artists/douarnenez-in-sunshine-1897.jpg',\n",
              " 'data/other_artists/near-the-mill-1897.jpg',\n",
              " 'data/other_artists/noele-s-first-steps.jpg',\n",
              " 'data/other_artists/landscape-in-winter-with-fog-1897.jpg',\n",
              " 'data/other_artists/portrait-of-stanis-aw-witkiewicz.jpg',\n",
              " 'data/other_artists/saint-cirq-lapopie-in-evening-1897.jpg',\n",
              " 'data/other_artists/parisian-suburb-1897.jpg',\n",
              " 'data/other_artists/the-child-death-1897.jpg',\n",
              " 'data/other_artists/1897-farmyard-in-brittany-henri-matisse-1897.jpg',\n",
              " 'data/other_artists/interior-at-saint-tienne-1897.jpg',\n",
              " 'data/other_artists/young-girl-reclining-c1897.jpg',\n",
              " 'data/other_artists/the-king-walked-in-any-weather-saint-simon(1).jpg',\n",
              " 'data/other_artists/village-church-1898.jpg',\n",
              " 'data/other_artists/not-identified-1.jpg',\n",
              " 'data/other_artists/at-work-on-the-land-1898.jpg',\n",
              " 'data/other_artists/self-portrait-with-sister-1898.jpg',\n",
              " 'data/other_artists/n03470-10.jpg',\n",
              " 'data/other_artists/tahitian-pastorale-1898.jpg',\n",
              " 'data/other_artists/the-white-horse-1898.jpg',\n",
              " 'data/other_artists/where-do-we-come-from-what-are-we-where-are-we-going-1897.jpg',\n",
              " 'data/other_artists/landscape-of-corsica-1.jpg',\n",
              " 'data/other_artists/still-life-with-oranges-1898.jpg',\n",
              " 'data/other_artists/the-olive.jpg',\n",
              " 'data/other_artists/chrysanthemums-1898.jpg',\n",
              " 'data/other_artists/mont-sainte-victoire-1898.jpg',\n",
              " 'data/other_artists/still-life-with-red-onions-1898.jpg',\n",
              " 'data/other_artists/still-life-with-skull-1898.jpg',\n",
              " 'data/other_artists/woman-in-a-red-striped-dress.jpg',\n",
              " 'data/other_artists/young-man-and-skull.jpg',\n",
              " 'data/other_artists/ice-palace.jpg',\n",
              " 'data/other_artists/young-woman-before-the-window-1898.jpg',\n",
              " 'data/other_artists/at-the-cafe-the-customer-and-the-anemic-cashier-1898.jpg',\n",
              " 'data/other_artists/dinner-at-the-house-of-m-and-mme-nathanson-1898.jpg',\n",
              " 'data/other_artists/in-bed.jpg',\n",
              " 'data/other_artists/madame-poupoule-at-her-dressing-table-1898.jpg',\n",
              " 'data/other_artists/prostitute-the-sphinx-1898.jpg',\n",
              " 'data/other_artists/the-bed-1898.jpg',\n",
              " 'data/other_artists/the-singing-lesson-the-teacher-mlle-dihau-with-mme-faveraud-1898.jpg',\n",
              " 'data/other_artists/tristan-bernard-1898.jpg',\n",
              " 'data/other_artists/st-mark-s-venice-1898.jpg',\n",
              " 'data/other_artists/not_detected_238362.jpg',\n",
              " 'data/other_artists/passing-through-the-bar-1898.jpg',\n",
              " 'data/other_artists/female-portrait-voronova-1898.jpg',\n",
              " ...]"
            ]
          },
          "metadata": {},
          "execution_count": 19
        }
      ]
    },
    {
      "cell_type": "code",
      "source": [
        "file_name = '/content/drive/MyDrive/VincentVanGogh.zip'\n",
        "\n",
        "with ZipFile(file_name, 'r') as zip:\n",
        "  zip.extractall()\n",
        "  print(file_name)\n",
        "  print('Done')"
      ],
      "metadata": {
        "colab": {
          "base_uri": "https://localhost:8080/"
        },
        "id": "e_CUN8V-KMgf",
        "outputId": "d12f8388-27c3-4d60-df87-41876778ad45"
      },
      "execution_count": 20,
      "outputs": [
        {
          "output_type": "stream",
          "name": "stdout",
          "text": [
            "/content/drive/MyDrive/VincentVanGogh.zip\n",
            "Done\n"
          ]
        }
      ]
    },
    {
      "cell_type": "code",
      "execution_count": 21,
      "metadata": {
        "id": "pMsISYFJElKN"
      },
      "outputs": [],
      "source": [
        "van_gogh_paintings = load_images_with_labels('VincentVanGogh', lambda x: 1)"
      ]
    },
    {
      "cell_type": "code",
      "execution_count": 22,
      "metadata": {
        "id": "XwzIR_Z4IX5y"
      },
      "outputs": [],
      "source": [
        "other_paintings = load_images_with_labels('data/other_artists', lambda x : 0)"
      ]
    },
    {
      "cell_type": "code",
      "execution_count": 23,
      "metadata": {
        "id": "TJBuR5VdIX5z"
      },
      "outputs": [],
      "source": [
        "van_gogh_forgeries = load_images_with_labels('Vincent Forgeries Wacker', lambda x : 0)"
      ]
    },
    {
      "cell_type": "code",
      "execution_count": 24,
      "metadata": {
        "id": "fTZg0ZNqIX5z"
      },
      "outputs": [],
      "source": [
        "Van_Gogh_image_data = pd.concat([van_gogh_paintings, other_paintings, van_gogh_forgeries], ignore_index=True)"
      ]
    },
    {
      "cell_type": "code",
      "execution_count": 25,
      "metadata": {
        "colab": {
          "base_uri": "https://localhost:8080/",
          "height": 1000
        },
        "id": "CsQ47RzIHh86",
        "outputId": "60f3fc62-cbce-424b-b61f-24cb417670e9"
      },
      "outputs": [
        {
          "output_type": "display_data",
          "data": {
            "text/plain": [
              "<Figure size 800x800 with 1 Axes>"
            ],
            "image/png": "[encoded data removed]"
          },
          "metadata": {}
        },
        {
          "output_type": "display_data",
          "data": {
            "text/plain": [
              "<Figure size 800x800 with 1 Axes>"
            ],
            "image/png": "[encoded data removed]"
          },
          "metadata": {}
        }
      ],
      "source": [
        "display_tensor_image(van_gogh_paintings['image_tensor'][50])\n",
        "display_tensor_image(other_paintings['image_tensor'][27])"
      ]
    },
    {
      "cell_type": "markdown",
      "metadata": {
        "id": "vcalHfSJ1cGI"
      },
      "source": [
        "### **Dataloaders**"
      ]
    },
    {
      "cell_type": "code",
      "execution_count": 26,
      "metadata": {
        "id": "DseznJkmIX50"
      },
      "outputs": [],
      "source": [
        "class ImageDataFrameDataset(Dataset):\n",
        "    def __init__(self, dataframe):\n",
        "        self.dataframe = dataframe\n",
        "\n",
        "    def __len__(self):\n",
        "        return len(self.dataframe)\n",
        "\n",
        "    def __getitem__(self, idx):\n",
        "        row = self.dataframe.iloc[idx]\n",
        "        image = row['image_tensor']\n",
        "        label = torch.tensor(row['label'], dtype=torch.float32)\n",
        "        return image, label"
      ]
    },
    {
      "cell_type": "code",
      "execution_count": 27,
      "metadata": {
        "id": "yUIj4T2L1thY"
      },
      "outputs": [],
      "source": [
        "VGtrain_data, VGtest_data = train_test_split(Van_Gogh_image_data, test_size=0.2, random_state=42, shuffle=True)\n",
        "VGtraindataset = ImageDataFrameDataset(VGtrain_data)\n",
        "VGtraindataloader  = DataLoader(VGtraindataset, batch_size=12, shuffle=True)\n",
        "VGtestdataset = ImageDataFrameDataset(VGtest_data)\n",
        "VGtestdataloader  = DataLoader(VGtestdataset, batch_size=12, shuffle=True)"
      ]
    },
    {
      "cell_type": "markdown",
      "metadata": {
        "id": "s-N-UOAR15uC"
      },
      "source": [
        "### **GAN architecture**"
      ]
    },
    {
      "cell_type": "code",
      "execution_count": 28,
      "metadata": {
        "id": "qRSbWUw6IX50"
      },
      "outputs": [],
      "source": [
        "class GAN:\n",
        "    def __init__(self, generator, discriminator, latent_dim=20, device='cuda'):\n",
        "        \"\"\"\n",
        "        Initialize the GAN with a focus on Van Gogh classification\n",
        "\n",
        "        Args:\n",
        "            generator: Pretrained generator model\n",
        "            discriminator: Pretrained discriminator model\n",
        "            latent_dim: Dimension of the latent space for generator input\n",
        "            device: Device to run the models on (cuda or cpu)\n",
        "        \"\"\"\n",
        "        self.device = torch.device(device if torch.cuda.is_available() else 'cpu')\n",
        "        self.latent_dim = latent_dim\n",
        "\n",
        "        self.generator = generator.to(self.device)\n",
        "        self.discriminator = discriminator.to(self.device)\n",
        "        # Initialize optimizers as None\n",
        "        self.optimizer_G = None\n",
        "        self.optimizer_D = None\n",
        "\n",
        "        # For tracking metrics\n",
        "        self.g_losses = []\n",
        "        self.d_losses = []\n",
        "        self.van_gogh_acc = []\n",
        "        self.fake_detection = []\n",
        "\n",
        "    def _adapt_discriminator(self, discriminator):\n",
        "        \"\"\"\n",
        "        Adapt the discriminator to output Van Gogh/Not Van Gogh classification\n",
        "        and real/fake classification\n",
        "        \"\"\"\n",
        "        class AdaptedDiscriminator(nn.Module):\n",
        "            def __init__(self, base_discriminator):\n",
        "                super().__init__()\n",
        "                self.base = base_discriminator\n",
        "\n",
        "                # Get the feature size from the base discriminator\n",
        "                feature_size = base_discriminator.linear.in_features\n",
        "\n",
        "                self.van_gogh_head = nn.Linear(feature_size, 1)  # Van Gogh/Not Van Gogh\n",
        "\n",
        "            def forward(self, x, y = None):\n",
        "                # Extract features from the input image\n",
        "                h = x\n",
        "                for index, blocklist in enumerate(self.base.blocks):\n",
        "                    for block in blocklist:\n",
        "                        h = block(h)\n",
        "                h = torch.sum(self.base.activation(h), [2, 3])\n",
        "                if y is not None:\n",
        "                    h = self.base.linear(h)\n",
        "                    y = y.long()\n",
        "                    h = h + torch.sum(self.base.embed(y) * h, 1, keepdim=True)\n",
        "                    h = self.van_gogh_head(h)\n",
        "                    out = h.mean(dim=0, keepdim=True).squeeze(0)\n",
        "                else:\n",
        "                    h = self.van_gogh_head(h)\n",
        "                    out = h\n",
        "\n",
        "                return out\n",
        "\n",
        "        return AdaptedDiscriminator(discriminator).to(self.device)\n",
        "\n",
        "    def set_optimizers(self, optimizer_G=None, optimizer_D=None):\n",
        "        if optimizer_G is not None:\n",
        "            self.optimizer_G = optimizer_G\n",
        "        if optimizer_D is not None:\n",
        "            self.optimizer_D = optimizer_D\n",
        "\n",
        "        # Validate they point at the right params\n",
        "        self._validate_optimizers()\n",
        "        print(\"✅ Attached pretrained optimizers to GAN object.\")\n",
        "\n",
        "    def prune_optimizers(self):\n",
        "        \"\"\"\n",
        "        Remove any frozen (requires_grad=False) parameters from both\n",
        "        self.optimizer_G and self.optimizer_D, preserving optimizer state\n",
        "        (momentum, Adam averages) for the rest.\n",
        "        \"\"\"\n",
        "        def _prune(opt):\n",
        "            # 1) collect IDs of the params we still want\n",
        "            kept_ids = {\n",
        "                id(p) for group in opt.param_groups for p in group['params']\n",
        "                if p.requires_grad\n",
        "            }\n",
        "            # 2) prune state dict\n",
        "            opt.state = {\n",
        "                p: st for p, st in opt.state.items()\n",
        "                if id(p) in kept_ids\n",
        "            }\n",
        "            # 3) prune param_groups\n",
        "            new_groups = []\n",
        "            for group in opt.param_groups:\n",
        "                new_params = [p for p in group['params'] if p.requires_grad]\n",
        "                if not new_params:\n",
        "                    continue\n",
        "                group['params'] = new_params\n",
        "                new_groups.append(group)\n",
        "            opt.param_groups = new_groups\n",
        "\n",
        "        _prune(self.optimizer_G)\n",
        "        _prune(self.optimizer_D)\n",
        "        print(\"✅ Pruned both optimizers to remove frozen parameters.\")\n",
        "\n",
        "    def to_device(self, *args):\n",
        "        if len(args) == 1:\n",
        "            return args[0].to(self.device)\n",
        "        return [x.to(self.device) for x in args]\n",
        "\n",
        "    def import_models(self, generator_path, discriminator_path):\n",
        "        \"\"\"\n",
        "        Import pretrained generator and discriminator models from given paths\n",
        "\n",
        "        Args:\n",
        "            generator_path: Path to the pretrained generator model\n",
        "            discriminator_path: Path to the pretrained discriminator model\n",
        "        \"\"\"\n",
        "        self.generator.load_state_dict(torch.load(generator_path, map_location=self.device))\n",
        "        self.discriminator.load_state_dict(torch.load(discriminator_path, map_location=self.device))\n",
        "        print(\"✅ Imported pretrained models into GAN object.\")\n",
        "\n",
        "    def train(self, dataloader,\n",
        "          optimizer_G=None, optimizer_D=None,\n",
        "          epochs=50, n_critic=5, sample_interval=500,\n",
        "          lr_g=0.0002, lr_d=0.0002, betas=(0.5, 0.999)):\n",
        "        \"\"\"\n",
        "        Train the GAN with a focus on Van Gogh classification using mixed precision training\n",
        "\n",
        "        Args:\n",
        "            dataloader: DataLoader with real images and Van Gogh labels\n",
        "                        (expected format: (images, (class_labels, van_gogh_labels)))\n",
        "            optimizer_G: Pre-configured generator optimizer (optional)\n",
        "            optimizer_D: Pre-configured discriminator optimizer (optional)\n",
        "            epochs: Number of training epochs\n",
        "            n_critic: Number of critic (discriminator) updates per generator update\n",
        "            sample_interval: Interval for saving sample images\n",
        "            lr_g: Learning rate for generator (only used if optimizer_G is None)\n",
        "            lr_d: Learning rate for discriminator (only used if optimizer_D is None)\n",
        "            betas: Beta parameters for Adam optimizer (only used if optimizers are None)\n",
        "        \"\"\"\n",
        "\n",
        "        # Set the optimizers\n",
        "        if optimizer_G is not None:\n",
        "            self.optimizer_G = optimizer_G\n",
        "        else:\n",
        "            self.optimizer_G = optim.Adam(self.generator.parameters(), lr=lr_g, betas=betas)\n",
        "\n",
        "        if optimizer_D is not None:\n",
        "            self.optimizer_D = optimizer_D\n",
        "        else:\n",
        "            self.optimizer_D = optim.Adam(self.discriminator.parameters(), lr=lr_d, betas=betas)\n",
        "\n",
        "        # Validate optimizers are configured properly\n",
        "        self._validate_optimizers()\n",
        "\n",
        "        van_gogh_loss_fn = nn.BCEWithLogitsLoss()\n",
        "\n",
        "        # Create output directory for samples\n",
        "        os.makedirs(\"van_gogh_samples\", exist_ok=True)\n",
        "\n",
        "        self.discriminator = self._adapt_discriminator(self.discriminator)\n",
        "\n",
        "\n",
        "        # Training loop\n",
        "        for epoch in range(epochs):\n",
        "            d_loss_epoch = 0.0\n",
        "            g_loss_epoch = 0.0\n",
        "            van_gogh_acc_epoch = 0.0\n",
        "            batches_processed = 0\n",
        "\n",
        "            for i, (real_imgs, labels) in enumerate(tqdm(dataloader, desc=f\"Epoch {epoch+1}/{epochs}\")):\n",
        "\n",
        "                van_gogh_labels = labels.long().view(-1, 1).to(self.device)\n",
        "\n",
        "                batch_size = real_imgs.size(0)\n",
        "\n",
        "                # Move data to device\n",
        "                real_imgs = real_imgs.to(self.device)\n",
        "                vg_labels_float = labels.float().view(-1, 1).to(self.device)\n",
        "                van_gogh_labels = labels.long().view(-1, 1).to(self.device)\n",
        "\n",
        "                # ---------------------\n",
        "                # Train Discriminator\n",
        "                # ---------------------\n",
        "\n",
        "                for _ in range(n_critic):\n",
        "                    self.optimizer_D.zero_grad()\n",
        "\n",
        "                    y = torch.full((batch_size, 1), fill_value=1, device=self.device, dtype=torch.long)\n",
        "                    y_emb = self.generator.shared(y)\n",
        "                    z = torch.randn(batch_size, self.latent_dim, device=self.device)\n",
        "                    fake_imgs = self.generator(z, y_emb)\n",
        "                    fake_labels = torch.zeros((batch_size,1), dtype=torch.float, device=self.device)\n",
        "                    # Get predictions for real images\n",
        "                    real_vg_pred = self.discriminator(real_imgs, van_gogh_labels)\n",
        "                    d_real_vg_loss = van_gogh_loss_fn(real_vg_pred, vg_labels_float)\n",
        "\n",
        "                    fake_vg_pred = self.discriminator(fake_imgs, fake_labels)\n",
        "                    d_fake_vg_loss = van_gogh_loss_fn(fake_vg_pred, fake_labels)\n",
        "\n",
        "                        # Total discriminator loss\n",
        "                    d_loss = d_real_vg_loss + d_fake_vg_loss\n",
        "\n",
        "                    d_loss.backward()\n",
        "                    torch.nn.utils.clip_grad_norm_(self.discriminator.parameters(), max_norm=1.0)\n",
        "                    self.optimizer_D.step()\n",
        "\n",
        "\n",
        "                torch.cuda.empty_cache()\n",
        "                gc.collect()\n",
        "\n",
        "                # Track metrics\n",
        "                d_loss_epoch += d_loss.item()\n",
        "\n",
        "                # -----------------\n",
        "                # Train Generator\n",
        "                # -----------------\n",
        "\n",
        "                self.optimizer_G.zero_grad()\n",
        "\n",
        "                # Generate new fake images\n",
        "                y = torch.full((batch_size, 1), fill_value=1, device=self.device, dtype=torch.long)\n",
        "                y_emb = self.generator.shared(y)\n",
        "                z = torch.randn(batch_size, self.latent_dim, device=self.device)\n",
        "                fake_imgs = self.generator(z, y_emb)\n",
        "\n",
        "                fake_vg_pred = self.discriminator(fake_imgs)\n",
        "\n",
        "                one_labels_float = torch.ones((batch_size, 1), device=self.device)\n",
        "                g_vg_loss = van_gogh_loss_fn(fake_vg_pred, one_labels_float)\n",
        "\n",
        "                # Total generator loss\n",
        "                g_loss = g_vg_loss\n",
        "\n",
        "                g_loss.backward()\n",
        "                torch.nn.utils.clip_grad_norm_(self.generator.parameters(), max_norm=1.0)\n",
        "                self.optimizer_G.step()\n",
        "\n",
        "\n",
        "                g_loss_epoch += g_loss.item()\n",
        "                batches_processed += 1\n",
        "\n",
        "                # Print progress\n",
        "                if i % 50 == 0:\n",
        "                    print(\n",
        "                        f\"[Epoch {epoch+1}/{epochs}] [Batch {i}/{len(dataloader)}] \"\n",
        "                        f\"[D loss: {d_loss.item():.4f}] [G loss: {g_loss.item():.4f}] \"\n",
        "                    )\n",
        "\n",
        "\n",
        "            # Average epoch metrics\n",
        "            if batches_processed > 0:\n",
        "                d_loss_epoch /= batches_processed\n",
        "                g_loss_epoch /= batches_processed\n",
        "                van_gogh_acc_epoch /= batches_processed\n",
        "\n",
        "            # Store metrics\n",
        "            self.d_losses.append(d_loss_epoch)\n",
        "            self.g_losses.append(g_loss_epoch)\n",
        "            self.van_gogh_acc.append(van_gogh_acc_epoch)\n",
        "\n",
        "            # Print epoch summary\n",
        "            print(\n",
        "                f\"\\n[Epoch {epoch+1}/{epochs}] \"\n",
        "                f\"[D loss: {d_loss_epoch:.4f}] [G loss: {g_loss_epoch:.4f}] \"\n",
        "            )\n",
        "\n",
        "            # After using tensors that won't be needed again\n",
        "            del fake_imgs, fake_vg_pred, real_vg_pred\n",
        "            torch.cuda.empty_cache()\n",
        "            gc.collect()\n",
        "\n",
        "    def freeze_layers(self, layers_to_freeze, model='generator', exact_keys=False):\n",
        "        \"\"\"\n",
        "        Freeze specified layers in either the generator or discriminator.\n",
        "\n",
        "        Args:\n",
        "            layers_to_freeze (list of str): Layer names to freeze\n",
        "            model (str): 'generator' or 'discriminator'\n",
        "            exact_keys (bool): If True, treat layers_to_freeze as exact parameter keys\n",
        "                            rather than component names\n",
        "        \"\"\"\n",
        "        # Select the right sub-model\n",
        "        if model == 'generator':\n",
        "            m = self.generator\n",
        "        elif model == 'discriminator':\n",
        "            # AdaptedDiscriminator wraps your real backbone in .base\n",
        "            m = getattr(self.discriminator, 'base', self.discriminator)\n",
        "        else:\n",
        "            raise ValueError(\"model must be 'generator' or 'discriminator'\")\n",
        "\n",
        "        frozen_count = 0\n",
        "        frozen_names = []\n",
        "\n",
        "        if exact_keys:\n",
        "            # Freeze by exact parameter keys\n",
        "            for name, param in m.named_parameters():\n",
        "                if name in layers_to_freeze:\n",
        "                    param.requires_grad = False\n",
        "                    frozen_count += 1\n",
        "                    frozen_names.append(name)\n",
        "        else:\n",
        "            # Original component-based freezing logic\n",
        "            def _freeze(mod):\n",
        "                for p in mod.parameters():\n",
        "                    p.requires_grad = False\n",
        "\n",
        "            # Map names → attributes on m\n",
        "            for name in layers_to_freeze:\n",
        "                if name == 'shared' and hasattr(m, 'shared'):\n",
        "                    _freeze(m.shared)\n",
        "                elif name == 'linear' and hasattr(m, 'linear'):\n",
        "                    _freeze(m.linear)\n",
        "                elif name.startswith('block'):\n",
        "                    idx = int(name.replace('block',''))\n",
        "                    _freeze(m.blocks[idx])\n",
        "                elif name == 'output_layer' and hasattr(m, 'output_layer'):\n",
        "                    _freeze(m.output_layer)\n",
        "                elif name == 'embed' and hasattr(m, 'embed'):\n",
        "                    _freeze(m.embed)\n",
        "                else:\n",
        "                    raise ValueError(f\"Unknown layer '{name}' for {model}\")\n",
        "\n",
        "        # Rebuild optimizers so they ignore frozen params\n",
        "        self.optimizer_G = torch.optim.Adam(\n",
        "            filter(lambda p: p.requires_grad, self.generator.parameters()),\n",
        "            lr=self.optimizer_G.defaults['lr'],\n",
        "            betas=self.optimizer_G.defaults['betas']\n",
        "        )\n",
        "        self.optimizer_D = torch.optim.Adam(\n",
        "            filter(lambda p: p.requires_grad, self.discriminator.parameters()),\n",
        "            lr=self.optimizer_D.defaults['lr'],\n",
        "            betas=self.optimizer_D.defaults['betas']\n",
        "        )\n",
        "\n",
        "        if exact_keys:\n",
        "            print(f\"Froze {frozen_count} parameters in the {model}.\")\n",
        "            if frozen_count < 10:  # Only print names if there are a few\n",
        "                print(f\"Frozen parameters: {frozen_names}\")\n",
        "            else:\n",
        "                print(f\"First few frozen parameters: {frozen_names[:5]}...\")\n",
        "        else:\n",
        "            print(f\"Froze layers {layers_to_freeze} in the {model}.\")\n",
        "\n",
        "    def _validate_optimizers(self):\n",
        "        if self.optimizer_G is None or self.optimizer_D is None:\n",
        "            raise ValueError(\"Both optimizers must be set before training\")\n",
        "\n",
        "            # Check that optimizers are pointing to the correct models\n",
        "        gen_params = set(id(p) for p in self.generator.parameters())\n",
        "        disc_params = set(id(p) for p in self.discriminator.parameters())\n",
        "\n",
        "            # Sample check (checking all parameters can be expensive)\n",
        "        for param_group in self.optimizer_G.param_groups:\n",
        "            for param in param_group['params'][:5]:  # Check first 5 parameters\n",
        "                if id(param) not in gen_params:\n",
        "                    print(\"Warning: Generator optimizer contains parameters not from the generator model\")\n",
        "                    break\n",
        "\n",
        "        for param_group in self.optimizer_D.param_groups:\n",
        "            for param in param_group['params'][:5]:  # Check first 5 parameters\n",
        "                if id(param) not in disc_params:\n",
        "                    print(\"Warning: Discriminator optimizer contains parameters not from the discriminator model\")\n",
        "                    break\n",
        "\n",
        "    def save_samples(self, epoch, batch_idx, total_steps):\n",
        "        \"\"\"\n",
        "        Generate and save sample images\n",
        "        \"\"\"\n",
        "        # Generate a grid of sample images\n",
        "        y = torch.full((16, 1), fill_value=1, device=self.device, dtype=torch.long)\n",
        "        y_emb = self.generator.shared(y)\n",
        "        z = torch.randn(16, self.latent_dim, device=self.device)\n",
        "        with torch.no_grad():\n",
        "            gen_imgs = self.generator(z, y_emb)\n",
        "            gen_imgs = make_grid(gen_imgs, nrow=4, normalize=True)\n",
        "\n",
        "        save_image(gen_imgs, f\"van_gogh_samples/step_{total_steps}.png\")\n",
        "\n",
        "        # Also save the most recent generated images for quick inspection\n",
        "        save_image(gen_imgs, \"van_gogh_samples/latest.png\")\n",
        "\n",
        "    def save_models(self, path):\n",
        "        \"\"\"\n",
        "        Save the generator and discriminator models\n",
        "        \"\"\"\n",
        "        torch.save(self.generator.state_dict(), f'generator {path}')\n",
        "        torch.save(self.discriminator.state_dict(), f'discriminator {path}')\n",
        "\n",
        "        # Also save optimizer states\n",
        "        torch.save(self.optimizer_G.state_dict(), f'generator opt {path}')\n",
        "        torch.save(self.optimizer_D.state_dict(), f'discriminator opt {path}')\n",
        "\n",
        "    def plot_metrics(self):\n",
        "        \"\"\"\n",
        "        Plot training metrics\n",
        "        \"\"\"\n",
        "        plt.figure(figsize=(15, 10))\n",
        "\n",
        "        # Plot losses\n",
        "        plt.subplot(2, 2, 1)\n",
        "        plt.plot(self.g_losses, label='Generator')\n",
        "        plt.plot(self.d_losses, label='Discriminator')\n",
        "        plt.title('GAN Losses')\n",
        "        plt.xlabel('Epoch')\n",
        "        plt.ylabel('Loss')\n",
        "        plt.legend()\n",
        "\n",
        "\n",
        "        # Plot sample generated images\n",
        "        plt.subplot(2, 2, 4)\n",
        "        y = torch.full((16, 1), fill_value=1, device=self.device, dtype=torch.long)\n",
        "        y_emb = self.generator.shared(y)\n",
        "        z = torch.randn(16, self.latent_dim, device=self.device)\n",
        "        with torch.no_grad():\n",
        "            gen_imgs = self.generator(z, y_emb)\n",
        "            grid = make_grid(gen_imgs, nrow=2, normalize=True).cpu()\n",
        "        plt.imshow(grid.permute(1, 2, 0).numpy())\n",
        "        plt.title('Generated Van Gogh-style Samples')\n",
        "        plt.axis('off')\n",
        "\n",
        "        plt.tight_layout()\n",
        "        plt.savefig('van_gogh_gan_metrics.png')\n",
        "        plt.show()\n",
        "\n",
        "    def generate_images(self, num_images=16, save_path=\"generated_van_goghs\"):\n",
        "        \"\"\"\n",
        "        Generate and save a batch of Van Gogh-style images\n",
        "        \"\"\"\n",
        "        os.makedirs(save_path, exist_ok=True)\n",
        "\n",
        "        self.generator.eval()\n",
        "        with torch.no_grad():\n",
        "            y = torch.randint(0, 1000, (num_images,), device=self.device)\n",
        "            y_emb = self.generator.shared(y)\n",
        "            z = torch.randn(num_images, self.latent_dim, device=self.device)\n",
        "            gen_imgs = self.generator(z, y_emb)\n",
        "\n",
        "            # Save individual images\n",
        "            for i, img in enumerate(gen_imgs):\n",
        "                save_image(img, f\"{save_path}/van_gogh_generated_{i+1}.png\", normalize=True)\n",
        "\n",
        "            # Save a grid\n",
        "            img_grid = make_grid(gen_imgs, nrow=int(np.sqrt(num_images)), normalize=True)\n",
        "            save_image(img_grid, f\"{save_path}/van_gogh_grid.png\")\n",
        "\n",
        "        print(f\"Generated {num_images} Van Gogh-style images at {save_path}\")\n",
        "\n",
        "    def evaluate_image(self, image):\n",
        "        \"\"\"\n",
        "        Evaluate a single image to determine if it's a Van Gogh style image\n",
        "        and if it's real or fake\n",
        "\n",
        "        Args:\n",
        "            image: A preprocessed image tensor\n",
        "\n",
        "        Returns:\n",
        "            is_real_prob: Probability that the image is real (not generated)\n",
        "            is_van_gogh_prob: Probability that the image is in Van Gogh style\n",
        "        \"\"\"\n",
        "        self.discriminator.eval()\n",
        "        with torch.no_grad():\n",
        "            image = image.unsqueeze(0).to(self.device)  # Add batch dimension\n",
        "            vg_pred = self.discriminator(image)\n",
        "\n",
        "            is_van_gogh_prob = torch.sigmoid(vg_pred).item()\n",
        "\n",
        "        return is_van_gogh_prob\n",
        "\n",
        "    def classify_dataset(self, dataloader):\n",
        "        \"\"\"\n",
        "        Classify a whole dataset, returning Van Gogh probabilities\n",
        "        and real/fake probabilities for each image\n",
        "\n",
        "        Args:\n",
        "            dataloader: DataLoader with images to classify\n",
        "\n",
        "        Returns:\n",
        "            A list of tuples (image_idx, is_real_prob, is_van_gogh_prob)\n",
        "        \"\"\"\n",
        "        self.discriminator.eval()\n",
        "        results = []\n",
        "\n",
        "        with torch.no_grad():\n",
        "            for i, (images, _) in enumerate(tqdm(dataloader, desc=\"Classifying images\")):\n",
        "                images = images.to(self.device)\n",
        "                vg_preds= self.discriminator(images)\n",
        "                vg_probs = torch.sigmoid(vg_preds).cpu().numpy()\n",
        "\n",
        "                # Store results\n",
        "                for j in range(len(images)):\n",
        "                    results.append((i * dataloader.batch_size + j, vg_probs[j][0]))\n",
        "\n",
        "        return results\n",
        "\n",
        "    def plot_van_gogh_auc_curve(self, dataloader):\n",
        "        \"\"\"\n",
        "        Plot the ROC curve and calculate the AUC score for the Van Gogh classifier\n",
        "        using the model's existing classify_dataset method.\n",
        "\n",
        "        Parameters:\n",
        "            model: The model with classify_dataset method\n",
        "            dataloader: DataLoader containing painting images with labels (1 for Van Gogh, 0 for other)\n",
        "\n",
        "        Returns:\n",
        "            float: The AUC score\n",
        "        \"\"\"\n",
        "        # Get predictions using the existing helper function\n",
        "        results = self.classify_dataset(dataloader)\n",
        "\n",
        "        # Extract image indices, real probabilities, and Van Gogh probabilities\n",
        "        image_indices = [r[0] for r in results]\n",
        "        vg_probs = [r[1] for r in results]\n",
        "\n",
        "        # Extract ground truth labels from dataloader\n",
        "        all_labels = []\n",
        "        for _, labels in dataloader:\n",
        "            all_labels.extend(labels.cpu().numpy())\n",
        "\n",
        "        # Make sure we have the correct number of labels\n",
        "        all_labels = all_labels[:len(vg_probs)]\n",
        "\n",
        "        # Calculate ROC curve and AUC for Van Gogh predictions\n",
        "        fpr, tpr, thresholds = roc_curve(all_labels, vg_probs)\n",
        "        roc_auc = auc(fpr, tpr)\n",
        "\n",
        "        # Plot ROC curve\n",
        "        plt.figure(figsize=(10, 8))\n",
        "        plt.plot(fpr, tpr, color='darkorange', lw=2, label=f'ROC curve (AUC = {roc_auc:.3f})')\n",
        "        plt.plot([0, 1], [0, 1], color='navy', lw=2, linestyle='--')\n",
        "        plt.xlim([0.0, 1.0])\n",
        "        plt.ylim([0.0, 1.05])\n",
        "        plt.xlabel('False Positive Rate')\n",
        "        plt.ylabel('True Positive Rate')\n",
        "        plt.title('ROC Curve for Van Gogh Painting Classification')\n",
        "        plt.legend(loc='lower right')\n",
        "        plt.grid(True, linestyle='--', alpha=0.7)\n",
        "\n",
        "\n",
        "        plt.tight_layout()\n",
        "        plt.show()\n",
        "\n",
        "        print(f\"Van Gogh Classifier AUC Score: {roc_auc:.4f}\")\n",
        "        return roc_auc"
      ]
    },
    {
      "cell_type": "markdown",
      "metadata": {
        "id": "CK6gSl4gIX52"
      },
      "source": [
        "### **Load and initialize models**"
      ]
    },
    {
      "cell_type": "code",
      "source": [
        "#!git clone https://github.com/huggingface/pytorch-pretrained-BigGAN.git\n",
        "!cd pytorch-pretrained-BigGAN\n",
        "!pip install -r full_requirements.txt"
      ],
      "metadata": {
        "colab": {
          "base_uri": "https://localhost:8080/"
        },
        "id": "Risq4T_OaY6b",
        "outputId": "07d0d945-668f-4266-f33a-ca0a46f1468f"
      },
      "execution_count": 45,
      "outputs": [
        {
          "output_type": "stream",
          "name": "stdout",
          "text": [
            "\u001b[31mERROR: Could not open requirements file: [Errno 2] No such file or directory: 'full_requirements.txt'\u001b[0m\u001b[31m\n",
            "\u001b[0m"
          ]
        }
      ]
    },
    {
      "cell_type": "code",
      "source": [
        "model = BigGAN.from_pretrained(biggan-deep-128, cache_dir=None)"
      ],
      "metadata": {
        "colab": {
          "base_uri": "https://localhost:8080/",
          "height": 146
        },
        "id": "HkXPGtzeZY_i",
        "outputId": "0fc7932f-bc19-40c0-d613-71f7aebfe511"
      },
      "execution_count": 46,
      "outputs": [
        {
          "output_type": "error",
          "ename": "AttributeError",
          "evalue": "module 'BigGAN' has no attribute 'from_pretrained'",
          "traceback": [
            "\u001b[0;31m---------------------------------------------------------------------------\u001b[0m",
            "\u001b[0;31mAttributeError\u001b[0m                            Traceback (most recent call last)",
            "\u001b[0;32m<ipython-input-46-29d7ef54604c>\u001b[0m in \u001b[0;36m<cell line: 0>\u001b[0;34m()\u001b[0m\n\u001b[0;32m----> 1\u001b[0;31m \u001b[0mmodel\u001b[0m \u001b[0;34m=\u001b[0m \u001b[0mBigGAN\u001b[0m\u001b[0;34m.\u001b[0m\u001b[0mfrom_pretrained\u001b[0m\u001b[0;34m(\u001b[0m\u001b[0mbiggan\u001b[0m\u001b[0;34m-\u001b[0m\u001b[0mdeep\u001b[0m\u001b[0;34m-\u001b[0m\u001b[0;36m128\u001b[0m\u001b[0;34m,\u001b[0m \u001b[0mcache_dir\u001b[0m\u001b[0;34m=\u001b[0m\u001b[0;32mNone\u001b[0m\u001b[0;34m)\u001b[0m\u001b[0;34m\u001b[0m\u001b[0;34m\u001b[0m\u001b[0m\n\u001b[0m",
            "\u001b[0;31mAttributeError\u001b[0m: module 'BigGAN' has no attribute 'from_pretrained'"
          ]
        }
      ]
    },
    {
      "cell_type": "code",
      "execution_count": 47,
      "metadata": {
        "colab": {
          "base_uri": "https://localhost:8080/",
          "height": 165
        },
        "id": "eqTFQhSdIX52",
        "outputId": "737669ac-3008-4d34-fee5-ee02a5e34b66"
      },
      "outputs": [
        {
          "output_type": "error",
          "ename": "AttributeError",
          "evalue": "module 'BigGAN' has no attribute 'generator'",
          "traceback": [
            "\u001b[0;31m---------------------------------------------------------------------------\u001b[0m",
            "\u001b[0;31mAttributeError\u001b[0m                            Traceback (most recent call last)",
            "\u001b[0;32m<ipython-input-47-982cedc2161c>\u001b[0m in \u001b[0;36m<cell line: 0>\u001b[0;34m()\u001b[0m\n\u001b[0;32m----> 1\u001b[0;31m \u001b[0mgenerator\u001b[0m \u001b[0;34m=\u001b[0m \u001b[0mBigGAN\u001b[0m\u001b[0;34m.\u001b[0m\u001b[0mgenerator\u001b[0m\u001b[0;34m(\u001b[0m\u001b[0mresolution\u001b[0m\u001b[0;34m=\u001b[0m\u001b[0;36m128\u001b[0m\u001b[0;34m,\u001b[0m \u001b[0mn_classes\u001b[0m\u001b[0;34m=\u001b[0m\u001b[0;36m2\u001b[0m\u001b[0;34m,\u001b[0m \u001b[0mskip_init\u001b[0m\u001b[0;34m=\u001b[0m\u001b[0;32mTrue\u001b[0m\u001b[0;34m,\u001b[0m \u001b[0mG_ch\u001b[0m\u001b[0;34m=\u001b[0m\u001b[0;36m96\u001b[0m\u001b[0;34m)\u001b[0m\u001b[0;34m.\u001b[0m\u001b[0mto\u001b[0m\u001b[0;34m(\u001b[0m\u001b[0mdevice\u001b[0m\u001b[0;34m)\u001b[0m\u001b[0;34m\u001b[0m\u001b[0;34m\u001b[0m\u001b[0m\n\u001b[0m\u001b[1;32m      2\u001b[0m \u001b[0mdiscriminator\u001b[0m \u001b[0;34m=\u001b[0m \u001b[0mBigGAN\u001b[0m\u001b[0;34m.\u001b[0m\u001b[0mdiscriminator\u001b[0m\u001b[0;34m(\u001b[0m\u001b[0mresolution\u001b[0m\u001b[0;34m=\u001b[0m\u001b[0;36m128\u001b[0m\u001b[0;34m,\u001b[0m \u001b[0mn_classes\u001b[0m\u001b[0;34m=\u001b[0m\u001b[0;36m2\u001b[0m\u001b[0;34m,\u001b[0m \u001b[0mskip_init\u001b[0m\u001b[0;34m=\u001b[0m\u001b[0;32mTrue\u001b[0m\u001b[0;34m,\u001b[0m \u001b[0mD_ch\u001b[0m\u001b[0;34m=\u001b[0m\u001b[0;36m96\u001b[0m\u001b[0;34m)\u001b[0m\u001b[0;34m.\u001b[0m\u001b[0mto\u001b[0m\u001b[0;34m(\u001b[0m\u001b[0mdevice\u001b[0m\u001b[0;34m)\u001b[0m\u001b[0;34m\u001b[0m\u001b[0;34m\u001b[0m\u001b[0m\n",
            "\u001b[0;31mAttributeError\u001b[0m: module 'BigGAN' has no attribute 'generator'"
          ]
        }
      ],
      "source": [
        "generator = BigGAN.generator(resolution=128, n_classes=2, skip_init=True, G_ch=96).to(device)\n",
        "discriminator = BigGAN.discriminator(resolution=128, n_classes=2, skip_init=True, D_ch=96).to(device)"
      ]
    },
    {
      "cell_type": "code",
      "execution_count": 34,
      "metadata": {
        "colab": {
          "base_uri": "https://localhost:8080/",
          "height": 165
        },
        "id": "_XJb38deIX52",
        "outputId": "2099d152-dd5c-4812-f3c4-35682c41649e"
      },
      "outputs": [
        {
          "output_type": "error",
          "ename": "NameError",
          "evalue": "name 'generator' is not defined",
          "traceback": [
            "\u001b[0;31m---------------------------------------------------------------------------\u001b[0m",
            "\u001b[0;31mNameError\u001b[0m                                 Traceback (most recent call last)",
            "\u001b[0;32m<ipython-input-34-92fae069ec4c>\u001b[0m in \u001b[0;36m<cell line: 0>\u001b[0;34m()\u001b[0m\n\u001b[0;32m----> 1\u001b[0;31m \u001b[0mg_layers_to_freeze\u001b[0m \u001b[0;34m=\u001b[0m \u001b[0mload_partial_weights\u001b[0m\u001b[0;34m(\u001b[0m\u001b[0mgenerator\u001b[0m\u001b[0;34m,\u001b[0m \u001b[0;34m'model dicts\\G.pth'\u001b[0m\u001b[0;34m)\u001b[0m\u001b[0;34m\u001b[0m\u001b[0;34m\u001b[0m\u001b[0m\n\u001b[0m\u001b[1;32m      2\u001b[0m \u001b[0md_layers_to_freeze\u001b[0m \u001b[0;34m=\u001b[0m  \u001b[0mload_partial_weights\u001b[0m\u001b[0;34m(\u001b[0m\u001b[0mdiscriminator\u001b[0m\u001b[0;34m,\u001b[0m \u001b[0;34m'model dicts\\D.pth'\u001b[0m\u001b[0;34m)\u001b[0m\u001b[0;34m\u001b[0m\u001b[0;34m\u001b[0m\u001b[0m\n",
            "\u001b[0;31mNameError\u001b[0m: name 'generator' is not defined"
          ]
        }
      ],
      "source": [
        "g_layers_to_freeze = load_partial_weights(generator, 'model dicts\\G.pth')\n",
        "d_layers_to_freeze =  load_partial_weights(discriminator, 'model dicts\\D.pth')"
      ]
    },
    {
      "cell_type": "code",
      "execution_count": 35,
      "metadata": {
        "colab": {
          "base_uri": "https://localhost:8080/",
          "height": 165
        },
        "id": "7mVQoOrPIX53",
        "outputId": "21395228-201e-4865-b061-5cbf6f1a7671"
      },
      "outputs": [
        {
          "output_type": "error",
          "ename": "NameError",
          "evalue": "name 'generator' is not defined",
          "traceback": [
            "\u001b[0;31m---------------------------------------------------------------------------\u001b[0m",
            "\u001b[0;31mNameError\u001b[0m                                 Traceback (most recent call last)",
            "\u001b[0;32m<ipython-input-35-6d917521f040>\u001b[0m in \u001b[0;36m<cell line: 0>\u001b[0;34m()\u001b[0m\n\u001b[0;32m----> 1\u001b[0;31m \u001b[0mgenerator_optimizer\u001b[0m \u001b[0;34m=\u001b[0m \u001b[0mtorch\u001b[0m\u001b[0;34m.\u001b[0m\u001b[0moptim\u001b[0m\u001b[0;34m.\u001b[0m\u001b[0mAdam\u001b[0m\u001b[0;34m(\u001b[0m\u001b[0mgenerator\u001b[0m\u001b[0;34m.\u001b[0m\u001b[0mparameters\u001b[0m\u001b[0;34m(\u001b[0m\u001b[0;34m)\u001b[0m\u001b[0;34m,\u001b[0m \u001b[0mlr\u001b[0m\u001b[0;34m=\u001b[0m\u001b[0;36m0.0002\u001b[0m\u001b[0;34m,\u001b[0m \u001b[0mbetas\u001b[0m\u001b[0;34m=\u001b[0m\u001b[0;34m(\u001b[0m\u001b[0;36m0.5\u001b[0m\u001b[0;34m,\u001b[0m \u001b[0;36m0.999\u001b[0m\u001b[0;34m)\u001b[0m\u001b[0;34m)\u001b[0m\u001b[0;34m\u001b[0m\u001b[0;34m\u001b[0m\u001b[0m\n\u001b[0m\u001b[1;32m      2\u001b[0m \u001b[0mdiscriminator_optimizer\u001b[0m \u001b[0;34m=\u001b[0m \u001b[0mtorch\u001b[0m\u001b[0;34m.\u001b[0m\u001b[0moptim\u001b[0m\u001b[0;34m.\u001b[0m\u001b[0mAdam\u001b[0m\u001b[0;34m(\u001b[0m\u001b[0mdiscriminator\u001b[0m\u001b[0;34m.\u001b[0m\u001b[0mparameters\u001b[0m\u001b[0;34m(\u001b[0m\u001b[0;34m)\u001b[0m\u001b[0;34m,\u001b[0m \u001b[0mlr\u001b[0m\u001b[0;34m=\u001b[0m\u001b[0;36m0.00005\u001b[0m\u001b[0;34m,\u001b[0m \u001b[0mbetas\u001b[0m\u001b[0;34m=\u001b[0m\u001b[0;34m(\u001b[0m\u001b[0;36m0.5\u001b[0m\u001b[0;34m,\u001b[0m \u001b[0;36m0.999\u001b[0m\u001b[0;34m)\u001b[0m\u001b[0;34m)\u001b[0m\u001b[0;34m\u001b[0m\u001b[0;34m\u001b[0m\u001b[0m\n",
            "\u001b[0;31mNameError\u001b[0m: name 'generator' is not defined"
          ]
        }
      ],
      "source": [
        "generator_optimizer = torch.optim.Adam(generator.parameters(), lr=0.0002, betas=(0.5, 0.999))\n",
        "discriminator_optimizer = torch.optim.Adam(discriminator.parameters(), lr=0.00005, betas=(0.5, 0.999))"
      ]
    },
    {
      "cell_type": "code",
      "execution_count": 36,
      "metadata": {
        "colab": {
          "base_uri": "https://localhost:8080/",
          "height": 219
        },
        "id": "9cUYhgW8IX53",
        "outputId": "3e8250f5-d94b-4690-fac7-66f60f2abf13"
      },
      "outputs": [
        {
          "output_type": "error",
          "ename": "NameError",
          "evalue": "name 'generator' is not defined",
          "traceback": [
            "\u001b[0;31m---------------------------------------------------------------------------\u001b[0m",
            "\u001b[0;31mNameError\u001b[0m                                 Traceback (most recent call last)",
            "\u001b[0;32m<ipython-input-36-4891639c71e6>\u001b[0m in \u001b[0;36m<cell line: 0>\u001b[0;34m()\u001b[0m\n\u001b[0;32m----> 1\u001b[0;31m \u001b[0mVGgan\u001b[0m \u001b[0;34m=\u001b[0m \u001b[0mGAN\u001b[0m\u001b[0;34m(\u001b[0m\u001b[0mgenerator\u001b[0m\u001b[0;34m,\u001b[0m \u001b[0mdiscriminator\u001b[0m\u001b[0;34m,\u001b[0m \u001b[0mlatent_dim\u001b[0m\u001b[0;34m=\u001b[0m\u001b[0;36m128\u001b[0m\u001b[0;34m,\u001b[0m \u001b[0mdevice\u001b[0m\u001b[0;34m=\u001b[0m\u001b[0;34m'cuda'\u001b[0m\u001b[0;34m)\u001b[0m\u001b[0;34m\u001b[0m\u001b[0;34m\u001b[0m\u001b[0m\n\u001b[0m\u001b[1;32m      2\u001b[0m \u001b[0mVGgan\u001b[0m\u001b[0;34m.\u001b[0m\u001b[0mset_optimizers\u001b[0m\u001b[0;34m(\u001b[0m\u001b[0mgenerator_optimizer\u001b[0m\u001b[0;34m,\u001b[0m \u001b[0mdiscriminator_optimizer\u001b[0m\u001b[0;34m)\u001b[0m\u001b[0;34m\u001b[0m\u001b[0;34m\u001b[0m\u001b[0m\n\u001b[1;32m      3\u001b[0m \u001b[0mVGgan\u001b[0m\u001b[0;34m.\u001b[0m\u001b[0mfreeze_layers\u001b[0m\u001b[0;34m(\u001b[0m\u001b[0mg_layers_to_freeze\u001b[0m\u001b[0;34m[\u001b[0m\u001b[0;36m1\u001b[0m\u001b[0;34m:\u001b[0m\u001b[0;34m-\u001b[0m\u001b[0;36m2\u001b[0m\u001b[0;34m]\u001b[0m\u001b[0;34m,\u001b[0m \u001b[0mmodel\u001b[0m\u001b[0;34m=\u001b[0m\u001b[0;34m'generator'\u001b[0m\u001b[0;34m,\u001b[0m \u001b[0mexact_keys\u001b[0m\u001b[0;34m=\u001b[0m\u001b[0;32mTrue\u001b[0m\u001b[0;34m)\u001b[0m\u001b[0;34m\u001b[0m\u001b[0;34m\u001b[0m\u001b[0m\n\u001b[1;32m      4\u001b[0m \u001b[0mVGgan\u001b[0m\u001b[0;34m.\u001b[0m\u001b[0mfreeze_layers\u001b[0m\u001b[0;34m(\u001b[0m\u001b[0md_layers_to_freeze\u001b[0m\u001b[0;34m[\u001b[0m\u001b[0;36m1\u001b[0m\u001b[0;34m:\u001b[0m\u001b[0;34m-\u001b[0m\u001b[0;36m2\u001b[0m\u001b[0;34m]\u001b[0m\u001b[0;34m,\u001b[0m \u001b[0mmodel\u001b[0m\u001b[0;34m=\u001b[0m\u001b[0;34m'discriminator'\u001b[0m\u001b[0;34m,\u001b[0m \u001b[0mexact_keys\u001b[0m\u001b[0;34m=\u001b[0m\u001b[0;32mTrue\u001b[0m\u001b[0;34m)\u001b[0m\u001b[0;34m\u001b[0m\u001b[0;34m\u001b[0m\u001b[0m\n\u001b[1;32m      5\u001b[0m \u001b[0mVGgan\u001b[0m\u001b[0;34m.\u001b[0m\u001b[0mprune_optimizers\u001b[0m\u001b[0;34m(\u001b[0m\u001b[0;34m)\u001b[0m\u001b[0;34m\u001b[0m\u001b[0;34m\u001b[0m\u001b[0m\n",
            "\u001b[0;31mNameError\u001b[0m: name 'generator' is not defined"
          ]
        }
      ],
      "source": [
        "VGgan = GAN(generator, discriminator, latent_dim=128, device='cuda')\n",
        "VGgan.set_optimizers(generator_optimizer, discriminator_optimizer)\n",
        "VGgan.freeze_layers(g_layers_to_freeze[1:-2], model='generator', exact_keys=True)\n",
        "VGgan.freeze_layers(d_layers_to_freeze[1:-2], model='discriminator', exact_keys=True)\n",
        "VGgan.prune_optimizers()"
      ]
    },
    {
      "cell_type": "markdown",
      "metadata": {
        "id": "6N5Ipr5yIX53"
      },
      "source": [
        "### **Training**"
      ]
    },
    {
      "cell_type": "code",
      "execution_count": null,
      "metadata": {
        "id": "ci9vgHhtIX53",
        "outputId": "50b4f67f-8127-4681-d99a-1ec5ea1006b1"
      },
      "outputs": [
        {
          "name": "stderr",
          "output_type": "stream",
          "text": [
            "Epoch 1/10:   0%|          | 1/268 [00:00<04:21,  1.02it/s]"
          ]
        },
        {
          "name": "stdout",
          "output_type": "stream",
          "text": [
            "[Epoch 1/10] [Batch 0/268] [D loss: 1.1710] [G loss: 0.7683] \n"
          ]
        },
        {
          "name": "stderr",
          "output_type": "stream",
          "text": [
            "Epoch 1/10:  19%|█▉        | 51/268 [00:33<02:22,  1.53it/s]"
          ]
        },
        {
          "name": "stdout",
          "output_type": "stream",
          "text": [
            "[Epoch 1/10] [Batch 50/268] [D loss: 1.1746] [G loss: 0.0010] \n"
          ]
        },
        {
          "name": "stderr",
          "output_type": "stream",
          "text": [
            "Epoch 1/10:  38%|███▊      | 101/268 [01:07<01:49,  1.52it/s]"
          ]
        },
        {
          "name": "stdout",
          "output_type": "stream",
          "text": [
            "[Epoch 1/10] [Batch 100/268] [D loss: 0.9444] [G loss: 0.0011] \n"
          ]
        },
        {
          "name": "stderr",
          "output_type": "stream",
          "text": [
            "Epoch 1/10:  56%|█████▋    | 151/268 [01:40<01:18,  1.49it/s]"
          ]
        },
        {
          "name": "stdout",
          "output_type": "stream",
          "text": [
            "[Epoch 1/10] [Batch 150/268] [D loss: 0.6582] [G loss: 0.0002] \n"
          ]
        },
        {
          "name": "stderr",
          "output_type": "stream",
          "text": [
            "Epoch 1/10:  75%|███████▌  | 201/268 [02:13<00:44,  1.52it/s]"
          ]
        },
        {
          "name": "stdout",
          "output_type": "stream",
          "text": [
            "[Epoch 1/10] [Batch 200/268] [D loss: 0.6559] [G loss: 0.0000] \n"
          ]
        },
        {
          "name": "stderr",
          "output_type": "stream",
          "text": [
            "Epoch 1/10:  94%|█████████▎| 251/268 [02:46<00:11,  1.48it/s]"
          ]
        },
        {
          "name": "stdout",
          "output_type": "stream",
          "text": [
            "[Epoch 1/10] [Batch 250/268] [D loss: 0.6361] [G loss: 0.0000] \n"
          ]
        },
        {
          "name": "stderr",
          "output_type": "stream",
          "text": [
            "Epoch 1/10: 100%|██████████| 268/268 [02:57<00:00,  1.51it/s]\n"
          ]
        },
        {
          "name": "stdout",
          "output_type": "stream",
          "text": [
            "\n",
            "[Epoch 1/10] [D loss: 0.9034] [G loss: 0.0248] \n"
          ]
        },
        {
          "name": "stderr",
          "output_type": "stream",
          "text": [
            "Epoch 2/10:   0%|          | 1/268 [00:00<03:09,  1.41it/s]"
          ]
        },
        {
          "name": "stdout",
          "output_type": "stream",
          "text": [
            "[Epoch 2/10] [Batch 0/268] [D loss: 0.6292] [G loss: 0.0000] \n"
          ]
        },
        {
          "name": "stderr",
          "output_type": "stream",
          "text": [
            "Epoch 2/10:  19%|█▉        | 51/268 [00:33<02:22,  1.52it/s]"
          ]
        },
        {
          "name": "stdout",
          "output_type": "stream",
          "text": [
            "[Epoch 2/10] [Batch 50/268] [D loss: 0.6761] [G loss: 0.0000] \n"
          ]
        },
        {
          "name": "stderr",
          "output_type": "stream",
          "text": [
            "Epoch 2/10:  38%|███▊      | 101/268 [01:06<01:49,  1.52it/s]"
          ]
        },
        {
          "name": "stdout",
          "output_type": "stream",
          "text": [
            "[Epoch 2/10] [Batch 100/268] [D loss: 0.6764] [G loss: 0.0000] \n"
          ]
        },
        {
          "name": "stderr",
          "output_type": "stream",
          "text": [
            "Epoch 2/10:  56%|█████▋    | 151/268 [01:39<01:18,  1.49it/s]"
          ]
        },
        {
          "name": "stdout",
          "output_type": "stream",
          "text": [
            "[Epoch 2/10] [Batch 150/268] [D loss: 0.6736] [G loss: 0.0000] \n"
          ]
        },
        {
          "name": "stderr",
          "output_type": "stream",
          "text": [
            "Epoch 2/10:  75%|███████▌  | 201/268 [02:13<00:43,  1.53it/s]"
          ]
        },
        {
          "name": "stdout",
          "output_type": "stream",
          "text": [
            "[Epoch 2/10] [Batch 200/268] [D loss: 0.6515] [G loss: 0.0000] \n"
          ]
        },
        {
          "name": "stderr",
          "output_type": "stream",
          "text": [
            "Epoch 2/10:  94%|█████████▎| 251/268 [02:46<00:11,  1.52it/s]"
          ]
        },
        {
          "name": "stdout",
          "output_type": "stream",
          "text": [
            "[Epoch 2/10] [Batch 250/268] [D loss: 0.6183] [G loss: 0.0000] \n"
          ]
        },
        {
          "name": "stderr",
          "output_type": "stream",
          "text": [
            "Epoch 2/10: 100%|██████████| 268/268 [02:57<00:00,  1.51it/s]\n"
          ]
        },
        {
          "name": "stdout",
          "output_type": "stream",
          "text": [
            "\n",
            "[Epoch 2/10] [D loss: 0.6618] [G loss: 0.0000] \n"
          ]
        },
        {
          "name": "stderr",
          "output_type": "stream",
          "text": [
            "Epoch 3/10:   0%|          | 1/268 [00:00<02:57,  1.50it/s]"
          ]
        },
        {
          "name": "stdout",
          "output_type": "stream",
          "text": [
            "[Epoch 3/10] [Batch 0/268] [D loss: 0.6381] [G loss: 0.0000] \n"
          ]
        },
        {
          "name": "stderr",
          "output_type": "stream",
          "text": [
            "Epoch 3/10:  19%|█▉        | 51/268 [00:33<02:21,  1.53it/s]"
          ]
        },
        {
          "name": "stdout",
          "output_type": "stream",
          "text": [
            "[Epoch 3/10] [Batch 50/268] [D loss: 0.6769] [G loss: 0.0000] \n"
          ]
        },
        {
          "name": "stderr",
          "output_type": "stream",
          "text": [
            "Epoch 3/10:  38%|███▊      | 101/268 [01:07<01:52,  1.48it/s]"
          ]
        },
        {
          "name": "stdout",
          "output_type": "stream",
          "text": [
            "[Epoch 3/10] [Batch 100/268] [D loss: 0.7067] [G loss: 0.0000] \n"
          ]
        },
        {
          "name": "stderr",
          "output_type": "stream",
          "text": [
            "Epoch 3/10:  56%|█████▋    | 151/268 [01:39<01:16,  1.52it/s]"
          ]
        },
        {
          "name": "stdout",
          "output_type": "stream",
          "text": [
            "[Epoch 3/10] [Batch 150/268] [D loss: 0.6288] [G loss: 0.0000] \n"
          ]
        },
        {
          "name": "stderr",
          "output_type": "stream",
          "text": [
            "Epoch 3/10:  75%|███████▌  | 201/268 [02:12<00:43,  1.53it/s]"
          ]
        },
        {
          "name": "stdout",
          "output_type": "stream",
          "text": [
            "[Epoch 3/10] [Batch 200/268] [D loss: 0.6579] [G loss: 0.0000] \n"
          ]
        },
        {
          "name": "stderr",
          "output_type": "stream",
          "text": [
            "Epoch 3/10:  94%|█████████▎| 251/268 [02:45<00:11,  1.48it/s]"
          ]
        },
        {
          "name": "stdout",
          "output_type": "stream",
          "text": [
            "[Epoch 3/10] [Batch 250/268] [D loss: 0.6379] [G loss: 0.0000] \n"
          ]
        },
        {
          "name": "stderr",
          "output_type": "stream",
          "text": [
            "Epoch 3/10: 100%|██████████| 268/268 [02:56<00:00,  1.52it/s]\n"
          ]
        },
        {
          "name": "stdout",
          "output_type": "stream",
          "text": [
            "\n",
            "[Epoch 3/10] [D loss: 0.6563] [G loss: 0.0000] \n"
          ]
        },
        {
          "name": "stderr",
          "output_type": "stream",
          "text": [
            "Epoch 4/10:   0%|          | 1/268 [00:00<03:07,  1.42it/s]"
          ]
        },
        {
          "name": "stdout",
          "output_type": "stream",
          "text": [
            "[Epoch 4/10] [Batch 0/268] [D loss: 0.6194] [G loss: 0.0000] \n"
          ]
        },
        {
          "name": "stderr",
          "output_type": "stream",
          "text": [
            "Epoch 4/10:  19%|█▉        | 51/268 [00:33<02:22,  1.53it/s]"
          ]
        },
        {
          "name": "stdout",
          "output_type": "stream",
          "text": [
            "[Epoch 4/10] [Batch 50/268] [D loss: 0.6204] [G loss: 0.0000] \n"
          ]
        },
        {
          "name": "stderr",
          "output_type": "stream",
          "text": [
            "Epoch 4/10:  38%|███▊      | 101/268 [01:06<01:48,  1.54it/s]"
          ]
        },
        {
          "name": "stdout",
          "output_type": "stream",
          "text": [
            "[Epoch 4/10] [Batch 100/268] [D loss: 0.6884] [G loss: 0.0000] \n"
          ]
        },
        {
          "name": "stderr",
          "output_type": "stream",
          "text": [
            "Epoch 4/10:  56%|█████▋    | 151/268 [01:39<01:16,  1.52it/s]"
          ]
        },
        {
          "name": "stdout",
          "output_type": "stream",
          "text": [
            "[Epoch 4/10] [Batch 150/268] [D loss: 0.5970] [G loss: 0.0000] \n"
          ]
        },
        {
          "name": "stderr",
          "output_type": "stream",
          "text": [
            "Epoch 4/10:  75%|███████▌  | 201/268 [02:12<00:44,  1.51it/s]"
          ]
        },
        {
          "name": "stdout",
          "output_type": "stream",
          "text": [
            "[Epoch 4/10] [Batch 200/268] [D loss: 0.6457] [G loss: 0.0000] \n"
          ]
        },
        {
          "name": "stderr",
          "output_type": "stream",
          "text": [
            "Epoch 4/10:  94%|█████████▎| 251/268 [02:45<00:11,  1.45it/s]"
          ]
        },
        {
          "name": "stdout",
          "output_type": "stream",
          "text": [
            "[Epoch 4/10] [Batch 250/268] [D loss: 0.6667] [G loss: 0.0000] \n"
          ]
        },
        {
          "name": "stderr",
          "output_type": "stream",
          "text": [
            "Epoch 4/10: 100%|██████████| 268/268 [02:56<00:00,  1.52it/s]\n"
          ]
        },
        {
          "name": "stdout",
          "output_type": "stream",
          "text": [
            "\n",
            "[Epoch 4/10] [D loss: 0.6530] [G loss: 0.0000] \n"
          ]
        },
        {
          "name": "stderr",
          "output_type": "stream",
          "text": [
            "Epoch 5/10:   0%|          | 1/268 [00:00<02:56,  1.51it/s]"
          ]
        },
        {
          "name": "stdout",
          "output_type": "stream",
          "text": [
            "[Epoch 5/10] [Batch 0/268] [D loss: 0.6525] [G loss: 0.0000] \n"
          ]
        },
        {
          "name": "stderr",
          "output_type": "stream",
          "text": [
            "Epoch 5/10:  19%|█▉        | 51/268 [00:33<02:22,  1.52it/s]"
          ]
        },
        {
          "name": "stdout",
          "output_type": "stream",
          "text": [
            "[Epoch 5/10] [Batch 50/268] [D loss: 0.5862] [G loss: 0.0000] \n"
          ]
        },
        {
          "name": "stderr",
          "output_type": "stream",
          "text": [
            "Epoch 5/10:  38%|███▊      | 101/268 [01:06<01:54,  1.46it/s]"
          ]
        },
        {
          "name": "stdout",
          "output_type": "stream",
          "text": [
            "[Epoch 5/10] [Batch 100/268] [D loss: 0.6435] [G loss: 0.0000] \n"
          ]
        },
        {
          "name": "stderr",
          "output_type": "stream",
          "text": [
            "Epoch 5/10:  56%|█████▋    | 151/268 [01:39<01:16,  1.53it/s]"
          ]
        },
        {
          "name": "stdout",
          "output_type": "stream",
          "text": [
            "[Epoch 5/10] [Batch 150/268] [D loss: 0.6781] [G loss: 0.0000] \n"
          ]
        },
        {
          "name": "stderr",
          "output_type": "stream",
          "text": [
            "Epoch 5/10:  75%|███████▌  | 201/268 [02:12<00:43,  1.54it/s]"
          ]
        },
        {
          "name": "stdout",
          "output_type": "stream",
          "text": [
            "[Epoch 5/10] [Batch 200/268] [D loss: 0.6746] [G loss: 0.0000] \n"
          ]
        },
        {
          "name": "stderr",
          "output_type": "stream",
          "text": [
            "Epoch 5/10:  94%|█████████▎| 251/268 [02:45<00:11,  1.53it/s]"
          ]
        },
        {
          "name": "stdout",
          "output_type": "stream",
          "text": [
            "[Epoch 5/10] [Batch 250/268] [D loss: 0.7162] [G loss: 0.0000] \n"
          ]
        },
        {
          "name": "stderr",
          "output_type": "stream",
          "text": [
            "Epoch 5/10: 100%|██████████| 268/268 [02:56<00:00,  1.52it/s]\n"
          ]
        },
        {
          "name": "stdout",
          "output_type": "stream",
          "text": [
            "\n",
            "[Epoch 5/10] [D loss: 0.6492] [G loss: 0.0000] \n"
          ]
        },
        {
          "name": "stderr",
          "output_type": "stream",
          "text": [
            "Epoch 6/10:   0%|          | 1/268 [00:00<03:06,  1.43it/s]"
          ]
        },
        {
          "name": "stdout",
          "output_type": "stream",
          "text": [
            "[Epoch 6/10] [Batch 0/268] [D loss: 0.6369] [G loss: 0.0000] \n"
          ]
        },
        {
          "name": "stderr",
          "output_type": "stream",
          "text": [
            "Epoch 6/10:  19%|█▉        | 51/268 [00:34<02:24,  1.51it/s]"
          ]
        },
        {
          "name": "stdout",
          "output_type": "stream",
          "text": [
            "[Epoch 6/10] [Batch 50/268] [D loss: 0.5967] [G loss: 0.0000] \n"
          ]
        },
        {
          "name": "stderr",
          "output_type": "stream",
          "text": [
            "Epoch 6/10:  38%|███▊      | 101/268 [01:06<01:48,  1.54it/s]"
          ]
        },
        {
          "name": "stdout",
          "output_type": "stream",
          "text": [
            "[Epoch 6/10] [Batch 100/268] [D loss: 0.5849] [G loss: 0.0000] \n"
          ]
        },
        {
          "name": "stderr",
          "output_type": "stream",
          "text": [
            "Epoch 6/10:  56%|█████▋    | 151/268 [01:39<01:16,  1.52it/s]"
          ]
        },
        {
          "name": "stdout",
          "output_type": "stream",
          "text": [
            "[Epoch 6/10] [Batch 150/268] [D loss: 0.6693] [G loss: 0.0000] \n"
          ]
        },
        {
          "name": "stderr",
          "output_type": "stream",
          "text": [
            "Epoch 6/10:  75%|███████▌  | 201/268 [02:12<00:44,  1.51it/s]"
          ]
        },
        {
          "name": "stdout",
          "output_type": "stream",
          "text": [
            "[Epoch 6/10] [Batch 200/268] [D loss: 0.6518] [G loss: 0.0000] \n"
          ]
        },
        {
          "name": "stderr",
          "output_type": "stream",
          "text": [
            "Epoch 6/10:  94%|█████████▎| 251/268 [02:45<00:11,  1.54it/s]"
          ]
        },
        {
          "name": "stdout",
          "output_type": "stream",
          "text": [
            "[Epoch 6/10] [Batch 250/268] [D loss: 0.6588] [G loss: 0.0000] \n"
          ]
        },
        {
          "name": "stderr",
          "output_type": "stream",
          "text": [
            "Epoch 6/10: 100%|██████████| 268/268 [02:56<00:00,  1.52it/s]\n"
          ]
        },
        {
          "name": "stdout",
          "output_type": "stream",
          "text": [
            "\n",
            "[Epoch 6/10] [D loss: 0.6456] [G loss: 0.0000] \n"
          ]
        },
        {
          "name": "stderr",
          "output_type": "stream",
          "text": [
            "Epoch 7/10:   0%|          | 1/268 [00:00<02:59,  1.49it/s]"
          ]
        },
        {
          "name": "stdout",
          "output_type": "stream",
          "text": [
            "[Epoch 7/10] [Batch 0/268] [D loss: 0.6538] [G loss: 0.0000] \n"
          ]
        },
        {
          "name": "stderr",
          "output_type": "stream",
          "text": [
            "Epoch 7/10:  19%|█▉        | 51/268 [00:33<02:21,  1.53it/s]"
          ]
        },
        {
          "name": "stdout",
          "output_type": "stream",
          "text": [
            "[Epoch 7/10] [Batch 50/268] [D loss: 0.6869] [G loss: 0.0000] \n"
          ]
        },
        {
          "name": "stderr",
          "output_type": "stream",
          "text": [
            "Epoch 7/10:  38%|███▊      | 101/268 [01:06<01:54,  1.46it/s]"
          ]
        },
        {
          "name": "stdout",
          "output_type": "stream",
          "text": [
            "[Epoch 7/10] [Batch 100/268] [D loss: 0.6064] [G loss: 0.0000] \n"
          ]
        },
        {
          "name": "stderr",
          "output_type": "stream",
          "text": [
            "Epoch 7/10:  56%|█████▋    | 151/268 [01:40<01:16,  1.53it/s]"
          ]
        },
        {
          "name": "stdout",
          "output_type": "stream",
          "text": [
            "[Epoch 7/10] [Batch 150/268] [D loss: 0.6473] [G loss: 0.0000] \n"
          ]
        },
        {
          "name": "stderr",
          "output_type": "stream",
          "text": [
            "Epoch 7/10:  75%|███████▌  | 201/268 [02:12<00:43,  1.54it/s]"
          ]
        },
        {
          "name": "stdout",
          "output_type": "stream",
          "text": [
            "[Epoch 7/10] [Batch 200/268] [D loss: 0.6405] [G loss: 0.0000] \n"
          ]
        },
        {
          "name": "stderr",
          "output_type": "stream",
          "text": [
            "Epoch 7/10:  94%|█████████▎| 251/268 [02:45<00:11,  1.53it/s]"
          ]
        },
        {
          "name": "stdout",
          "output_type": "stream",
          "text": [
            "[Epoch 7/10] [Batch 250/268] [D loss: 0.6385] [G loss: 0.0000] \n"
          ]
        },
        {
          "name": "stderr",
          "output_type": "stream",
          "text": [
            "Epoch 7/10: 100%|██████████| 268/268 [02:56<00:00,  1.52it/s]\n"
          ]
        },
        {
          "name": "stdout",
          "output_type": "stream",
          "text": [
            "\n",
            "[Epoch 7/10] [D loss: 0.6423] [G loss: 0.0000] \n"
          ]
        },
        {
          "name": "stderr",
          "output_type": "stream",
          "text": [
            "Epoch 8/10:   0%|          | 1/268 [00:00<03:04,  1.44it/s]"
          ]
        },
        {
          "name": "stdout",
          "output_type": "stream",
          "text": [
            "[Epoch 8/10] [Batch 0/268] [D loss: 0.6346] [G loss: 0.0000] \n"
          ]
        },
        {
          "name": "stderr",
          "output_type": "stream",
          "text": [
            "Epoch 8/10:  19%|█▉        | 51/268 [00:34<02:21,  1.53it/s]"
          ]
        },
        {
          "name": "stdout",
          "output_type": "stream",
          "text": [
            "[Epoch 8/10] [Batch 50/268] [D loss: 0.6845] [G loss: 0.0000] \n"
          ]
        },
        {
          "name": "stderr",
          "output_type": "stream",
          "text": [
            "Epoch 8/10:  38%|███▊      | 101/268 [01:07<01:48,  1.54it/s]"
          ]
        },
        {
          "name": "stdout",
          "output_type": "stream",
          "text": [
            "[Epoch 8/10] [Batch 100/268] [D loss: 0.7418] [G loss: 0.0000] \n"
          ]
        },
        {
          "name": "stderr",
          "output_type": "stream",
          "text": [
            "Epoch 8/10:  56%|█████▋    | 151/268 [01:39<01:16,  1.53it/s]"
          ]
        },
        {
          "name": "stdout",
          "output_type": "stream",
          "text": [
            "[Epoch 8/10] [Batch 150/268] [D loss: 0.5857] [G loss: 0.0000] \n"
          ]
        },
        {
          "name": "stderr",
          "output_type": "stream",
          "text": [
            "Epoch 8/10:  75%|███████▌  | 201/268 [02:13<00:46,  1.45it/s]"
          ]
        },
        {
          "name": "stdout",
          "output_type": "stream",
          "text": [
            "[Epoch 8/10] [Batch 200/268] [D loss: 0.6450] [G loss: 0.0000] \n"
          ]
        },
        {
          "name": "stderr",
          "output_type": "stream",
          "text": [
            "Epoch 8/10:  94%|█████████▎| 251/268 [02:46<00:11,  1.54it/s]"
          ]
        },
        {
          "name": "stdout",
          "output_type": "stream",
          "text": [
            "[Epoch 8/10] [Batch 250/268] [D loss: 0.6063] [G loss: 0.0000] \n"
          ]
        },
        {
          "name": "stderr",
          "output_type": "stream",
          "text": [
            "Epoch 8/10: 100%|██████████| 268/268 [02:56<00:00,  1.51it/s]\n"
          ]
        },
        {
          "name": "stdout",
          "output_type": "stream",
          "text": [
            "\n",
            "[Epoch 8/10] [D loss: 0.6400] [G loss: 0.0000] \n"
          ]
        },
        {
          "name": "stderr",
          "output_type": "stream",
          "text": [
            "Epoch 9/10:   0%|          | 1/268 [00:00<02:58,  1.50it/s]"
          ]
        },
        {
          "name": "stdout",
          "output_type": "stream",
          "text": [
            "[Epoch 9/10] [Batch 0/268] [D loss: 0.5950] [G loss: 0.0000] \n"
          ]
        },
        {
          "name": "stderr",
          "output_type": "stream",
          "text": [
            "Epoch 9/10:  19%|█▉        | 51/268 [00:33<02:21,  1.54it/s]"
          ]
        },
        {
          "name": "stdout",
          "output_type": "stream",
          "text": [
            "[Epoch 9/10] [Batch 50/268] [D loss: 0.6170] [G loss: 0.0000] \n"
          ]
        },
        {
          "name": "stderr",
          "output_type": "stream",
          "text": [
            "Epoch 9/10:  38%|███▊      | 101/268 [01:06<01:54,  1.46it/s]"
          ]
        },
        {
          "name": "stdout",
          "output_type": "stream",
          "text": [
            "[Epoch 9/10] [Batch 100/268] [D loss: 0.6442] [G loss: 0.0000] \n"
          ]
        },
        {
          "name": "stderr",
          "output_type": "stream",
          "text": [
            "Epoch 9/10:  56%|█████▋    | 151/268 [01:39<01:17,  1.51it/s]"
          ]
        },
        {
          "name": "stdout",
          "output_type": "stream",
          "text": [
            "[Epoch 9/10] [Batch 150/268] [D loss: 0.6265] [G loss: 0.0000] \n"
          ]
        },
        {
          "name": "stderr",
          "output_type": "stream",
          "text": [
            "Epoch 9/10:  75%|███████▌  | 201/268 [02:12<00:43,  1.53it/s]"
          ]
        },
        {
          "name": "stdout",
          "output_type": "stream",
          "text": [
            "[Epoch 9/10] [Batch 200/268] [D loss: 0.6803] [G loss: 0.0000] \n"
          ]
        },
        {
          "name": "stderr",
          "output_type": "stream",
          "text": [
            "Epoch 9/10:  94%|█████████▎| 251/268 [02:45<00:11,  1.53it/s]"
          ]
        },
        {
          "name": "stdout",
          "output_type": "stream",
          "text": [
            "[Epoch 9/10] [Batch 250/268] [D loss: 0.6573] [G loss: 0.0000] \n"
          ]
        },
        {
          "name": "stderr",
          "output_type": "stream",
          "text": [
            "Epoch 9/10: 100%|██████████| 268/268 [02:55<00:00,  1.52it/s]\n"
          ]
        },
        {
          "name": "stdout",
          "output_type": "stream",
          "text": [
            "\n",
            "[Epoch 9/10] [D loss: 0.6381] [G loss: 0.0000] \n"
          ]
        },
        {
          "name": "stderr",
          "output_type": "stream",
          "text": [
            "Epoch 10/10:   0%|          | 1/268 [00:00<02:58,  1.49it/s]"
          ]
        },
        {
          "name": "stdout",
          "output_type": "stream",
          "text": [
            "[Epoch 10/10] [Batch 0/268] [D loss: 0.6897] [G loss: 0.0000] \n"
          ]
        },
        {
          "name": "stderr",
          "output_type": "stream",
          "text": [
            "Epoch 10/10:  19%|█▉        | 51/268 [00:34<02:27,  1.47it/s]"
          ]
        },
        {
          "name": "stdout",
          "output_type": "stream",
          "text": [
            "[Epoch 10/10] [Batch 50/268] [D loss: 0.6332] [G loss: 0.0000] \n"
          ]
        },
        {
          "name": "stderr",
          "output_type": "stream",
          "text": [
            "Epoch 10/10:  38%|███▊      | 101/268 [01:07<01:48,  1.54it/s]"
          ]
        },
        {
          "name": "stdout",
          "output_type": "stream",
          "text": [
            "[Epoch 10/10] [Batch 100/268] [D loss: 0.6630] [G loss: 0.0000] \n"
          ]
        },
        {
          "name": "stderr",
          "output_type": "stream",
          "text": [
            "Epoch 10/10:  56%|█████▋    | 151/268 [01:39<01:16,  1.53it/s]"
          ]
        },
        {
          "name": "stdout",
          "output_type": "stream",
          "text": [
            "[Epoch 10/10] [Batch 150/268] [D loss: 0.5761] [G loss: 0.0000] \n"
          ]
        },
        {
          "name": "stderr",
          "output_type": "stream",
          "text": [
            "Epoch 10/10:  75%|███████▌  | 201/268 [02:12<00:45,  1.48it/s]"
          ]
        },
        {
          "name": "stdout",
          "output_type": "stream",
          "text": [
            "[Epoch 10/10] [Batch 200/268] [D loss: 0.6999] [G loss: 0.0000] \n"
          ]
        },
        {
          "name": "stderr",
          "output_type": "stream",
          "text": [
            "Epoch 10/10:  94%|█████████▎| 251/268 [02:46<00:11,  1.53it/s]"
          ]
        },
        {
          "name": "stdout",
          "output_type": "stream",
          "text": [
            "[Epoch 10/10] [Batch 250/268] [D loss: 0.6611] [G loss: 0.0000] \n"
          ]
        },
        {
          "name": "stderr",
          "output_type": "stream",
          "text": [
            "Epoch 10/10: 100%|██████████| 268/268 [02:56<00:00,  1.52it/s]"
          ]
        },
        {
          "name": "stdout",
          "output_type": "stream",
          "text": [
            "\n",
            "[Epoch 10/10] [D loss: 0.6360] [G loss: 0.0000] \n"
          ]
        },
        {
          "name": "stderr",
          "output_type": "stream",
          "text": [
            "\n"
          ]
        }
      ],
      "source": [
        "num_epochs = 10\n",
        "VGgan.train(VGtraindataloader, epochs=num_epochs, n_critic = 1)"
      ]
    },
    {
      "cell_type": "markdown",
      "metadata": {
        "id": "vDkW_y2IIX53"
      },
      "source": [
        "### **Evaluation and testing**"
      ]
    },
    {
      "cell_type": "code",
      "execution_count": null,
      "metadata": {
        "id": "nWuk4cR8IX53"
      },
      "outputs": [],
      "source": [
        "VGgan.save_models('model_1')"
      ]
    },
    {
      "cell_type": "code",
      "execution_count": null,
      "metadata": {
        "id": "PswSMGKGIX53"
      },
      "outputs": [],
      "source": [
        "best_generator = VGgan.generator\n",
        "best_discriminator = VGgan.discriminator\n",
        "best_GAN = GAN(best_generator, best_discriminator, latent_dim=128, device='cuda')"
      ]
    },
    {
      "cell_type": "code",
      "execution_count": null,
      "metadata": {
        "id": "UIk89bm6IX54",
        "outputId": "3ebed11a-7fd7-4edf-8183-ff198bf236ff"
      },
      "outputs": [
        {
          "ename": "RuntimeError",
          "evalue": "CUDA error: device-side assert triggered\nCUDA kernel errors might be asynchronously reported at some other API call, so the stacktrace below might be incorrect.\nFor debugging consider passing CUDA_LAUNCH_BLOCKING=1\nCompile with `TORCH_USE_CUDA_DSA` to enable device-side assertions.\n",
          "output_type": "error",
          "traceback": [
            "\u001b[31m---------------------------------------------------------------------------\u001b[39m",
            "\u001b[31mRuntimeError\u001b[39m                              Traceback (most recent call last)",
            "\u001b[36mCell\u001b[39m\u001b[36m \u001b[39m\u001b[32mIn[27]\u001b[39m\u001b[32m, line 1\u001b[39m\n\u001b[32m----> \u001b[39m\u001b[32m1\u001b[39m \u001b[43mbest_GAN\u001b[49m\u001b[43m.\u001b[49m\u001b[43mplot_metrics\u001b[49m\u001b[43m(\u001b[49m\u001b[43m)\u001b[49m\n",
            "\u001b[36mCell\u001b[39m\u001b[36m \u001b[39m\u001b[32mIn[25]\u001b[39m\u001b[32m, line 412\u001b[39m, in \u001b[36mGAN.plot_metrics\u001b[39m\u001b[34m(self)\u001b[39m\n\u001b[32m    410\u001b[39m \u001b[38;5;66;03m# Plot sample generated images\u001b[39;00m\n\u001b[32m    411\u001b[39m plt.subplot(\u001b[32m2\u001b[39m, \u001b[32m2\u001b[39m, \u001b[32m4\u001b[39m)\n\u001b[32m--> \u001b[39m\u001b[32m412\u001b[39m y = \u001b[43mtorch\u001b[49m\u001b[43m.\u001b[49m\u001b[43mfull\u001b[49m\u001b[43m(\u001b[49m\u001b[43m(\u001b[49m\u001b[32;43m16\u001b[39;49m\u001b[43m,\u001b[49m\u001b[43m \u001b[49m\u001b[32;43m1\u001b[39;49m\u001b[43m)\u001b[49m\u001b[43m,\u001b[49m\u001b[43m \u001b[49m\u001b[43mfill_value\u001b[49m\u001b[43m=\u001b[49m\u001b[32;43m1\u001b[39;49m\u001b[43m,\u001b[49m\u001b[43m \u001b[49m\u001b[43mdevice\u001b[49m\u001b[43m=\u001b[49m\u001b[38;5;28;43mself\u001b[39;49m\u001b[43m.\u001b[49m\u001b[43mdevice\u001b[49m\u001b[43m,\u001b[49m\u001b[43m \u001b[49m\u001b[43mdtype\u001b[49m\u001b[43m=\u001b[49m\u001b[43mtorch\u001b[49m\u001b[43m.\u001b[49m\u001b[43mlong\u001b[49m\u001b[43m)\u001b[49m\n\u001b[32m    413\u001b[39m y_emb = \u001b[38;5;28mself\u001b[39m.generator.shared(y)\n\u001b[32m    414\u001b[39m z = torch.randn(\u001b[32m16\u001b[39m, \u001b[38;5;28mself\u001b[39m.latent_dim, device=\u001b[38;5;28mself\u001b[39m.device)\n",
            "\u001b[31mRuntimeError\u001b[39m: CUDA error: device-side assert triggered\nCUDA kernel errors might be asynchronously reported at some other API call, so the stacktrace below might be incorrect.\nFor debugging consider passing CUDA_LAUNCH_BLOCKING=1\nCompile with `TORCH_USE_CUDA_DSA` to enable device-side assertions.\n"
          ]
        },
        {
          "data": {
            "image/png": "[encoded data removed]",
            "text/plain": [
              "<Figure size 1500x1000 with 2 Axes>"
            ]
          },
          "metadata": {},
          "output_type": "display_data"
        }
      ],
      "source": [
        "best_GAN.plot_metrics()"
      ]
    },
    {
      "cell_type": "code",
      "execution_count": null,
      "metadata": {
        "id": "8i3HdIYQIX54",
        "outputId": "1bc130a8-9d50-48bf-a723-87cefde671fd"
      },
      "outputs": [
        {
          "ename": "RuntimeError",
          "evalue": "CUDA error: device-side assert triggered\nCUDA kernel errors might be asynchronously reported at some other API call, so the stacktrace below might be incorrect.\nFor debugging consider passing CUDA_LAUNCH_BLOCKING=1\nCompile with `TORCH_USE_CUDA_DSA` to enable device-side assertions.\n",
          "output_type": "error",
          "traceback": [
            "\u001b[31m---------------------------------------------------------------------------\u001b[39m",
            "\u001b[31mRuntimeError\u001b[39m                              Traceback (most recent call last)",
            "\u001b[36mCell\u001b[39m\u001b[36m \u001b[39m\u001b[32mIn[28]\u001b[39m\u001b[32m, line 1\u001b[39m\n\u001b[32m----> \u001b[39m\u001b[32m1\u001b[39m \u001b[43mVGgan\u001b[49m\u001b[43m.\u001b[49m\u001b[43mgenerate_images\u001b[49m\u001b[43m(\u001b[49m\u001b[43mnum_images\u001b[49m\u001b[43m=\u001b[49m\u001b[32;43m16\u001b[39;49m\u001b[43m,\u001b[49m\u001b[43m \u001b[49m\u001b[43msave_path\u001b[49m\u001b[43m=\u001b[49m\u001b[33;43m\"\u001b[39;49m\u001b[33;43mgenerated_van_goghs_3\u001b[39;49m\u001b[33;43m\"\u001b[39;49m\u001b[43m)\u001b[49m\n",
            "\u001b[36mCell\u001b[39m\u001b[36m \u001b[39m\u001b[32mIn[16]\u001b[39m\u001b[32m, line 432\u001b[39m, in \u001b[36mGAN.generate_images\u001b[39m\u001b[34m(self, num_images, save_path)\u001b[39m\n\u001b[32m    430\u001b[39m \u001b[38;5;28mself\u001b[39m.generator.eval()\n\u001b[32m    431\u001b[39m \u001b[38;5;28;01mwith\u001b[39;00m torch.no_grad():\n\u001b[32m--> \u001b[39m\u001b[32m432\u001b[39m     y = \u001b[43mtorch\u001b[49m\u001b[43m.\u001b[49m\u001b[43mrandint\u001b[49m\u001b[43m(\u001b[49m\u001b[32;43m0\u001b[39;49m\u001b[43m,\u001b[49m\u001b[43m \u001b[49m\u001b[32;43m1000\u001b[39;49m\u001b[43m,\u001b[49m\u001b[43m \u001b[49m\u001b[43m(\u001b[49m\u001b[43mnum_images\u001b[49m\u001b[43m,\u001b[49m\u001b[43m)\u001b[49m\u001b[43m,\u001b[49m\u001b[43m \u001b[49m\u001b[43mdevice\u001b[49m\u001b[43m=\u001b[49m\u001b[38;5;28;43mself\u001b[39;49m\u001b[43m.\u001b[49m\u001b[43mdevice\u001b[49m\u001b[43m)\u001b[49m\n\u001b[32m    433\u001b[39m     y_emb = \u001b[38;5;28mself\u001b[39m.generator.shared(y)\n\u001b[32m    434\u001b[39m     z = torch.randn(num_images, \u001b[38;5;28mself\u001b[39m.latent_dim, device=\u001b[38;5;28mself\u001b[39m.device)\n",
            "\u001b[31mRuntimeError\u001b[39m: CUDA error: device-side assert triggered\nCUDA kernel errors might be asynchronously reported at some other API call, so the stacktrace below might be incorrect.\nFor debugging consider passing CUDA_LAUNCH_BLOCKING=1\nCompile with `TORCH_USE_CUDA_DSA` to enable device-side assertions.\n"
          ]
        }
      ],
      "source": [
        "VGgan.generate_images(num_images=16, save_path=\"generated_van_goghs_3\")"
      ]
    },
    {
      "cell_type": "code",
      "execution_count": null,
      "metadata": {
        "id": "S_K9TdJTIX54",
        "outputId": "7adc2775-5db9-48b7-8978-9564983b1b5c"
      },
      "outputs": [
        {
          "name": "stderr",
          "output_type": "stream",
          "text": [
            "Classifying images:   0%|          | 0/67 [00:00<?, ?it/s]\n"
          ]
        },
        {
          "ename": "RuntimeError",
          "evalue": "CUDA error: device-side assert triggered\nCUDA kernel errors might be asynchronously reported at some other API call, so the stacktrace below might be incorrect.\nFor debugging consider passing CUDA_LAUNCH_BLOCKING=1\nCompile with `TORCH_USE_CUDA_DSA` to enable device-side assertions.\n",
          "output_type": "error",
          "traceback": [
            "\u001b[31m---------------------------------------------------------------------------\u001b[39m",
            "\u001b[31mRuntimeError\u001b[39m                              Traceback (most recent call last)",
            "\u001b[36mCell\u001b[39m\u001b[36m \u001b[39m\u001b[32mIn[29]\u001b[39m\u001b[32m, line 1\u001b[39m\n\u001b[32m----> \u001b[39m\u001b[32m1\u001b[39m \u001b[43mVGgan\u001b[49m\u001b[43m.\u001b[49m\u001b[43mplot_van_gogh_auc_curve\u001b[49m\u001b[43m(\u001b[49m\u001b[43mVGtestdataloader\u001b[49m\u001b[43m)\u001b[49m\n",
            "\u001b[36mCell\u001b[39m\u001b[36m \u001b[39m\u001b[32mIn[16]\u001b[39m\u001b[32m, line 507\u001b[39m, in \u001b[36mGAN.plot_van_gogh_auc_curve\u001b[39m\u001b[34m(self, dataloader)\u001b[39m\n\u001b[32m    495\u001b[39m \u001b[38;5;250m\u001b[39m\u001b[33;03m\"\"\"\u001b[39;00m\n\u001b[32m    496\u001b[39m \u001b[33;03mPlot the ROC curve and calculate the AUC score for the Van Gogh classifier\u001b[39;00m\n\u001b[32m    497\u001b[39m \u001b[33;03musing the model's existing classify_dataset method.\u001b[39;00m\n\u001b[32m   (...)\u001b[39m\u001b[32m    504\u001b[39m \u001b[33;03m    float: The AUC score\u001b[39;00m\n\u001b[32m    505\u001b[39m \u001b[33;03m\"\"\"\u001b[39;00m\n\u001b[32m    506\u001b[39m \u001b[38;5;66;03m# Get predictions using the existing helper function\u001b[39;00m\n\u001b[32m--> \u001b[39m\u001b[32m507\u001b[39m results = \u001b[38;5;28;43mself\u001b[39;49m\u001b[43m.\u001b[49m\u001b[43mclassify_dataset\u001b[49m\u001b[43m(\u001b[49m\u001b[43mdataloader\u001b[49m\u001b[43m)\u001b[49m\n\u001b[32m    509\u001b[39m \u001b[38;5;66;03m# Extract image indices, real probabilities, and Van Gogh probabilities\u001b[39;00m\n\u001b[32m    510\u001b[39m image_indices = [r[\u001b[32m0\u001b[39m] \u001b[38;5;28;01mfor\u001b[39;00m r \u001b[38;5;129;01min\u001b[39;00m results]\n",
            "\u001b[36mCell\u001b[39m\u001b[36m \u001b[39m\u001b[32mIn[16]\u001b[39m\u001b[32m, line 484\u001b[39m, in \u001b[36mGAN.classify_dataset\u001b[39m\u001b[34m(self, dataloader)\u001b[39m\n\u001b[32m    482\u001b[39m \u001b[38;5;28;01mwith\u001b[39;00m torch.no_grad():\n\u001b[32m    483\u001b[39m     \u001b[38;5;28;01mfor\u001b[39;00m i, (images, _) \u001b[38;5;129;01min\u001b[39;00m \u001b[38;5;28menumerate\u001b[39m(tqdm(dataloader, desc=\u001b[33m\"\u001b[39m\u001b[33mClassifying images\u001b[39m\u001b[33m\"\u001b[39m)):\n\u001b[32m--> \u001b[39m\u001b[32m484\u001b[39m         images = \u001b[43mimages\u001b[49m\u001b[43m.\u001b[49m\u001b[43mto\u001b[49m\u001b[43m(\u001b[49m\u001b[38;5;28;43mself\u001b[39;49m\u001b[43m.\u001b[49m\u001b[43mdevice\u001b[49m\u001b[43m)\u001b[49m               \n\u001b[32m    485\u001b[39m         vg_preds= \u001b[38;5;28mself\u001b[39m.discriminator(images)\n\u001b[32m    486\u001b[39m         vg_probs = torch.sigmoid(vg_preds).cpu().numpy()\n",
            "\u001b[31mRuntimeError\u001b[39m: CUDA error: device-side assert triggered\nCUDA kernel errors might be asynchronously reported at some other API call, so the stacktrace below might be incorrect.\nFor debugging consider passing CUDA_LAUNCH_BLOCKING=1\nCompile with `TORCH_USE_CUDA_DSA` to enable device-side assertions.\n"
          ]
        }
      ],
      "source": [
        "VGgan.plot_van_gogh_auc_curve(VGtestdataloader)"
      ]
    }
  ],
  "metadata": {
    "colab": {
      "provenance": [],
      "gpuType": "T4",
      "include_colab_link": true
    },
    "kernelspec": {
      "display_name": "Python 3",
      "name": "python3"
    },
    "language_info": {
      "codemirror_mode": {
        "name": "ipython",
        "version": 3
      },
      "file_extension": ".py",
      "mimetype": "text/x-python",
      "name": "python",
      "nbconvert_exporter": "python",
      "pygments_lexer": "ipython3",
      "version": "3.11.9"
    },
    "accelerator": "GPU"
  },
  "nbformat": 4,
  "nbformat_minor": 0
}